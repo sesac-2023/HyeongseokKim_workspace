{
 "cells": [
  {
   "cell_type": "code",
   "execution_count": 3,
   "metadata": {},
   "outputs": [],
   "source": [
    "with open('./test.csv', 'w') as f:\n",
    "    f.write('33442, 3333\\n')"
   ]
  },
  {
   "cell_type": "code",
   "execution_count": 4,
   "metadata": {},
   "outputs": [],
   "source": [
    "with open('./test.csv', 'a') as f:\n",
    "    f.write('444, 1234, 135\\n')"
   ]
  },
  {
   "cell_type": "code",
   "execution_count": 5,
   "metadata": {},
   "outputs": [],
   "source": [
    "with open('./order.csv', 'w', encoding='utf-8') as f:\n",
    "    f.write('고객명, 상품명, 수량, 금액 \\n')"
   ]
  },
  {
   "cell_type": "code",
   "execution_count": 6,
   "metadata": {},
   "outputs": [],
   "source": [
    "with open('./order.csv', 'a', encoding='utf-8') as f:\n",
    "    f.write('김형석, 신발, 1, 50,000 \\n')"
   ]
  },
  {
   "cell_type": "code",
   "execution_count": 8,
   "metadata": {},
   "outputs": [],
   "source": [
    "with open('./order.csv', 'r', encoding='utf-8') as f:\n",
    "    read_str=f.read()"
   ]
  },
  {
   "cell_type": "code",
   "execution_count": 10,
   "metadata": {},
   "outputs": [
    {
     "data": {
      "text/plain": [
       "[['고객명', ' 상품명', ' 수량', ' 금액 '], ['김형석', ' 신발', ' 1', ' 50', '000 ']]"
      ]
     },
     "execution_count": 10,
     "metadata": {},
     "output_type": "execute_result"
    }
   ],
   "source": [
    "[l.split(',') for l in read_str.split('\\n') if l]"
   ]
  },
  {
   "cell_type": "code",
   "execution_count": 11,
   "metadata": {},
   "outputs": [],
   "source": [
    "with open('./order.csv', 'r', encoding='utf-8') as f:\n",
    "    read_str_1=f.readline()"
   ]
  },
  {
   "cell_type": "code",
   "execution_count": 12,
   "metadata": {},
   "outputs": [
    {
     "data": {
      "text/plain": [
       "'고객명, 상품명, 수량, 금액 \\n'"
      ]
     },
     "execution_count": 12,
     "metadata": {},
     "output_type": "execute_result"
    }
   ],
   "source": [
    "read_str_1"
   ]
  },
  {
   "cell_type": "code",
   "execution_count": 22,
   "metadata": {},
   "outputs": [],
   "source": [
    "with open('./실습2/csv_files/2017.01.csv', 'r', encoding='cp949') as f:\n",
    "    read_csv=f.read()"
   ]
  },
  {
   "cell_type": "code",
   "execution_count": 23,
   "metadata": {},
   "outputs": [
    {
     "data": {
      "text/plain": [
       "'수강생명,수강금액,상담날짜,강좌명\\n배찬우,900000,2017.10.10,파이썬 자동화 강의\\n조윤장,820000,2017.10.11,파이썬 자동화 강의\\n김민우,720000,2017.10.02,파이썬 자동화 강의\\n이은철,910000,2017.10.12,파이썬 자동화 강의\\n정용운,900000,2017.10.09,파이썬 자동화 강의\\n윤순규,920000,2017.10.06,파이썬 자동화 강의\\n이창희,620000,2017.10.08,파이썬 자동화 강의\\n정택호,540000,2017.10.17,파이썬 자동화 강의\\n양영주,230000,2017.10.02,파이썬 자동화 강의\\n권민재,680000,2017.10.29,파이썬 자동화 강의\\n'"
      ]
     },
     "execution_count": 23,
     "metadata": {},
     "output_type": "execute_result"
    }
   ],
   "source": [
    "read_csv"
   ]
  },
  {
   "cell_type": "code",
   "execution_count": 15,
   "metadata": {},
   "outputs": [],
   "source": [
    "import os\n",
    "import shutil"
   ]
  },
  {
   "cell_type": "code",
   "execution_count": 16,
   "metadata": {},
   "outputs": [],
   "source": [
    "CSV_DIR = './실습2/csv_files/'\n",
    "csv_files=os.listdir(CSV_DIR)"
   ]
  },
  {
   "cell_type": "code",
   "execution_count": 17,
   "metadata": {},
   "outputs": [
    {
     "data": {
      "text/plain": [
       "['2017.01.csv',\n",
       " '2017.02.csv',\n",
       " '2017.03.csv',\n",
       " '2017.04.csv',\n",
       " '2017.05.csv',\n",
       " '2017.06.csv',\n",
       " '2017.07.csv',\n",
       " '2017.08.csv',\n",
       " '2017.09.csv',\n",
       " '2017.10.csv',\n",
       " '2017.11.csv',\n",
       " '2017.12.csv']"
      ]
     },
     "execution_count": 17,
     "metadata": {},
     "output_type": "execute_result"
    }
   ],
   "source": [
    "csv_files"
   ]
  },
  {
   "cell_type": "code",
   "execution_count": 18,
   "metadata": {},
   "outputs": [],
   "source": [
    "sell_data=[]\n",
    "for cf in csv_files:\n",
    "    datas = open(CSV_DIR + cf, 'r', encoding='cp949').readlines()\n",
    "    summation =0\n",
    "    for l in datas[1:]:\n",
    "        money = int(l.split(',')[1])\n",
    "        summation += money\n",
    "    \n",
    "    year, month, _ = cf.split('.')\n",
    "\n",
    "    sell_data.append([year, month, summation])"
   ]
  },
  {
   "cell_type": "code",
   "execution_count": 19,
   "metadata": {},
   "outputs": [],
   "source": [
    "with open(CSV_DIR+'../total.csv', 'w', encoding='utf-8') as f:\n",
    "    f.write('연도,월,매출\\n')\n",
    "\n",
    "    for sd in sell_data:\n",
    "        f.write(','.join(map(str, sd))+'\\n')"
   ]
  },
  {
   "cell_type": "code",
   "execution_count": null,
   "metadata": {},
   "outputs": [],
   "source": []
  }
 ],
 "metadata": {
  "kernelspec": {
   "display_name": "base",
   "language": "python",
   "name": "python3"
  },
  "language_info": {
   "codemirror_mode": {
    "name": "ipython",
    "version": 3
   },
   "file_extension": ".py",
   "mimetype": "text/x-python",
   "name": "python",
   "nbconvert_exporter": "python",
   "pygments_lexer": "ipython3",
   "version": "3.9.13"
  },
  "orig_nbformat": 4
 },
 "nbformat": 4,
 "nbformat_minor": 2
}
