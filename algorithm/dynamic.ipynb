{
 "cells": [
  {
   "attachments": {},
   "cell_type": "markdown",
   "metadata": {},
   "source": [
    "Dynamic Programming(Fibonacci)"
   ]
  },
  {
   "cell_type": "code",
   "execution_count": 10,
   "metadata": {},
   "outputs": [
    {
     "data": {
      "text/plain": [
       "[1, 1, 2, 3, 5, 8, 13, 21, 34, 55, 89]"
      ]
     },
     "execution_count": 10,
     "metadata": {},
     "output_type": "execute_result"
    }
   ],
   "source": [
    "fibo_list =[1, 1]\n",
    "target=int(input(\"몇번째 항까지 피보나치 수열을 만들고 싶니?:\")) \n",
    "for n in range(2, target+1):\n",
    "    fibo_list.append(fibo_list[n-2]+fibo_list[n-1])\n",
    "\n",
    "fibo_list #10번째 항까지 출력"
   ]
  },
  {
   "attachments": {},
   "cell_type": "markdown",
   "metadata": {},
   "source": [
    "정수삼각형"
   ]
  },
  {
   "cell_type": "code",
   "execution_count": 32,
   "metadata": {},
   "outputs": [],
   "source": [
    "def solution(tri):\n",
    "    n = len(tri)\n",
    "    tri_sum_lst = [[0]*n for _ in range(n)]\n",
    "    tri_sum_lst[0][0] =tri[0][0]\n",
    "\n",
    "    for i in range(1, n):\n",
    "        for j in range(len(tri[i])):\n",
    "            if j==0:\n",
    "                tri_sum_lst[i][j] = tri_sum_lst[i-1][0] +tri[i][0]\n",
    "            elif i==j:\n",
    "                tri_sum_lst[i][j] = tri_sum_lst[i-1][j-1] +tri[i][j]\n",
    "            else:\n",
    "                tri_sum_lst[i][j] = max(tri[i][j] + tri_sum_lst[i-1][j-1],tri[i][j] + tri_sum_lst[i-1][j])\n",
    "    \n",
    "    print(tri_sum_lst)\n",
    "    return max(tri_sum_lst[-1])"
   ]
  },
  {
   "cell_type": "code",
   "execution_count": 33,
   "metadata": {},
   "outputs": [
    {
     "name": "stdout",
     "output_type": "stream",
     "text": [
      "[[7, 0, 0, 0, 0], [10, 15, 0, 0, 0], [18, 16, 15, 0, 0], [20, 25, 20, 19, 0], [24, 30, 27, 26, 24]]\n"
     ]
    },
    {
     "data": {
      "text/plain": [
       "30"
      ]
     },
     "execution_count": 33,
     "metadata": {},
     "output_type": "execute_result"
    }
   ],
   "source": [
    "solution([[7], [3, 8], [8, 1, 0], [2, 7, 4, 4], [4, 5, 2, 6, 5]])"
   ]
  },
  {
   "cell_type": "code",
   "execution_count": 34,
   "metadata": {},
   "outputs": [
    {
     "name": "stdout",
     "output_type": "stream",
     "text": [
      "[[2, 0, 0, 0, 0, 0], [7, 9, 0, 0, 0, 0], [10, 18, 13, 0, 0, 0], [11, 25, 18, 15, 0, 0], [14, 30, 30, 18, 24, 0], [15, 37, 32, 30, 24, 27]]\n"
     ]
    },
    {
     "data": {
      "text/plain": [
       "37"
      ]
     },
     "execution_count": 34,
     "metadata": {},
     "output_type": "execute_result"
    }
   ],
   "source": [
    "solution([[2], [5, 7], [3, 9, 4], [1, 7, 0, 2], [3, 5, 5, 0, 9], [1, 7, 2, 0, 0, 3]])"
   ]
  },
  {
   "cell_type": "code",
   "execution_count": null,
   "metadata": {},
   "outputs": [],
   "source": []
  }
 ],
 "metadata": {
  "kernelspec": {
   "display_name": "base",
   "language": "python",
   "name": "python3"
  },
  "language_info": {
   "codemirror_mode": {
    "name": "ipython",
    "version": 3
   },
   "file_extension": ".py",
   "mimetype": "text/x-python",
   "name": "python",
   "nbconvert_exporter": "python",
   "pygments_lexer": "ipython3",
   "version": "3.9.13"
  },
  "orig_nbformat": 4
 },
 "nbformat": 4,
 "nbformat_minor": 2
}
