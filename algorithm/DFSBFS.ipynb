{
 "cells": [
  {
   "attachments": {},
   "cell_type": "markdown",
   "metadata": {},
   "source": [
    "DFS/BFS"
   ]
  },
  {
   "cell_type": "code",
   "execution_count": 1,
   "metadata": {},
   "outputs": [],
   "source": [
    "input_text=\"\"\"4 5\n",
    "00110\n",
    "00011\n",
    "11111\n",
    "00000\n",
    "\"\"\""
   ]
  },
  {
   "cell_type": "code",
   "execution_count": 4,
   "metadata": {},
   "outputs": [
    {
     "data": {
      "text/plain": [
       "['4 5', '00110', '00011', '11111', '00000', '']"
      ]
     },
     "execution_count": 4,
     "metadata": {},
     "output_type": "execute_result"
    }
   ],
   "source": [
    "input_list=input_text.split('\\n')\n",
    "input_list"
   ]
  },
  {
   "cell_type": "code",
   "execution_count": 6,
   "metadata": {},
   "outputs": [
    {
     "data": {
      "text/plain": [
       "('4', '5')"
      ]
     },
     "execution_count": 6,
     "metadata": {},
     "output_type": "execute_result"
    }
   ],
   "source": [
    "N,M=input_list[0].split()\n",
    "N,M"
   ]
  },
  {
   "cell_type": "code",
   "execution_count": 9,
   "metadata": {},
   "outputs": [
    {
     "data": {
      "text/plain": [
       "(4, 5)"
      ]
     },
     "execution_count": 9,
     "metadata": {},
     "output_type": "execute_result"
    }
   ],
   "source": [
    "N,M = map(int, input_list[0].split())\n",
    "N,M"
   ]
  },
  {
   "cell_type": "code",
   "execution_count": 13,
   "metadata": {},
   "outputs": [
    {
     "name": "stdout",
     "output_type": "stream",
     "text": [
      "00110\n",
      "00011\n",
      "11111\n",
      "00000\n"
     ]
    },
    {
     "data": {
      "text/plain": [
       "[[0, 0, 1, 1, 0], [0, 0, 0, 1, 1], [1, 1, 1, 1, 1], [0, 0, 0, 0, 0]]"
      ]
     },
     "execution_count": 13,
     "metadata": {},
     "output_type": "execute_result"
    }
   ],
   "source": [
    "ice_map=[]\n",
    "for i in range(N):\n",
    "    print(input_list[i+1])\n",
    "    ice_map.append(list(map(int, input_list[i+1])))\n",
    "ice_map"
   ]
  },
  {
   "cell_type": "code",
   "execution_count": 14,
   "metadata": {},
   "outputs": [
    {
     "data": {
      "text/plain": [
       "[0, 0, 0, 0, 0]"
      ]
     },
     "execution_count": 14,
     "metadata": {},
     "output_type": "execute_result"
    }
   ],
   "source": [
    "line=[]\n",
    "for block in '00000':\n",
    "    line.append(int(block))\n",
    "line"
   ]
  },
  {
   "cell_type": "code",
   "execution_count": 15,
   "metadata": {},
   "outputs": [
    {
     "data": {
      "text/plain": [
       "[[0, 0, 1, 1, 0], [0, 0, 0, 1, 1], [1, 1, 1, 1, 1], [0, 0, 0, 0, 0]]"
      ]
     },
     "execution_count": 15,
     "metadata": {},
     "output_type": "execute_result"
    }
   ],
   "source": [
    "ice_map=[]\n",
    "for i in range(N):\n",
    "    line = []\n",
    "    for block in input_list[i+1]:\n",
    "        line.append(int(block))\n",
    "    ice_map.append(list(map(int, input_list[i+1])))\n",
    "ice_map"
   ]
  },
  {
   "attachments": {},
   "cell_type": "markdown",
   "metadata": {},
   "source": [
    "얼음 만들기"
   ]
  },
  {
   "cell_type": "code",
   "execution_count": 19,
   "metadata": {},
   "outputs": [],
   "source": [
    "input_text=\"\"\"4 5\n",
    "00110\n",
    "00011\n",
    "11111\n",
    "00000\n",
    "\"\"\""
   ]
  },
  {
   "cell_type": "code",
   "execution_count": 18,
   "metadata": {},
   "outputs": [
    {
     "name": "stdout",
     "output_type": "stream",
     "text": [
      "4 5\n",
      "00110\n",
      "00011\n",
      "11111\n",
      "00000\n",
      "\n"
     ]
    }
   ],
   "source": [
    "print(input_text)"
   ]
  },
  {
   "cell_type": "code",
   "execution_count": 20,
   "metadata": {},
   "outputs": [
    {
     "data": {
      "text/plain": [
       "(4, 5)"
      ]
     },
     "execution_count": 20,
     "metadata": {},
     "output_type": "execute_result"
    }
   ],
   "source": [
    "input_list=input_text.split('\\n')\n",
    "N,M = map(int, input_list[0].split())\n",
    "N,M"
   ]
  },
  {
   "cell_type": "code",
   "execution_count": 21,
   "metadata": {},
   "outputs": [
    {
     "data": {
      "text/plain": [
       "[[0, 0, 1, 1, 0], [0, 0, 0, 1, 1], [1, 1, 1, 1, 1], [0, 0, 0, 0, 0]]"
      ]
     },
     "execution_count": 21,
     "metadata": {},
     "output_type": "execute_result"
    }
   ],
   "source": [
    "ice_map=[]\n",
    "for i in range(N):\n",
    "    ice_map.append(list(map(int, input_list[i+1])))\n",
    "ice_map"
   ]
  },
  {
   "cell_type": "code",
   "execution_count": 22,
   "metadata": {},
   "outputs": [
    {
     "data": {
      "text/plain": [
       "[[0, 0, 0, 0, 0], [0, 0, 0, 0, 0], [0, 0, 0, 0, 0], [0, 0, 0, 0, 0]]"
      ]
     },
     "execution_count": 22,
     "metadata": {},
     "output_type": "execute_result"
    }
   ],
   "source": [
    "# 물을 담지 않았으면 0, 담았으면 1\n",
    "visited=[[0]*M for _ in range(N)] # 물을 담았는지, 안담았는지\n",
    "visited"
   ]
  },
  {
   "cell_type": "code",
   "execution_count": 23,
   "metadata": {},
   "outputs": [],
   "source": [
    "stack = [(0,0)] # 시작위치(원래는 체크해야함)"
   ]
  },
  {
   "cell_type": "code",
   "execution_count": 26,
   "metadata": {},
   "outputs": [
    {
     "name": "stdout",
     "output_type": "stream",
     "text": [
      "현재 위치: [0, 0]\n",
      "[1, 1, 0, 0, 0]\n",
      "[1, 1, 1, 0, 0]\n",
      "[0, 0, 0, 0, 0]\n",
      "[0, 0, 0, 0, 0]\n",
      "현재 위치: [0, 4]\n",
      "[1, 1, 0, 0, 1]\n",
      "[1, 1, 1, 0, 0]\n",
      "[0, 0, 0, 0, 0]\n",
      "[0, 0, 0, 0, 0]\n",
      "현재 위치: [3, 0]\n",
      "[1, 1, 0, 0, 1]\n",
      "[1, 1, 1, 0, 0]\n",
      "[0, 0, 0, 0, 0]\n",
      "[1, 1, 1, 1, 1]\n",
      "3\n"
     ]
    }
   ],
   "source": [
    "def dfs(stack):    \n",
    "    while stack: # 다음 가야할 위치가 있는 동안만,\n",
    "        pos=stack.pop() # 다음위치를 꺼내준다.\n",
    "        # 체크사항\n",
    "        # 1.물을 넣을 수 있는지\n",
    "        # 2.이미 방문한 곳은 아닌지\n",
    "        i, j=pos\n",
    "        if ice_map[i][j] == 0 and visited[i][j] == 0:\n",
    "            visited[i][j] = 1 # 물부터 담기\n",
    "\n",
    "            # 그 다음 위치를 탐색\n",
    "            # case1 : 위로 간다고 할 때\n",
    "            # case2: 아래로 간다고 할 때\n",
    "            # case3: 왼쪽으로 간다고 할 때\n",
    "            # case4: 오른쪽으로 간다고 할 때\n",
    "            move_dirs = [(-1,0), (1,0), (0,-1), (0,1)]\n",
    "            for move_dir in move_dirs:\n",
    "                next_pos = i+move_dir[0], j+move_dir[1]\n",
    "\n",
    "                # 체크사항\n",
    "                # 1.틀을 벗어나지 않았는지\n",
    "                # 2.이미 방문하지 않았는지\n",
    "                # 3.벽인지 아닌지\n",
    "                if -1< next_pos[0] <N and -1< next_pos[1] <M and\\\n",
    "                    visited[next_pos[0]][next_pos[1]] == 0 and ice_map[next_pos[0]][next_pos[1]] == 0:\n",
    "                    stack.append(next_pos)\n",
    "\n",
    "# 물을 담지 않았으면 0, 담았으면 1\n",
    "visited=[[0]*M for _ in range(N)] # 물을 담았는지, 안담았는지\n",
    "answer = 0\n",
    "for i in range(N): # i \n",
    "    for j in range(M): # j\n",
    "        # 다음 갈 수 있는 곳을 탐색\n",
    "        if visited[i][j] == 0 and ice_map[i][j] == 0:\n",
    "            stack = [(i, j)]\n",
    "            dfs(stack) \n",
    "            print('현재 위치:', str([i, j]))\n",
    "            [print(ice) for ice in visited]\n",
    "            answer += 1\n",
    "\n",
    "print(answer)\n"
   ]
  },
  {
   "cell_type": "code",
   "execution_count": null,
   "metadata": {},
   "outputs": [],
   "source": []
  }
 ],
 "metadata": {
  "kernelspec": {
   "display_name": "base",
   "language": "python",
   "name": "python3"
  },
  "language_info": {
   "codemirror_mode": {
    "name": "ipython",
    "version": 3
   },
   "file_extension": ".py",
   "mimetype": "text/x-python",
   "name": "python",
   "nbconvert_exporter": "python",
   "pygments_lexer": "ipython3",
   "version": "3.9.13"
  },
  "orig_nbformat": 4
 },
 "nbformat": 4,
 "nbformat_minor": 2
}
