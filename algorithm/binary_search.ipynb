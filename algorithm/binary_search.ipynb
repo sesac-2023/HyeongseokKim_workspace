{
 "cells": [
  {
   "attachments": {},
   "cell_type": "markdown",
   "metadata": {},
   "source": [
    "이진탐색"
   ]
  },
  {
   "cell_type": "code",
   "execution_count": 12,
   "metadata": {},
   "outputs": [],
   "source": [
    "def binary_search(target_val, start_idx, end_idx, array):\n",
    "    # 1. start_idx가 end_idx보다 큰 경우 못찾았다는 것\n",
    "    print('종료조건?', start_idx, end_idx)\n",
    "    if start_idx > end_idx:\n",
    "        return -1\n",
    "    \n",
    "    # 2.mid_idx 계산\n",
    "    mid_idx=(start_idx + end_idx) //2\n",
    "\n",
    "    #중앙값이 목표값이랑 같은 경우\n",
    "    mid_val = array[mid_idx]\n",
    "\n",
    "    print('현재 탐색 범위:',  start_idx, end_idx, mid_val)\n",
    "    \n",
    "    if mid_val == target_val:\n",
    "        return mid_idx #해당 인덱스 반환\n",
    "    #목표값이 중앙값보다 작은 경우\n",
    "    elif target_val < mid_val:\n",
    "        return binary_search(target_val, start_idx,mid_idx-1 ,array)\n",
    "    # 목표값이 중앙값보다 큰 경우\n",
    "    else:\n",
    "        return binary_search(target_val, mid_idx+1, end_idx ,array)"
   ]
  },
  {
   "cell_type": "code",
   "execution_count": 13,
   "metadata": {},
   "outputs": [
    {
     "name": "stdout",
     "output_type": "stream",
     "text": [
      "종료조건? 0 99\n",
      "현재 탐색 범위: 0 99 49\n",
      "종료조건? 50 99\n",
      "현재 탐색 범위: 50 99 74\n",
      "종료조건? 50 73\n",
      "현재 탐색 범위: 50 73 61\n",
      "종료조건? 62 73\n",
      "현재 탐색 범위: 62 73 67\n",
      "종료조건? 68 73\n",
      "현재 탐색 범위: 68 73 70\n",
      "종료조건? 71 73\n",
      "현재 탐색 범위: 71 73 72\n"
     ]
    },
    {
     "data": {
      "text/plain": [
       "72"
      ]
     },
     "execution_count": 13,
     "metadata": {},
     "output_type": "execute_result"
    }
   ],
   "source": [
    "temp = list(range(100)) # 정렬된 배열\n",
    "target_val= 72 # 내가 찾는 값\n",
    "idx=binary_search(target_val, 0, len(temp)-1, temp)# 찾았을 때의 인덱스\n",
    "idx"
   ]
  },
  {
   "cell_type": "code",
   "execution_count": 3,
   "metadata": {},
   "outputs": [
    {
     "data": {
      "text/plain": [
       "72"
      ]
     },
     "execution_count": 3,
     "metadata": {},
     "output_type": "execute_result"
    }
   ],
   "source": [
    "temp[72]"
   ]
  },
  {
   "cell_type": "code",
   "execution_count": null,
   "metadata": {},
   "outputs": [],
   "source": []
  }
 ],
 "metadata": {
  "kernelspec": {
   "display_name": "base",
   "language": "python",
   "name": "python3"
  },
  "language_info": {
   "codemirror_mode": {
    "name": "ipython",
    "version": 3
   },
   "file_extension": ".py",
   "mimetype": "text/x-python",
   "name": "python",
   "nbconvert_exporter": "python",
   "pygments_lexer": "ipython3",
   "version": "3.9.13"
  },
  "orig_nbformat": 4
 },
 "nbformat": 4,
 "nbformat_minor": 2
}
