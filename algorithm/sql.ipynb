{
 "cells": [
  {
   "cell_type": "code",
   "execution_count": 2,
   "metadata": {},
   "outputs": [
    {
     "name": "stdout",
     "output_type": "stream",
     "text": [
      "Requirement already satisfied: pymysql in c:\\users\\user\\anaconda3\\lib\\site-packages (1.1.0)\n",
      "Note: you may need to restart the kernel to use updated packages.\n"
     ]
    }
   ],
   "source": [
    "%pip install pymysql"
   ]
  },
  {
   "cell_type": "code",
   "execution_count": 2,
   "metadata": {},
   "outputs": [],
   "source": [
    "import pymysql"
   ]
  },
  {
   "cell_type": "code",
   "execution_count": 16,
   "metadata": {},
   "outputs": [],
   "source": [
    "def read_config(p:str)->dict:\n",
    "    with open(p, 'r') as f:\n",
    "        config=f.readlines()\n",
    "    config_dict={}\n",
    "\n",
    "    for l in config:\n",
    "        idx =l.index('=')\n",
    "        k=l[:idx] \n",
    "        v=l[idx+1:]\n",
    "        config_dict[k]=v.rstrip()\n",
    "    return config_dict"
   ]
  },
  {
   "cell_type": "code",
   "execution_count": 18,
   "metadata": {},
   "outputs": [],
   "source": [
    "db_config=read_config('./db_config')"
   ]
  },
  {
   "cell_type": "code",
   "execution_count": 28,
   "metadata": {},
   "outputs": [],
   "source": [
    "with conn.cursor() as cursor:\n",
    "    sql ='INSERT INTO `Students`(`Name`, `Age`, `Address`)\\\n",
    "        VALUES (%s, %s, %s)'\n",
    "    cursor.execute(sql, (\"김예손\", \"29\", \"서울\"))\n",
    "conn.commit()"
   ]
  },
  {
   "cell_type": "code",
   "execution_count": 33,
   "metadata": {},
   "outputs": [],
   "source": [
    "with conn.cursor() as cursor:\n",
    "    sql ='DELETE FROM `Students` WHERE `StudentID`=%s'\n",
    "    cursor.execute(sql, (8,))\n",
    "conn.commit()"
   ]
  },
  {
   "cell_type": "code",
   "execution_count": 49,
   "metadata": {},
   "outputs": [
    {
     "data": {
      "text/plain": [
       "((1, '홍길동', 30, '인천'),\n",
       " (2, '이연걸', 60, '서울'),\n",
       " (3, '이몽룡', 42, '대전'),\n",
       " (4, '성춘향', 27, '경기'),\n",
       " (5, '김형석', 32, '서울'))"
      ]
     },
     "execution_count": 49,
     "metadata": {},
     "output_type": "execute_result"
    }
   ],
   "source": [
    "with conn.cursor() as cursor:\n",
    "    sql = 'SELECT * FROM `Students` LIMIT %s OFFSET %s' \n",
    "    cursor.execute(sql, (5,0)) \n",
    "    result = cursor.fetchall()\n",
    "\n",
    "result"
   ]
  },
  {
   "cell_type": "code",
   "execution_count": 69,
   "metadata": {},
   "outputs": [],
   "source": [
    "def pagination(page, page_size=5):\n",
    "    limit = page_size\n",
    "    offset=page-1\n",
    "\n",
    "    with conn.cursor() as cursor:\n",
    "        sql = 'SELECT * FROM `Students` LIMIT %s OFFSET %s' \n",
    "        cursor.execute(sql, (limit,offset)) \n",
    "        result = cursor.fetchall()\n",
    "\n",
    "    return result"
   ]
  },
  {
   "cell_type": "code",
   "execution_count": 70,
   "metadata": {},
   "outputs": [
    {
     "data": {
      "text/plain": [
       "((1, '홍길동', 30, '인천'),\n",
       " (2, '이연걸', 60, '서울'),\n",
       " (3, '이몽룡', 42, '대전'),\n",
       " (4, '성춘향', 27, '경기'),\n",
       " (5, '김형석', 32, '서울'))"
      ]
     },
     "execution_count": 70,
     "metadata": {},
     "output_type": "execute_result"
    }
   ],
   "source": [
    "pagination(1)"
   ]
  },
  {
   "cell_type": "code",
   "execution_count": 71,
   "metadata": {},
   "outputs": [
    {
     "data": {
      "text/plain": [
       "((2, '이연걸', 60, '서울'),\n",
       " (3, '이몽룡', 42, '대전'),\n",
       " (4, '성춘향', 27, '경기'),\n",
       " (5, '김형석', 32, '서울'),\n",
       " (6, 'JASON', 36, '서울'))"
      ]
     },
     "execution_count": 71,
     "metadata": {},
     "output_type": "execute_result"
    }
   ],
   "source": [
    "pagination(2)"
   ]
  },
  {
   "cell_type": "code",
   "execution_count": 73,
   "metadata": {},
   "outputs": [],
   "source": [
    "with conn.cursor() as cursor:\n",
    "    sql ='INSERT INTO `student`(`name`, `email`, `phone`, `major`)\\\n",
    "        VALUES (%s, %s, %s, %s)'\n",
    "    cursor.execute(sql, (\"김형석\", \"hyungsuk0815@gmail.com\", \"010-9605-1672\", \"수학\"))\n",
    "conn.commit()"
   ]
  },
  {
   "cell_type": "code",
   "execution_count": 87,
   "metadata": {},
   "outputs": [],
   "source": [
    "with conn.cursor() as cursor:\n",
    "    sql ='INSERT INTO `student`(`name`) VALUES (%s)'\n",
    "    cursor.execute(sql, (\"손준현\"))\n",
    "conn.commit()"
   ]
  },
  {
   "cell_type": "code",
   "execution_count": 91,
   "metadata": {},
   "outputs": [],
   "source": [
    "with conn.cursor() as cursor:\n",
    "    sql = 'UPDATE `student` SET `major`=%s WHERE `id`=%s' \n",
    "    cursor.execute(sql, (\"산업공학\", 6))\n",
    "    conn.commit()"
   ]
  },
  {
   "cell_type": "code",
   "execution_count": 92,
   "metadata": {},
   "outputs": [],
   "source": [
    "with conn.cursor() as cursor:\n",
    "    sql ='DELETE FROM `student` WHERE `ID`=%s'\n",
    "    cursor.execute(sql, (5,))\n",
    "conn.commit()"
   ]
  },
  {
   "cell_type": "code",
   "execution_count": 102,
   "metadata": {},
   "outputs": [],
   "source": [
    "def insert(table_name, columns, values):\n",
    "    with conn.cursor() as cursor:\n",
    "        sql ='INSERT INTO `{}`({}) VALUES ({})'.format(table_name, ','.join(columns), ','.join(['%s']*len(values)))\n",
    "        cursor.execute(sql, values)\n",
    "    result= conn.commit()\n",
    "    return result"
   ]
  },
  {
   "cell_type": "code",
   "execution_count": 145,
   "metadata": {},
   "outputs": [],
   "source": [
    "class MariaDB:\n",
    "    def __init__(self, host, user, password, database, charset, port=3306):\n",
    "        self.host=host\n",
    "        self.port=int(port)\n",
    "        self.conn=pymysql.connect(\n",
    "                                host=host,\n",
    "                                user=user,\n",
    "                                password=password,\n",
    "                                database=database,\n",
    "                                charset=charset,\n",
    "                                port=port)\n",
    "        return\n",
    "        \n",
    "\n",
    "    def insert(self, table_name, columns, values):\n",
    "        with self.conn.cursor() as cursor:\n",
    "            sql ='INSERT INTO `{}`({}) VALUES ({})'.format(table_name,\n",
    "                                                            ','.join(columns),\n",
    "                                                              ','.join(['%s']*len(values)))\n",
    "            cursor.execute(sql, values)\n",
    "        self.conn.commit()\n",
    "        return True\n",
    "    \n",
    "    def insert_many(self, table_name, columns, values):\n",
    "        with self.conn.cursor() as cursor:\n",
    "            sql ='INSERT INTO `{}`({}) VALUES ({})'.format(table_name,\n",
    "                                                            ','.join(columns),\n",
    "                                                              ','.join(['%s']*len(values[0])))\n",
    "            cursor.executemany(sql, values)\n",
    "        self.conn.commit()\n",
    "        return True\n",
    "    \n",
    "    def select(self, table_name, columns, page=None, page_size=10):\n",
    "        if page:\n",
    "            limit = page_size\n",
    "            offset = page_size*(page-1)\n",
    "            with self.conn.cursor() as cursor:\n",
    "                sql = 'SELECT {} FROM {} LIMIT %s OFFSET %s'.format(','.join(columns),\n",
    "                                                                     table_name) \n",
    "                cursor.execute(sql, (limit,offset)) \n",
    "                result = cursor.fetchall()\n",
    "        else:\n",
    "            with self.conn.cursor() as cursor:\n",
    "                sql = 'SELECT {} FROM {}'.format(','.join(columns),\n",
    "                                                table_name) \n",
    "                cursor.execute(sql) \n",
    "                result = cursor.fetchall()\n",
    "\n",
    "        return result\n",
    "    \n",
    "    def update(self, table_name, set_column, set_value, target_id):\n",
    "        with self.conn.cursor() as cursor:\n",
    "            sql = 'UPDATE {} SET {}=%s WHERE id={}'.format(table_name,\n",
    "                                                            set_column,\n",
    "                                                              target_id)\n",
    "            cursor.execute(sql, (set_value, ))\n",
    "        self.conn.commit()\n",
    "        return True"
   ]
  },
  {
   "cell_type": "code",
   "execution_count": 142,
   "metadata": {},
   "outputs": [],
   "source": [
    "db=MariaDB(**db_config)"
   ]
  }
 ],
 "metadata": {
  "kernelspec": {
   "display_name": "base",
   "language": "python",
   "name": "python3"
  },
  "language_info": {
   "codemirror_mode": {
    "name": "ipython",
    "version": 3
   },
   "file_extension": ".py",
   "mimetype": "text/x-python",
   "name": "python",
   "nbconvert_exporter": "python",
   "pygments_lexer": "ipython3",
   "version": "3.9.13"
  },
  "orig_nbformat": 4
 },
 "nbformat": 4,
 "nbformat_minor": 2
}
