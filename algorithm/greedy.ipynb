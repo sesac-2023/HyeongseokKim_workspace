{
 "cells": [
  {
   "attachments": {},
   "cell_type": "markdown",
   "metadata": {},
   "source": [
    "알고리즘 문제풀이를 위한 셋팅"
   ]
  },
  {
   "cell_type": "code",
   "execution_count": 1,
   "metadata": {},
   "outputs": [
    {
     "name": "stdout",
     "output_type": "stream",
     "text": [
      "hello world\n"
     ]
    }
   ],
   "source": [
    "print('hello world')"
   ]
  },
  {
   "cell_type": "code",
   "execution_count": 12,
   "metadata": {},
   "outputs": [],
   "source": [
    "def solution(N=1260):\n",
    "    answer=0\n",
    "    # 전체 로직\n",
    "    # 1. 가장 큰 단위의 동전으로 최대한 많이 거슬러 줄 수 있는 동전의 개수를 구한다.\n",
    "    now_coin=500\n",
    "    while N >=now_coin:\n",
    "        N -=now_coin\n",
    "        answer +=1\n",
    "    \n",
    "    print('---500원---')\n",
    "    print('남은 금액', N)\n",
    "    print('사용한 동전 개수', answer)\n",
    "    # 2. 그것을 정답에 더해주고, 남은 금액으로 1의 과정을 반복한다.\n",
    "    now_coin=100\n",
    "    while N >=now_coin:\n",
    "        N -=now_coin\n",
    "        answer +=1\n",
    "    \n",
    "    print('---100원---')\n",
    "    print('남은 금액', N)\n",
    "    print('사용한 동전 개수', answer)\n",
    "\n",
    "    now_coin=50\n",
    "    while N >=now_coin:\n",
    "        N -=now_coin\n",
    "        answer +=1\n",
    "    \n",
    "    print('---50원---')\n",
    "    print('남은 금액', N)\n",
    "    print('사용한 동전 개수', answer)\n",
    "    # 3. 10원까지 진행하고 정답을 반환\n",
    "    now_coin=10\n",
    "    while N >=now_coin:\n",
    "        N -=now_coin\n",
    "        answer +=1\n",
    "    \n",
    "    print('---10원---')\n",
    "    print('남은 금액', N)\n",
    "    print('사용한 동전 개수', answer)\n",
    "    return answer"
   ]
  },
  {
   "cell_type": "code",
   "execution_count": 14,
   "metadata": {},
   "outputs": [],
   "source": [
    "def solution(N=1260):\n",
    "    answer=0\n",
    "    coins=[500, 100, 50, 10]\n",
    "    # 전체 로직\n",
    "    for now_coin in coins:\n",
    "        answer += N // now_coin\n",
    "        N %= now_coin\n",
    "    \n",
    "        print(f'---{now_coin}원---')\n",
    "        print('남은 금액', N)\n",
    "        print('사용한 동전 개수', answer)\n",
    "       \n",
    "    return answer"
   ]
  },
  {
   "attachments": {},
   "cell_type": "markdown",
   "metadata": {},
   "source": [
    "TDD\n",
    "\n",
    "- 테스트 주도형 개발방식\n",
    "\n"
   ]
  },
  {
   "cell_type": "code",
   "execution_count": 16,
   "metadata": {},
   "outputs": [
    {
     "name": "stdout",
     "output_type": "stream",
     "text": [
      "---500원---\n",
      "남은 금액 260\n",
      "사용한 동전 개수 2\n",
      "---100원---\n",
      "남은 금액 60\n",
      "사용한 동전 개수 4\n",
      "---50원---\n",
      "남은 금액 10\n",
      "사용한 동전 개수 5\n",
      "---10원---\n",
      "남은 금액 0\n",
      "사용한 동전 개수 6\n",
      "테스트 성공\n"
     ]
    }
   ],
   "source": [
    "if solution(1260) == 6:\n",
    "    print('테스트 성공')\n",
    "else:\n",
    "    print('테스트실패')\n"
   ]
  },
  {
   "attachments": {},
   "cell_type": "markdown",
   "metadata": {},
   "source": [
    "소인수분해"
   ]
  },
  {
   "cell_type": "code",
   "execution_count": 20,
   "metadata": {},
   "outputs": [],
   "source": [
    "def factor(n):\n",
    "    2<=n<=10000 # 제한사항\n",
    "    lst = [] # 최초의 빈리스트\n",
    "    start_num = 2 \n",
    "    while True: # 반환값이 나오기 전까지 반복문 계속 반복\n",
    "        if n==1:\n",
    "            return lst # n이 더이상 나눠지지 않을 때 저장된 리스트 반환\n",
    "        elif n % start_num == 0: \n",
    "            n = n / start_num # start_num이 n의 약수인 경우 n에 n을 start_num으로 나눈 숫자 재할당\n",
    "            if start_num not in lst:\n",
    "                lst.append(start_num) #이 경우 start_num이 lst에 없으면 넣기\n",
    "        elif n % start_num != 0:\n",
    "                start_num += 1 # start_num이 n의 약수가 아닌 경우 start_num에 1을 더하기"
   ]
  },
  {
   "cell_type": "code",
   "execution_count": 21,
   "metadata": {},
   "outputs": [
    {
     "data": {
      "text/plain": [
       "[2, 3]"
      ]
     },
     "execution_count": 21,
     "metadata": {},
     "output_type": "execute_result"
    }
   ],
   "source": [
    "factor(12)"
   ]
  },
  {
   "cell_type": "code",
   "execution_count": 22,
   "metadata": {},
   "outputs": [
    {
     "data": {
      "text/plain": [
       "[17]"
      ]
     },
     "execution_count": 22,
     "metadata": {},
     "output_type": "execute_result"
    }
   ],
   "source": [
    "factor(17)"
   ]
  },
  {
   "cell_type": "code",
   "execution_count": 23,
   "metadata": {},
   "outputs": [
    {
     "data": {
      "text/plain": [
       "[2, 3, 5, 7]"
      ]
     },
     "execution_count": 23,
     "metadata": {},
     "output_type": "execute_result"
    }
   ],
   "source": [
    "factor(420)"
   ]
  },
  {
   "attachments": {},
   "cell_type": "markdown",
   "metadata": {},
   "source": [
    "분수의 덧셈"
   ]
  },
  {
   "cell_type": "code",
   "execution_count": 8,
   "metadata": {},
   "outputs": [],
   "source": [
    "def solution(numer1, denom1, numer2, denom2):\n",
    "    # 수도코드\n",
    "    # 분수의 덧셈\n",
    "    # 1. 분모를 통분한다.(분자 덧셈이 가능하도록)\n",
    "    denom=denom1*denom2 \n",
    "    # 2. 분모를 통분할 때 사용한 값을 각 분자에 곱해준다.\n",
    "    # 3. 분자를 더한다.\n",
    "    numer=numer1*denom2+numer2*denom1\n",
    "    # 기약분수\n",
    "    # 분자와 분모를 최대공약수로 나눠준다.\n",
    "    for i in range(1, min(numer,denom)+1):\n",
    "        if numer % i==0 and denom % i==0:\n",
    "            temp=i\n",
    "    answer = [numer//temp, denom//temp]\n",
    "    return answer"
   ]
  },
  {
   "cell_type": "code",
   "execution_count": 9,
   "metadata": {},
   "outputs": [
    {
     "data": {
      "text/plain": [
       "[5, 4]"
      ]
     },
     "execution_count": 9,
     "metadata": {},
     "output_type": "execute_result"
    }
   ],
   "source": [
    "solution(1,2,3,4)"
   ]
  },
  {
   "cell_type": "code",
   "execution_count": 10,
   "metadata": {},
   "outputs": [
    {
     "data": {
      "text/plain": [
       "[29, 6]"
      ]
     },
     "execution_count": 10,
     "metadata": {},
     "output_type": "execute_result"
    }
   ],
   "source": [
    "solution(9,2,1,3)"
   ]
  },
  {
   "cell_type": "code",
   "execution_count": null,
   "metadata": {},
   "outputs": [],
   "source": []
  }
 ],
 "metadata": {
  "kernelspec": {
   "display_name": "base",
   "language": "python",
   "name": "python3"
  },
  "language_info": {
   "codemirror_mode": {
    "name": "ipython",
    "version": 3
   },
   "file_extension": ".py",
   "mimetype": "text/x-python",
   "name": "python",
   "nbconvert_exporter": "python",
   "pygments_lexer": "ipython3",
   "version": "3.9.13"
  },
  "orig_nbformat": 4
 },
 "nbformat": 4,
 "nbformat_minor": 2
}
