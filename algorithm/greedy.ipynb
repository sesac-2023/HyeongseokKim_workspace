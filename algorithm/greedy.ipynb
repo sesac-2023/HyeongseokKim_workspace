{
 "cells": [
  {
   "attachments": {},
   "cell_type": "markdown",
   "metadata": {},
   "source": [
    "알고리즘 문제풀이를 위한 셋팅"
   ]
  },
  {
   "cell_type": "code",
   "execution_count": 1,
   "metadata": {},
   "outputs": [
    {
     "name": "stdout",
     "output_type": "stream",
     "text": [
      "hello world\n"
     ]
    }
   ],
   "source": [
    "print('hello world')"
   ]
  },
  {
   "cell_type": "code",
   "execution_count": 12,
   "metadata": {},
   "outputs": [],
   "source": [
    "def solution(N=1260):\n",
    "    answer=0\n",
    "    # 전체 로직\n",
    "    # 1. 가장 큰 단위의 동전으로 최대한 많이 거슬러 줄 수 있는 동전의 개수를 구한다.\n",
    "    now_coin=500\n",
    "    while N >=now_coin:\n",
    "        N -=now_coin\n",
    "        answer +=1\n",
    "    \n",
    "    print('---500원---')\n",
    "    print('남은 금액', N)\n",
    "    print('사용한 동전 개수', answer)\n",
    "    # 2. 그것을 정답에 더해주고, 남은 금액으로 1의 과정을 반복한다.\n",
    "    now_coin=100\n",
    "    while N >=now_coin:\n",
    "        N -=now_coin\n",
    "        answer +=1\n",
    "    \n",
    "    print('---100원---')\n",
    "    print('남은 금액', N)\n",
    "    print('사용한 동전 개수', answer)\n",
    "\n",
    "    now_coin=50\n",
    "    while N >=now_coin:\n",
    "        N -=now_coin\n",
    "        answer +=1\n",
    "    \n",
    "    print('---50원---')\n",
    "    print('남은 금액', N)\n",
    "    print('사용한 동전 개수', answer)\n",
    "    # 3. 10원까지 진행하고 정답을 반환\n",
    "    now_coin=10\n",
    "    while N >=now_coin:\n",
    "        N -=now_coin\n",
    "        answer +=1\n",
    "    \n",
    "    print('---10원---')\n",
    "    print('남은 금액', N)\n",
    "    print('사용한 동전 개수', answer)\n",
    "    return answer"
   ]
  },
  {
   "cell_type": "code",
   "execution_count": 14,
   "metadata": {},
   "outputs": [],
   "source": [
    "def solution(N=1260):\n",
    "    answer=0\n",
    "    coins=[500, 100, 50, 10]\n",
    "    # 전체 로직\n",
    "    for now_coin in coins:\n",
    "        answer += N // now_coin\n",
    "        N %= now_coin\n",
    "    \n",
    "        print(f'---{now_coin}원---')\n",
    "        print('남은 금액', N)\n",
    "        print('사용한 동전 개수', answer)\n",
    "       \n",
    "    return answer"
   ]
  },
  {
   "attachments": {},
   "cell_type": "markdown",
   "metadata": {},
   "source": [
    "TDD\n",
    "\n",
    "- 테스트 주도형 개발방식\n",
    "\n"
   ]
  },
  {
   "cell_type": "code",
   "execution_count": 16,
   "metadata": {},
   "outputs": [
    {
     "name": "stdout",
     "output_type": "stream",
     "text": [
      "---500원---\n",
      "남은 금액 260\n",
      "사용한 동전 개수 2\n",
      "---100원---\n",
      "남은 금액 60\n",
      "사용한 동전 개수 4\n",
      "---50원---\n",
      "남은 금액 10\n",
      "사용한 동전 개수 5\n",
      "---10원---\n",
      "남은 금액 0\n",
      "사용한 동전 개수 6\n",
      "테스트 성공\n"
     ]
    }
   ],
   "source": [
    "if solution(1260) == 6:\n",
    "    print('테스트 성공')\n",
    "else:\n",
    "    print('테스트실패')\n"
   ]
  },
  {
   "cell_type": "code",
   "execution_count": null,
   "metadata": {},
   "outputs": [],
   "source": []
  }
 ],
 "metadata": {
  "kernelspec": {
   "display_name": "base",
   "language": "python",
   "name": "python3"
  },
  "language_info": {
   "codemirror_mode": {
    "name": "ipython",
    "version": 3
   },
   "file_extension": ".py",
   "mimetype": "text/x-python",
   "name": "python",
   "nbconvert_exporter": "python",
   "pygments_lexer": "ipython3",
   "version": "3.9.13"
  },
  "orig_nbformat": 4
 },
 "nbformat": 4,
 "nbformat_minor": 2
}
