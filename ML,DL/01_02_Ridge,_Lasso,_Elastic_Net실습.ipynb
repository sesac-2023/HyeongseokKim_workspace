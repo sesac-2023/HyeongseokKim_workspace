{
  "cells": [
    {
      "cell_type": "markdown",
      "metadata": {
        "id": "view-in-github",
        "colab_type": "text"
      },
      "source": [
        "<a href=\"https://colab.research.google.com/github/HyeongseokKim/My_codes/blob/main/01_02_Ridge%2C_Lasso%2C_Elastic_Net%EC%8B%A4%EC%8A%B5.ipynb\" target=\"_parent\"><img src=\"https://colab.research.google.com/assets/colab-badge.svg\" alt=\"Open In Colab\"/></a>"
      ]
    },
    {
      "cell_type": "markdown",
      "metadata": {
        "id": "1FZo7uwArex3"
      },
      "source": [
        "# 2. Ridge Regression"
      ]
    },
    {
      "cell_type": "code",
      "execution_count": 1,
      "metadata": {
        "id": "h0zvPbOPrex6"
      },
      "outputs": [],
      "source": [
        "from sklearn.model_selection import train_test_split\n",
        "from sklearn.datasets import make_regression\n",
        "from sklearn.linear_model import Ridge\n",
        "# Ridge모델은 linear_model에서 Ridge로 불러올 수 있습니다."
      ]
    },
    {
      "cell_type": "code",
      "execution_count": 2,
      "metadata": {
        "id": "iKYiEx3Qrex-"
      },
      "outputs": [],
      "source": [
        "X_multi, y_multi = make_regression(n_samples = 1000, n_features = 30, bias = 10, noise = 50)\n",
        "X_train, X_test, y_train, y_test = train_test_split(X_multi, y_multi, test_size = 0.3, shuffle = True)"
      ]
    },
    {
      "cell_type": "code",
      "execution_count": 3,
      "metadata": {
        "id": "dnGae4AmreyB"
      },
      "outputs": [],
      "source": [
        "model_Ridge = Ridge().fit(X_train, y_train)"
      ]
    },
    {
      "cell_type": "code",
      "execution_count": 4,
      "metadata": {
        "colab": {
          "base_uri": "https://localhost:8080/"
        },
        "id": "Rux-_1eBreyD",
        "outputId": "8b5a695b-ffcf-4536-e90c-1810eec337fb",
        "scrolled": false
      },
      "outputs": [
        {
          "output_type": "stream",
          "name": "stdout",
          "text": [
            "weight : \n",
            "[ 1.41166828  1.95546833 -2.11047457 -0.86480872  2.46091899 17.28762833\n",
            " -0.99534689 33.08048165 86.38213889 -2.28250648  2.4155082  26.64691676\n",
            " -1.27751177 -2.73914326  3.34963559 -4.39604056 -1.4873565   3.71050719\n",
            "  8.06564626 -0.71506938 -2.54240679 82.74993026  1.88100438 64.93104658\n",
            " 85.86120429  3.03727326 27.58497482  2.41299547 85.2601768  -0.1918997 ]\n",
            "\n",
            "\n",
            "bias : \n",
            "11.244092384575385\n"
          ]
        }
      ],
      "source": [
        "print('weight : \\n{}\\n\\n'.format(model_Ridge.coef_))\n",
        "print('bias : \\n{}'.format(model_Ridge.intercept_))"
      ]
    },
    {
      "cell_type": "code",
      "execution_count": 5,
      "metadata": {
        "colab": {
          "base_uri": "https://localhost:8080/"
        },
        "id": "bn3eO5cp_Kt5",
        "outputId": "05a7c8dd-c6a3-45e9-f9ee-f10e089b0dae"
      },
      "outputs": [
        {
          "output_type": "execute_result",
          "data": {
            "text/plain": [
              "array([ 1.42334252,  1.96889342, -2.11405575, -0.87716145,  2.47121165,\n",
              "       17.31567583, -1.00212423, 33.12310887, 86.51306447, -2.27395274,\n",
              "        2.43153344, 26.68267089, -1.26672459, -2.73974113,  3.34590369,\n",
              "       -4.40643539, -1.5114737 ,  3.70590294,  8.08623247, -0.7107121 ,\n",
              "       -2.54465043, 82.85351639,  1.89563997, 65.01864419, 85.97856059,\n",
              "        3.02989261, 27.64137111,  2.4077623 , 85.39631879, -0.1886777 ])"
            ]
          },
          "metadata": {},
          "execution_count": 5
        }
      ],
      "source": [
        "from sklearn.linear_model import LinearRegression\n",
        "model_Linear = LinearRegression().fit(X_train, y_train)\n",
        "model_Linear.coef_"
      ]
    },
    {
      "cell_type": "markdown",
      "metadata": {
        "id": "qYXRsNEbreyF"
      },
      "source": [
        "weight를 살펴보면 0에 가깝게 변한 값들을 볼 수 있다."
      ]
    },
    {
      "cell_type": "code",
      "execution_count": 6,
      "metadata": {
        "colab": {
          "base_uri": "https://localhost:8080/"
        },
        "id": "_c6OiNvGreyG",
        "outputId": "26c30457-852e-42cc-ecb2-17cf57f9f6fe"
      },
      "outputs": [
        {
          "output_type": "stream",
          "name": "stdout",
          "text": [
            "train score : 0.94\n",
            "test score : 0.93\n"
          ]
        }
      ],
      "source": [
        "print('train score : {:.2f}'.format(model_Ridge.score(X_train, y_train)))\n",
        "print('test score : {:.2f}'.format(model_Ridge.score(X_test, y_test)))"
      ]
    },
    {
      "cell_type": "markdown",
      "metadata": {
        "id": "dPh1qLGcreyH"
      },
      "source": [
        "Ridge는 alpha라는 파라미터를 가지고 있다. 기본값은 1.0\n",
        "최적의 alpha값은 정해진 것이 없고 데이터셋마다 다르다."
      ]
    },
    {
      "cell_type": "code",
      "execution_count": 11,
      "metadata": {
        "colab": {
          "base_uri": "https://localhost:8080/"
        },
        "id": "09DCKyMtreyI",
        "outputId": "4ace44d0-e0c0-4f4d-f337-7ab47d116682"
      },
      "outputs": [
        {
          "output_type": "stream",
          "name": "stdout",
          "text": [
            "weight : \n",
            "[-1.2476866  -1.12964269 -0.69140416  1.55667284 -0.33536333  6.66474488\n",
            "  0.48138655 14.36155526 35.11658161 -2.69366468 -1.02010727 12.07720181\n",
            " -2.62511891 -1.85519721  2.72840545 -1.27565591  3.00960184  2.6302787\n",
            "  1.98706013 -0.96183415 -1.50679339 36.66755236 -1.36722287 27.81792636\n",
            " 36.7101182   2.84866556  8.67164741  2.42182658 33.32039291 -0.41049562]\n",
            "\n",
            "\n",
            "bias : \n",
            "16.72914011596326\n"
          ]
        }
      ],
      "source": [
        "model_ridge1000 = Ridge(alpha = 1000).fit(X_train, y_train)\n",
        "print('weight : \\n{}\\n\\n'.format(model_ridge1000.coef_))\n",
        "print('bias : \\n{}'.format(model_ridge1000.intercept_))"
      ]
    },
    {
      "cell_type": "code",
      "execution_count": 12,
      "metadata": {
        "colab": {
          "base_uri": "https://localhost:8080/"
        },
        "id": "1-AG6jFpreyK",
        "outputId": "a2f0c58f-be84-4ceb-c707-a47c12a0e277"
      },
      "outputs": [
        {
          "output_type": "stream",
          "name": "stdout",
          "text": [
            "train score : 0.62\n",
            "test score : 0.62\n"
          ]
        }
      ],
      "source": [
        "print('train score : {:.2f}'.format(model_ridge1000.score(X_train, y_train)))\n",
        "print('test score : {:.2f}'.format(model_ridge1000.score(X_test, y_test)))"
      ]
    },
    {
      "cell_type": "markdown",
      "metadata": {
        "id": "GkQnkjFireyM"
      },
      "source": [
        "alpha값을 높이면 0에 가깝게 만들어 훈련 셋의 성능은 나빠지지만 일반화에 도움을 준다."
      ]
    },
    {
      "cell_type": "code",
      "execution_count": 16,
      "metadata": {
        "colab": {
          "base_uri": "https://localhost:8080/"
        },
        "id": "FpiuW-ylreyM",
        "outputId": "2b54e086-91cb-4b91-c1f8-d3f81b41958c"
      },
      "outputs": [
        {
          "output_type": "stream",
          "name": "stdout",
          "text": [
            "weight : \n",
            "[ 1.42331912  1.9688665  -2.11404858 -0.87713667  2.47119102 17.31561964\n",
            " -1.00211064 33.12302351 86.5128022  -2.27396992  2.4315013  26.68259927\n",
            " -1.26674623 -2.73973994  3.34591119 -4.40641456 -1.51142533  3.70591221\n",
            "  8.0861912  -0.71072085 -2.54464594 82.85330897  1.89561063 65.01846876\n",
            " 85.97832554  3.02990744 27.6412581   2.40777281 85.39604606 -0.18868417]\n",
            "\n",
            "\n",
            "bias : \n",
            "11.23153534280738\n"
          ]
        }
      ],
      "source": [
        "model_ridge002 = Ridge(alpha = 0.002).fit(X_train, y_train)\n",
        "print('weight : \\n{}\\n\\n'.format(model_ridge002.coef_))\n",
        "print('bias : \\n{}'.format(model_ridge002.intercept_))"
      ]
    },
    {
      "cell_type": "code",
      "execution_count": 17,
      "metadata": {
        "colab": {
          "base_uri": "https://localhost:8080/"
        },
        "id": "1raYf8dGreyO",
        "outputId": "afb64f16-dd28-42fe-cfde-4c146d9e6a23"
      },
      "outputs": [
        {
          "output_type": "stream",
          "name": "stdout",
          "text": [
            "train score : 0.94\n",
            "test score : 0.93\n"
          ]
        }
      ],
      "source": [
        "print('train score : {:.2f}'.format(model_ridge002.score(X_train, y_train)))\n",
        "print('test score : {:.2f}'.format(model_ridge002.score(X_test, y_test)))"
      ]
    },
    {
      "cell_type": "markdown",
      "metadata": {
        "id": "VnsHZc7-reyQ"
      },
      "source": [
        "반대로 alpha값을 낮추게 되면 제한을 하지 않으므로 선형회귀와 비슷해진다."
      ]
    },
    {
      "cell_type": "code",
      "execution_count": 18,
      "metadata": {
        "colab": {
          "base_uri": "https://localhost:8080/"
        },
        "id": "J0hsiPt5reyR",
        "outputId": "b55d56e8-450a-4ec9-9937-a0d62f2f461f"
      },
      "outputs": [
        {
          "output_type": "stream",
          "name": "stdout",
          "text": [
            "weight : \n",
            "[ 1.42334252  1.96889342 -2.11405575 -0.87716145  2.47121165 17.31567583\n",
            " -1.00212423 33.12310887 86.51306447 -2.27395274  2.43153344 26.68267089\n",
            " -1.26672459 -2.73974113  3.34590369 -4.40643539 -1.5114737   3.70590294\n",
            "  8.08623247 -0.7107121  -2.54465043 82.85351639  1.89563997 65.01864419\n",
            " 85.97856059  3.02989261 27.64137111  2.4077623  85.39631879 -0.1886777 ]\n",
            "\n",
            "\n",
            "bias : \n",
            "11.231510144692816\n"
          ]
        }
      ],
      "source": [
        "# 선형회귀와 비교\n",
        "from sklearn.linear_model import LinearRegression\n",
        "hypothesis_multi = LinearRegression()\n",
        "model_linear_multi = hypothesis_multi.fit(X_train, y_train)\n",
        "print('weight : \\n{}\\n\\n'.format(model_linear_multi.coef_))\n",
        "print('bias : \\n{}'.format(model_linear_multi.intercept_))"
      ]
    },
    {
      "cell_type": "code",
      "execution_count": 19,
      "metadata": {
        "colab": {
          "base_uri": "https://localhost:8080/"
        },
        "id": "J4jKSwlvreyW",
        "outputId": "1746f39d-6012-4e7a-a157-636a586c16c4",
        "scrolled": false
      },
      "outputs": [
        {
          "output_type": "stream",
          "name": "stdout",
          "text": [
            "학습 데이터 점수 : 0.94\n",
            "검증 데이터 점수 : 0.93\n"
          ]
        }
      ],
      "source": [
        "print('학습 데이터 점수 : {:.2f}'.format(model_linear_multi.score(X_train, y_train)))\n",
        "print('검증 데이터 점수 : {:.2f}'.format(model_linear_multi.score(X_test, y_test)))"
      ]
    },
    {
      "cell_type": "markdown",
      "metadata": {
        "id": "UqPmW7QzreyX"
      },
      "source": [
        "# 3. Lasso Regression"
      ]
    },
    {
      "cell_type": "code",
      "execution_count": 20,
      "metadata": {
        "id": "gm3FtC44reyY"
      },
      "outputs": [],
      "source": [
        "from sklearn.model_selection import train_test_split\n",
        "from sklearn.datasets import make_regression\n",
        "from sklearn.linear_model import Lasso\n",
        "import numpy as np\n",
        "# Lasso모델은 linear_model에서 Lasso로 불러올 수 있습니다."
      ]
    },
    {
      "cell_type": "code",
      "execution_count": 21,
      "metadata": {
        "id": "nCWoN1QGreyZ"
      },
      "outputs": [],
      "source": [
        "model_lasso = Lasso(alpha=10).fit(X_train, y_train)"
      ]
    },
    {
      "cell_type": "code",
      "execution_count": 22,
      "metadata": {
        "colab": {
          "base_uri": "https://localhost:8080/"
        },
        "id": "Ip8zY5JCreyb",
        "outputId": "49e881e3-ad3e-488a-88c5-5f589d5bf58f"
      },
      "outputs": [
        {
          "output_type": "stream",
          "name": "stdout",
          "text": [
            "weight : \n",
            "[ 0.         -0.         -0.         -0.          0.          8.08967326\n",
            " -0.         24.9977976  76.70075409 -0.          0.         17.20821655\n",
            " -0.         -0.          0.         -0.          0.          0.\n",
            "  0.         -0.         -0.         73.71742166  0.         55.86891276\n",
            " 75.62050419  0.         15.99334361  0.         73.99047789 -0.        ]\n",
            "\n",
            "\n",
            "bias : \n",
            "12.439965436053422\n"
          ]
        }
      ],
      "source": [
        "print('weight : \\n{}\\n\\n'.format(model_lasso.coef_))\n",
        "print('bias : \\n{}'.format(model_lasso.intercept_))"
      ]
    },
    {
      "cell_type": "markdown",
      "metadata": {
        "id": "zoCE8_BTreyd"
      },
      "source": [
        "Lasso의 weight를 살펴보면 Ridge와는 다르게 0으로 가까워지다 못해 0이 되어버린 값들을 살펴볼 수 있다.\n",
        "lasso에서 alpha의 기본값은 1.0으로 설정되어있다."
      ]
    },
    {
      "cell_type": "code",
      "execution_count": 23,
      "metadata": {
        "colab": {
          "base_uri": "https://localhost:8080/"
        },
        "id": "cAVVXA6Ireyd",
        "outputId": "6a9c5aba-d507-4521-886f-9fc6bc187c0b"
      },
      "outputs": [
        {
          "output_type": "stream",
          "name": "stdout",
          "text": [
            "사용된 특성 수 : 9개\n"
          ]
        }
      ],
      "source": [
        "print('사용된 특성 수 : {}개'.format(np.sum(model_lasso.coef_ != 0)))\n",
        "# 100개의 특성중 몇개의 특성을 사용했는지 확인해볼 수 있다."
      ]
    },
    {
      "cell_type": "code",
      "execution_count": 27,
      "metadata": {
        "colab": {
          "base_uri": "https://localhost:8080/"
        },
        "id": "KDfPqnh8reyf",
        "outputId": "dfe0a2ac-a564-4aa0-b730-7b462fb39e52"
      },
      "outputs": [
        {
          "output_type": "stream",
          "name": "stdout",
          "text": [
            "train score : 0.91\n",
            "test score : 0.91\n"
          ]
        }
      ],
      "source": [
        "print('train score : {:.2f}'.format(model_lasso.score(X_train, y_train)))\n",
        "print('test score : {:.2f}'.format(model_lasso.score(X_test, y_test)))"
      ]
    },
    {
      "cell_type": "code",
      "execution_count": 25,
      "metadata": {
        "colab": {
          "base_uri": "https://localhost:8080/"
        },
        "id": "LiMF6De1reyh",
        "outputId": "8040b0ce-d181-4d27-c48f-5b5b07e8402e",
        "scrolled": true
      },
      "outputs": [
        {
          "output_type": "stream",
          "name": "stdout",
          "text": [
            "weight : \n",
            "[ 1.37143966  1.90088104 -2.06224343 -0.83425111  2.41111086 17.27989332\n",
            " -0.94295577 33.08167056 86.46622124 -2.24200809  2.3738464  26.63419926\n",
            " -1.21261874 -2.67490174  3.29016497 -4.35076483 -1.46319147  3.6514024\n",
            "  8.02534148 -0.66359602 -2.4881688  82.79613706  1.83377026 64.97099396\n",
            " 85.91665159  2.99833466 27.58410397  2.3500039  85.34358854 -0.13229092]\n",
            "\n",
            "\n",
            "bias : \n",
            "11.231030384490365\n"
          ]
        }
      ],
      "source": [
        "model_lasso005 = Lasso(alpha = 0.05, max_iter = 100000).fit(X_train, y_train)\n",
        "print('weight : \\n{}\\n\\n'.format(model_lasso005.coef_))\n",
        "print('bias : \\n{}'.format(model_lasso005.intercept_))"
      ]
    },
    {
      "cell_type": "markdown",
      "metadata": {
        "id": "G7PVPiAbreyi"
      },
      "source": [
        "- alpha를 줄이게 되면 가장 낮은 오차를 찾아가는 반복횟수가 늘어야 한다. 그러므로 max_iter라는 파라미터를 증가시켜주면 된다."
      ]
    },
    {
      "cell_type": "code",
      "execution_count": 26,
      "metadata": {
        "colab": {
          "base_uri": "https://localhost:8080/"
        },
        "id": "sFMIMQHureyj",
        "outputId": "201a0728-d161-4fa1-dfb4-a8b25bc42eb5"
      },
      "outputs": [
        {
          "output_type": "stream",
          "name": "stdout",
          "text": [
            "train score : 0.94\n",
            "test score : 0.93\n"
          ]
        }
      ],
      "source": [
        "print('train score : {:.2f}'.format(model_lasso005.score(X_train, y_train)))\n",
        "print('test score : {:.2f}'.format(model_lasso005.score(X_test, y_test)))"
      ]
    },
    {
      "cell_type": "code",
      "execution_count": 28,
      "metadata": {
        "colab": {
          "base_uri": "https://localhost:8080/"
        },
        "id": "JQwIqdgbreyo",
        "outputId": "516ed609-6c40-419b-f68f-ffd4e86610c3"
      },
      "outputs": [
        {
          "output_type": "stream",
          "name": "stdout",
          "text": [
            "사용된 특성 수 : 30개\n"
          ]
        }
      ],
      "source": [
        "print('사용된 특성 수 : {}개'.format(np.sum(model_lasso005.coef_ != 0)))"
      ]
    },
    {
      "cell_type": "code",
      "execution_count": 29,
      "metadata": {
        "colab": {
          "base_uri": "https://localhost:8080/"
        },
        "id": "enR0LT2hreyq",
        "outputId": "aaaa42c7-5715-4010-e984-8dbb48c349c8"
      },
      "outputs": [
        {
          "output_type": "stream",
          "name": "stdout",
          "text": [
            "weight : \n",
            "[-0.         -0.         -0.          0.         -0.          0.\n",
            "  0.          0.         36.29096234 -0.         -0.          0.\n",
            " -0.         -0.          0.         -0.          0.          0.\n",
            "  0.         -0.         -0.         38.7847977  -0.         19.09635026\n",
            " 38.45939408  0.          0.          0.         30.17475264 -0.        ]\n",
            "\n",
            "\n",
            "bias : \n",
            "17.337366218372992\n"
          ]
        }
      ],
      "source": [
        "model_lasso50 = Lasso(alpha = 50, max_iter = 1000).fit(X_train, y_train)\n",
        "print('weight : \\n{}\\n\\n'.format(model_lasso50.coef_))\n",
        "print('bias : \\n{}'.format(model_lasso50.intercept_))"
      ]
    },
    {
      "cell_type": "code",
      "execution_count": 30,
      "metadata": {
        "colab": {
          "base_uri": "https://localhost:8080/"
        },
        "id": "HEKvFOSpreyt",
        "outputId": "038eb40d-1130-428f-a5c7-b09eda9279cb"
      },
      "outputs": [
        {
          "output_type": "stream",
          "name": "stdout",
          "text": [
            "사용된 특성 수 : 5개\n"
          ]
        }
      ],
      "source": [
        "print('사용된 특성 수 : {}개'.format(np.sum(model_lasso50.coef_ != 0)))"
      ]
    },
    {
      "cell_type": "code",
      "execution_count": 31,
      "metadata": {
        "colab": {
          "base_uri": "https://localhost:8080/"
        },
        "id": "OrAeoRE2reyw",
        "outputId": "fed1d400-a011-49b6-af3c-2e8aa658a172"
      },
      "outputs": [
        {
          "output_type": "stream",
          "name": "stdout",
          "text": [
            "train score : 0.56\n",
            "test score : 0.56\n"
          ]
        }
      ],
      "source": [
        "print('train score : {:.2f}'.format(model_lasso50.score(X_train, y_train)))\n",
        "print('test score : {:.2f}'.format(model_lasso50.score(X_test, y_test)))"
      ]
    },
    {
      "cell_type": "markdown",
      "metadata": {
        "id": "wdveLH-5reyz"
      },
      "source": [
        "- train, test 둘 다 점수가 좋지 않은것을 확인할 수 있다. underfiting되었다고 볼 수 있다."
      ]
    },
    {
      "cell_type": "markdown",
      "metadata": {
        "id": "5-O7xRwQreyz"
      },
      "source": [
        "# 4. Elastic Net"
      ]
    },
    {
      "cell_type": "markdown",
      "metadata": {
        "id": "lGZ-_JGUrey0"
      },
      "source": [
        "- Elastic Net은 Ridge와 Lasso를 절충한 모델이다."
      ]
    },
    {
      "cell_type": "code",
      "execution_count": 32,
      "metadata": {
        "id": "3vJWrQE0rey1"
      },
      "outputs": [],
      "source": [
        "from sklearn.model_selection import train_test_split\n",
        "from sklearn.datasets import make_regression\n",
        "from sklearn.linear_model import ElasticNet"
      ]
    },
    {
      "cell_type": "code",
      "execution_count": 44,
      "metadata": {
        "colab": {
          "base_uri": "https://localhost:8080/"
        },
        "id": "UYHXFNsFrey2",
        "outputId": "1252602c-50d7-4601-f87d-de83467433c6"
      },
      "outputs": [
        {
          "output_type": "stream",
          "name": "stdout",
          "text": [
            "weight : \n",
            "[-0.34126497 -0.14436197 -0.9410934   0.80443825  0.0628012  10.80396842\n",
            "  0.         22.46038726 56.67088262 -2.872702   -0.         18.24943702\n",
            " -2.44863181 -2.07383388  3.19429628 -2.00961562  2.04301572  3.2919848\n",
            "  3.76851821 -0.84396937 -1.76584375 57.24813659 -0.29138319 43.88706222\n",
            " 58.09589778  3.3014035  15.47374303  2.57832138 54.71655983 -0.12694639]\n",
            "\n",
            "\n",
            "bias : \n",
            "14.368084825422649\n"
          ]
        }
      ],
      "source": [
        "model_ela = ElasticNet().fit(X_train, y_train)\n",
        "print('weight : \\n{}\\n\\n'.format(model_ela.coef_))\n",
        "print('bias : \\n{}'.format(model_ela.intercept_))"
      ]
    },
    {
      "cell_type": "code",
      "execution_count": 45,
      "metadata": {
        "colab": {
          "base_uri": "https://localhost:8080/"
        },
        "id": "OC0YNaeLrey4",
        "outputId": "dfa1e324-4cfa-4f2b-f45d-236e95c3c5f5"
      },
      "outputs": [
        {
          "output_type": "stream",
          "name": "stdout",
          "text": [
            "사용된 특성 수 : 28개\n"
          ]
        }
      ],
      "source": [
        "print('사용된 특성 수 : {}개'.format(np.sum(model_ela.coef_ != 0)))"
      ]
    },
    {
      "cell_type": "code",
      "execution_count": 46,
      "metadata": {
        "colab": {
          "base_uri": "https://localhost:8080/"
        },
        "id": "iwDPZBtBrey6",
        "outputId": "d7dd42a6-9088-4519-a71a-c72c1cbd0003"
      },
      "outputs": [
        {
          "output_type": "stream",
          "name": "stdout",
          "text": [
            "train score : 0.83\n",
            "test score : 0.83\n"
          ]
        }
      ],
      "source": [
        "print('train score : {:.2f}'.format(model_ela.score(X_train, y_train)))\n",
        "print('test score : {:.2f}'.format(model_ela.score(X_test, y_test)))"
      ]
    },
    {
      "cell_type": "code",
      "execution_count": 47,
      "metadata": {
        "colab": {
          "base_uri": "https://localhost:8080/"
        },
        "id": "RsHO1brmrey7",
        "outputId": "81a0025d-9f47-443d-e651-bf157884346a",
        "scrolled": false
      },
      "outputs": [
        {
          "output_type": "stream",
          "name": "stdout",
          "text": [
            "weight : \n",
            "[ 0.77470923  1.22590706 -1.89737088 -0.20788092  1.88675167 15.70614673\n",
            " -0.62448334 30.62191107 78.99833581 -2.69469167  1.56155139 24.62448819\n",
            " -1.8181625  -2.6849473   3.50487779 -3.8213995  -0.21933191  3.88856861\n",
            "  6.93663988 -0.91668935 -2.40757394 76.77807757  1.08961172 59.92125949\n",
            " 79.16776162  3.37588704 24.45852602  2.65511519 77.60407196 -0.33567983]\n",
            "\n",
            "\n",
            "bias : 11.963727205431553\n",
            "\n",
            "\n",
            "사용된 특성 수 : 30개\n"
          ]
        }
      ],
      "source": [
        "model_ela = ElasticNet(alpha = 0.1, l1_ratio = 0.1).fit(X_train, y_train)\n",
        "print('weight : \\n{}\\n\\n'.format(model_ela.coef_))\n",
        "print('bias : {}\\n\\n'.format(model_ela.intercept_))\n",
        "print('사용된 특성 수 : {}개'.format(np.sum(model_ela.coef_ != 0)))"
      ]
    },
    {
      "cell_type": "code",
      "source": [
        "print('train score : {:.2f}'.format(model_ela.score(X_train, y_train)))\n",
        "print('test score : {:.2f}'.format(model_ela.score(X_test, y_test)))"
      ],
      "metadata": {
        "colab": {
          "base_uri": "https://localhost:8080/"
        },
        "id": "Jg5g0WF5hLHF",
        "outputId": "2f98bd39-4eb8-4b1f-b968-4e4723c3d382"
      },
      "execution_count": 48,
      "outputs": [
        {
          "output_type": "stream",
          "name": "stdout",
          "text": [
            "train score : 0.93\n",
            "test score : 0.92\n"
          ]
        }
      ]
    },
    {
      "cell_type": "markdown",
      "metadata": {
        "id": "0nH3MCq1rey-"
      },
      "source": [
        "- alpha = l1(lasso) + l2(ridge)\n",
        "- l1_ratio = 0 이면 ridge 1 이면 lasso, lasso의 비율을 정해준다."
      ]
    },
    {
      "cell_type": "code",
      "execution_count": 49,
      "metadata": {
        "colab": {
          "base_uri": "https://localhost:8080/"
        },
        "id": "zh5QAswgrey_",
        "outputId": "27aee0c8-55a0-4c3f-8e2b-6860507c6aa0"
      },
      "outputs": [
        {
          "output_type": "stream",
          "name": "stdout",
          "text": [
            "weight : \n",
            "[ 1.25016626  1.75571287 -1.99692032 -0.71539159  2.29258822 17.05744788\n",
            " -0.84984355 32.75265512 85.52184597 -2.27484532  2.218966   26.34872342\n",
            " -1.2444741  -2.62027169  3.27195829 -4.23561117 -1.25956986  3.63981107\n",
            "  7.83580748 -0.65647904 -2.42870374 82.03161241  1.68473364 64.32539641\n",
            " 85.0538524   3.023487   27.14921683  2.34069584 84.35882379 -0.11023524]\n",
            "\n",
            "\n",
            "bias : 11.318063929794954\n",
            "\n",
            "\n",
            "사용된 특성 수 : 30개\n"
          ]
        }
      ],
      "source": [
        "model_ela = ElasticNet(alpha = 0.1, l1_ratio = 0.9).fit(X_train, y_train)\n",
        "print('weight : \\n{}\\n\\n'.format(model_ela.coef_))\n",
        "print('bias : {}\\n\\n'.format(model_ela.intercept_))\n",
        "print('사용된 특성 수 : {}개'.format(np.sum(model_ela.coef_ != 0)))"
      ]
    },
    {
      "cell_type": "code",
      "source": [
        "print('train score : {:.2f}'.format(model_ela.score(X_train, y_train)))\n",
        "print('test score : {:.2f}'.format(model_ela.score(X_test, y_test)))"
      ],
      "metadata": {
        "colab": {
          "base_uri": "https://localhost:8080/"
        },
        "id": "In16Ep-ChNwb",
        "outputId": "4b89d5ee-3fd6-4680-a3bb-e131723e5581"
      },
      "execution_count": 50,
      "outputs": [
        {
          "output_type": "stream",
          "name": "stdout",
          "text": [
            "train score : 0.94\n",
            "test score : 0.93\n"
          ]
        }
      ]
    },
    {
      "cell_type": "code",
      "execution_count": 51,
      "metadata": {
        "colab": {
          "base_uri": "https://localhost:8080/"
        },
        "id": "nzCigYMErezB",
        "outputId": "cb9a9cd6-0dac-4b6c-c3a5-1a6225013518"
      },
      "outputs": [
        {
          "output_type": "stream",
          "name": "stdout",
          "text": [
            "weight : \n",
            "[-1.04903721e+00 -8.82691038e-01 -8.95262800e-01  1.44125213e+00\n",
            " -9.16190258e-03  8.57005932e+00  3.45491637e-01  1.81384935e+01\n",
            "  4.48281009e+01 -2.98995639e+00 -7.58532861e-01  1.49820379e+01\n",
            " -2.78104528e+00 -2.09946831e+00  3.11381266e+00 -1.67546859e+00\n",
            "  2.89851030e+00  3.13464999e+00  2.78949255e+00 -1.05101537e+00\n",
            " -1.72383023e+00  4.61565621e+01 -1.12689106e+00  3.52059573e+01\n",
            "  4.64720661e+01  3.25763124e+00  1.16786335e+01  2.68876353e+00\n",
            "  4.28967529e+01 -4.32848261e-01]\n",
            "\n",
            "\n",
            "bias : 15.607184711739905\n",
            "\n",
            "\n",
            "사용된 특성 수 : 30개\n"
          ]
        }
      ],
      "source": [
        "model_ela = ElasticNet(alpha = 1, l1_ratio = 0.1).fit(X_train, y_train)\n",
        "print('weight : \\n{}\\n\\n'.format(model_ela.coef_))\n",
        "print('bias : {}\\n\\n'.format(model_ela.intercept_))\n",
        "print('사용된 특성 수 : {}개'.format(np.sum(model_ela.coef_ != 0)))"
      ]
    },
    {
      "cell_type": "code",
      "source": [
        "print('train score : {:.2f}'.format(model_ela.score(X_train, y_train)))\n",
        "print('test score : {:.2f}'.format(model_ela.score(X_test, y_test)))"
      ],
      "metadata": {
        "colab": {
          "base_uri": "https://localhost:8080/"
        },
        "id": "O_qU7UIUhRwa",
        "outputId": "c717ebff-1c03-4bb1-f9f5-cb6bb5ee6c10"
      },
      "execution_count": 52,
      "outputs": [
        {
          "output_type": "stream",
          "name": "stdout",
          "text": [
            "train score : 0.73\n",
            "test score : 0.73\n"
          ]
        }
      ]
    },
    {
      "cell_type": "code",
      "execution_count": 53,
      "metadata": {
        "colab": {
          "base_uri": "https://localhost:8080/"
        },
        "id": "uWUEXeRTrezD",
        "outputId": "84a379c9-65a6-4370-b27e-0aefa98695e3"
      },
      "outputs": [
        {
          "output_type": "stream",
          "name": "stdout",
          "text": [
            "weight : \n",
            "[ 0.00000000e+00  4.29625987e-02 -1.07359294e+00 -0.00000000e+00\n",
            "  9.00271124e-01  1.49268801e+01 -0.00000000e+00  2.97189785e+01\n",
            "  7.75347074e+01 -2.16304975e+00  5.82499520e-01  2.36604338e+01\n",
            " -1.02364517e+00 -1.70209557e+00  2.60746579e+00 -2.87431237e+00\n",
            " -0.00000000e+00  2.99655829e+00  5.87820589e+00 -1.11549811e-01\n",
            " -1.50188986e+00  7.52488343e+01  1.36996681e-02  5.86305910e+01\n",
            "  7.75723337e+01  2.77902516e+00  2.32635752e+01  1.79213568e+00\n",
            "  7.60026748e+01 -0.00000000e+00]\n",
            "\n",
            "\n",
            "bias : 12.089826701722837\n",
            "\n",
            "\n",
            "사용된 특성 수 : 25개\n"
          ]
        }
      ],
      "source": [
        "model_ela = ElasticNet(alpha = 1, l1_ratio = 0.9).fit(X_train, y_train)\n",
        "print('weight : \\n{}\\n\\n'.format(model_ela.coef_))\n",
        "print('bias : {}\\n\\n'.format(model_ela.intercept_))\n",
        "print('사용된 특성 수 : {}개'.format(np.sum(model_ela.coef_ != 0)))"
      ]
    },
    {
      "cell_type": "code",
      "source": [
        "print('train score : {:.2f}'.format(model_ela.score(X_train, y_train)))\n",
        "print('test score : {:.2f}'.format(model_ela.score(X_test, y_test)))"
      ],
      "metadata": {
        "colab": {
          "base_uri": "https://localhost:8080/"
        },
        "id": "4J0A8iWkhfV1",
        "outputId": "10ef5eb6-bc60-4221-8030-033d7cb7f52a"
      },
      "execution_count": 54,
      "outputs": [
        {
          "output_type": "stream",
          "name": "stdout",
          "text": [
            "train score : 0.93\n",
            "test score : 0.92\n"
          ]
        }
      ]
    },
    {
      "cell_type": "code",
      "execution_count": 55,
      "metadata": {
        "colab": {
          "base_uri": "https://localhost:8080/"
        },
        "id": "7plUMN9arezF",
        "outputId": "40bee32c-30c9-47d5-ac9c-4690b6d193d5"
      },
      "outputs": [
        {
          "output_type": "stream",
          "name": "stdout",
          "text": [
            "weight : \n",
            "[-0.47573298 -0.47594008 -0.01817094  0.55210287 -0.19524782  1.4796454\n",
            "  0.12654194  3.48457731  8.50362012 -0.74212873 -0.41806507  3.11954173\n",
            " -0.81817973 -0.482087    0.74145138 -0.17057725  1.11771548  0.57266506\n",
            "  0.23810187 -0.17965226 -0.37753657  9.17705258 -0.5437201   6.83866619\n",
            "  9.07007546  0.74118953  1.65723525  0.68157041  7.84518995 -0.        ]\n",
            "\n",
            "\n",
            "bias : 20.07848795514921\n",
            "\n",
            "\n",
            "사용된 특성 수 : 29개\n"
          ]
        }
      ],
      "source": [
        "model_ela = ElasticNet(alpha = 10, l1_ratio = 0.1).fit(X_train, y_train)\n",
        "print('weight : \\n{}\\n\\n'.format(model_ela.coef_))\n",
        "print('bias : {}\\n\\n'.format(model_ela.intercept_))\n",
        "print('사용된 특성 수 : {}개'.format(np.sum(model_ela.coef_ != 0)))"
      ]
    },
    {
      "cell_type": "code",
      "source": [
        "print('train score : {:.2f}'.format(model_ela.score(X_train, y_train)))\n",
        "print('test score : {:.2f}'.format(model_ela.score(X_test, y_test)))"
      ],
      "metadata": {
        "colab": {
          "base_uri": "https://localhost:8080/"
        },
        "id": "nqkykmhihiRV",
        "outputId": "56095853-c5cc-4237-a2e6-029821175013"
      },
      "execution_count": 56,
      "outputs": [
        {
          "output_type": "stream",
          "name": "stdout",
          "text": [
            "train score : 0.18\n",
            "test score : 0.18\n"
          ]
        }
      ]
    },
    {
      "cell_type": "code",
      "execution_count": 57,
      "metadata": {
        "colab": {
          "base_uri": "https://localhost:8080/"
        },
        "id": "P3AmO4QIrezH",
        "outputId": "12788d0f-c183-4059-8672-acb4f0af0049"
      },
      "outputs": [
        {
          "output_type": "stream",
          "name": "stdout",
          "text": [
            "weight : \n",
            "[-0.         -0.         -0.          0.         -0.          4.02010346\n",
            "  0.         13.36910554 38.54432615 -0.         -0.         10.42529418\n",
            " -0.         -0.          0.         -0.          0.          0.\n",
            "  0.         -0.         -0.         39.88820834 -0.         29.25678481\n",
            " 40.00840416  0.          6.14469016  0.         36.19958755 -0.        ]\n",
            "\n",
            "\n",
            "bias : 16.57907233939912\n",
            "\n",
            "\n",
            "사용된 특성 수 : 9개\n"
          ]
        }
      ],
      "source": [
        "model_ela = ElasticNet(alpha = 10, l1_ratio = 0.9).fit(X_train, y_train)\n",
        "print('weight : \\n{}\\n\\n'.format(model_ela.coef_))\n",
        "print('bias : {}\\n\\n'.format(model_ela.intercept_))\n",
        "print('사용된 특성 수 : {}개'.format(np.sum(model_ela.coef_ != 0)))"
      ]
    },
    {
      "cell_type": "code",
      "source": [
        "print('train score : {:.2f}'.format(model_ela.score(X_train, y_train)))\n",
        "print('test score : {:.2f}'.format(model_ela.score(X_test, y_test)))"
      ],
      "metadata": {
        "colab": {
          "base_uri": "https://localhost:8080/"
        },
        "id": "pzFp9LCThlc2",
        "outputId": "62e844f4-83ef-4398-a02c-7641a0e51e01"
      },
      "execution_count": 58,
      "outputs": [
        {
          "output_type": "stream",
          "name": "stdout",
          "text": [
            "train score : 0.65\n",
            "test score : 0.65\n"
          ]
        }
      ]
    },
    {
      "cell_type": "markdown",
      "metadata": {
        "id": "fGqLFvKhrezJ"
      },
      "source": [
        "#### 보스턴 주택데이터 예측하기"
      ]
    },
    {
      "cell_type": "code",
      "execution_count": 59,
      "metadata": {
        "colab": {
          "base_uri": "https://localhost:8080/",
          "height": 1000
        },
        "id": "3B1jerCnTOgy",
        "outputId": "b8b25080-59bb-42d8-a390-073f78dfac02"
      },
      "outputs": [
        {
          "output_type": "error",
          "ename": "ImportError",
          "evalue": "ignored",
          "traceback": [
            "\u001b[0;31m---------------------------------------------------------------------------\u001b[0m",
            "\u001b[0;31mImportError\u001b[0m                               Traceback (most recent call last)",
            "\u001b[0;32m<ipython-input-59-a2d172aab744>\u001b[0m in \u001b[0;36m<cell line: 2>\u001b[0;34m()\u001b[0m\n\u001b[1;32m      1\u001b[0m \u001b[0;32mfrom\u001b[0m \u001b[0msklearn\u001b[0m\u001b[0;34m.\u001b[0m\u001b[0mlinear_model\u001b[0m \u001b[0;32mimport\u001b[0m \u001b[0mLinearRegression\u001b[0m\u001b[0;34m\u001b[0m\u001b[0;34m\u001b[0m\u001b[0m\n\u001b[0;32m----> 2\u001b[0;31m \u001b[0;32mfrom\u001b[0m \u001b[0msklearn\u001b[0m\u001b[0;34m.\u001b[0m\u001b[0mdatasets\u001b[0m \u001b[0;32mimport\u001b[0m \u001b[0mload_boston\u001b[0m\u001b[0;34m\u001b[0m\u001b[0;34m\u001b[0m\u001b[0m\n\u001b[0m",
            "\u001b[0;32m/usr/local/lib/python3.10/dist-packages/sklearn/datasets/__init__.py\u001b[0m in \u001b[0;36m__getattr__\u001b[0;34m(name)\u001b[0m\n\u001b[1;32m    154\u001b[0m             \"\"\"\n\u001b[1;32m    155\u001b[0m         )\n\u001b[0;32m--> 156\u001b[0;31m         \u001b[0;32mraise\u001b[0m \u001b[0mImportError\u001b[0m\u001b[0;34m(\u001b[0m\u001b[0mmsg\u001b[0m\u001b[0;34m)\u001b[0m\u001b[0;34m\u001b[0m\u001b[0;34m\u001b[0m\u001b[0m\n\u001b[0m\u001b[1;32m    157\u001b[0m     \u001b[0;32mtry\u001b[0m\u001b[0;34m:\u001b[0m\u001b[0;34m\u001b[0m\u001b[0;34m\u001b[0m\u001b[0m\n\u001b[1;32m    158\u001b[0m         \u001b[0;32mreturn\u001b[0m \u001b[0mglobals\u001b[0m\u001b[0;34m(\u001b[0m\u001b[0;34m)\u001b[0m\u001b[0;34m[\u001b[0m\u001b[0mname\u001b[0m\u001b[0;34m]\u001b[0m\u001b[0;34m\u001b[0m\u001b[0;34m\u001b[0m\u001b[0m\n",
            "\u001b[0;31mImportError\u001b[0m: \n`load_boston` has been removed from scikit-learn since version 1.2.\n\nThe Boston housing prices dataset has an ethical problem: as\ninvestigated in [1], the authors of this dataset engineered a\nnon-invertible variable \"B\" assuming that racial self-segregation had a\npositive impact on house prices [2]. Furthermore the goal of the\nresearch that led to the creation of this dataset was to study the\nimpact of air quality but it did not give adequate demonstration of the\nvalidity of this assumption.\n\nThe scikit-learn maintainers therefore strongly discourage the use of\nthis dataset unless the purpose of the code is to study and educate\nabout ethical issues in data science and machine learning.\n\nIn this special case, you can fetch the dataset from the original\nsource::\n\n    import pandas as pd\n    import numpy as np\n\n    data_url = \"http://lib.stat.cmu.edu/datasets/boston\"\n    raw_df = pd.read_csv(data_url, sep=\"\\s+\", skiprows=22, header=None)\n    data = np.hstack([raw_df.values[::2, :], raw_df.values[1::2, :2]])\n    target = raw_df.values[1::2, 2]\n\nAlternative datasets include the California housing dataset and the\nAmes housing dataset. You can load the datasets as follows::\n\n    from sklearn.datasets import fetch_california_housing\n    housing = fetch_california_housing()\n\nfor the California housing dataset and::\n\n    from sklearn.datasets import fetch_openml\n    housing = fetch_openml(name=\"house_prices\", as_frame=True)\n\nfor the Ames housing dataset.\n\n[1] M Carlisle.\n\"Racist data destruction?\"\n<https://medium.com/@docintangible/racist-data-destruction-113e3eff54a8>\n\n[2] Harrison Jr, David, and Daniel L. Rubinfeld.\n\"Hedonic housing prices and the demand for clean air.\"\nJournal of environmental economics and management 5.1 (1978): 81-102.\n<https://www.researchgate.net/publication/4974606_Hedonic_housing_prices_and_the_demand_for_clean_air>\n",
            "",
            "\u001b[0;31m---------------------------------------------------------------------------\u001b[0;32m\nNOTE: If your import is failing due to a missing package, you can\nmanually install dependencies using either !pip or !apt.\n\nTo view examples of installing some common dependencies, click the\n\"Open Examples\" button below.\n\u001b[0;31m---------------------------------------------------------------------------\u001b[0m\n"
          ],
          "errorDetails": {
            "actions": [
              {
                "action": "open_url",
                "actionText": "Open Examples",
                "url": "/notebooks/snippets/importing_libraries.ipynb"
              }
            ]
          }
        }
      ],
      "source": [
        "from sklearn.linear_model import LinearRegression\n",
        "from sklearn.datasets import load_boston"
      ]
    },
    {
      "cell_type": "code",
      "source": [
        "import pandas as pd\n",
        "import numpy as np\n",
        "\n",
        "data_url = \"http://lib.stat.cmu.edu/datasets/boston\"\n",
        "raw_df = pd.read_csv(data_url, sep=\"\\s+\", skiprows=22, header=None)\n",
        "data = np.hstack([raw_df.values[::2, :], raw_df.values[1::2, :2]])\n",
        "target = raw_df.values[1::2, 2]"
      ],
      "metadata": {
        "id": "842O6xE6h3lL"
      },
      "execution_count": 61,
      "outputs": []
    },
    {
      "cell_type": "code",
      "execution_count": null,
      "metadata": {
        "id": "zxP8B6EBTviE"
      },
      "outputs": [],
      "source": []
    },
    {
      "cell_type": "code",
      "execution_count": 62,
      "metadata": {
        "id": "f5DVBwUlTy7M"
      },
      "outputs": [],
      "source": [
        "X_data, y_data = data, target"
      ]
    },
    {
      "cell_type": "code",
      "execution_count": null,
      "metadata": {
        "id": "ejV3_cW6ZJ8d"
      },
      "outputs": [],
      "source": [
        "Ridge?"
      ]
    },
    {
      "cell_type": "code",
      "execution_count": 63,
      "metadata": {
        "id": "LWqk2K_HTUAr"
      },
      "outputs": [],
      "source": [
        "model_linear = LinearRegression()\n",
        "model_ridge = Ridge(alpha=100)\n",
        "model_lasso = Lasso(alpha=100)\n",
        "model_elastic = ElasticNet(alpha=100, l1_ratio=0)"
      ]
    },
    {
      "cell_type": "code",
      "execution_count": 64,
      "metadata": {
        "colab": {
          "base_uri": "https://localhost:8080/",
          "height": 75
        },
        "id": "T6KQhv-iTiy4",
        "outputId": "b9eff805-9c48-401a-a7ba-78a2b6dd0753"
      },
      "outputs": [
        {
          "output_type": "execute_result",
          "data": {
            "text/plain": [
              "LinearRegression()"
            ],
            "text/html": [
              "<style>#sk-container-id-1 {color: black;background-color: white;}#sk-container-id-1 pre{padding: 0;}#sk-container-id-1 div.sk-toggleable {background-color: white;}#sk-container-id-1 label.sk-toggleable__label {cursor: pointer;display: block;width: 100%;margin-bottom: 0;padding: 0.3em;box-sizing: border-box;text-align: center;}#sk-container-id-1 label.sk-toggleable__label-arrow:before {content: \"▸\";float: left;margin-right: 0.25em;color: #696969;}#sk-container-id-1 label.sk-toggleable__label-arrow:hover:before {color: black;}#sk-container-id-1 div.sk-estimator:hover label.sk-toggleable__label-arrow:before {color: black;}#sk-container-id-1 div.sk-toggleable__content {max-height: 0;max-width: 0;overflow: hidden;text-align: left;background-color: #f0f8ff;}#sk-container-id-1 div.sk-toggleable__content pre {margin: 0.2em;color: black;border-radius: 0.25em;background-color: #f0f8ff;}#sk-container-id-1 input.sk-toggleable__control:checked~div.sk-toggleable__content {max-height: 200px;max-width: 100%;overflow: auto;}#sk-container-id-1 input.sk-toggleable__control:checked~label.sk-toggleable__label-arrow:before {content: \"▾\";}#sk-container-id-1 div.sk-estimator input.sk-toggleable__control:checked~label.sk-toggleable__label {background-color: #d4ebff;}#sk-container-id-1 div.sk-label input.sk-toggleable__control:checked~label.sk-toggleable__label {background-color: #d4ebff;}#sk-container-id-1 input.sk-hidden--visually {border: 0;clip: rect(1px 1px 1px 1px);clip: rect(1px, 1px, 1px, 1px);height: 1px;margin: -1px;overflow: hidden;padding: 0;position: absolute;width: 1px;}#sk-container-id-1 div.sk-estimator {font-family: monospace;background-color: #f0f8ff;border: 1px dotted black;border-radius: 0.25em;box-sizing: border-box;margin-bottom: 0.5em;}#sk-container-id-1 div.sk-estimator:hover {background-color: #d4ebff;}#sk-container-id-1 div.sk-parallel-item::after {content: \"\";width: 100%;border-bottom: 1px solid gray;flex-grow: 1;}#sk-container-id-1 div.sk-label:hover label.sk-toggleable__label {background-color: #d4ebff;}#sk-container-id-1 div.sk-serial::before {content: \"\";position: absolute;border-left: 1px solid gray;box-sizing: border-box;top: 0;bottom: 0;left: 50%;z-index: 0;}#sk-container-id-1 div.sk-serial {display: flex;flex-direction: column;align-items: center;background-color: white;padding-right: 0.2em;padding-left: 0.2em;position: relative;}#sk-container-id-1 div.sk-item {position: relative;z-index: 1;}#sk-container-id-1 div.sk-parallel {display: flex;align-items: stretch;justify-content: center;background-color: white;position: relative;}#sk-container-id-1 div.sk-item::before, #sk-container-id-1 div.sk-parallel-item::before {content: \"\";position: absolute;border-left: 1px solid gray;box-sizing: border-box;top: 0;bottom: 0;left: 50%;z-index: -1;}#sk-container-id-1 div.sk-parallel-item {display: flex;flex-direction: column;z-index: 1;position: relative;background-color: white;}#sk-container-id-1 div.sk-parallel-item:first-child::after {align-self: flex-end;width: 50%;}#sk-container-id-1 div.sk-parallel-item:last-child::after {align-self: flex-start;width: 50%;}#sk-container-id-1 div.sk-parallel-item:only-child::after {width: 0;}#sk-container-id-1 div.sk-dashed-wrapped {border: 1px dashed gray;margin: 0 0.4em 0.5em 0.4em;box-sizing: border-box;padding-bottom: 0.4em;background-color: white;}#sk-container-id-1 div.sk-label label {font-family: monospace;font-weight: bold;display: inline-block;line-height: 1.2em;}#sk-container-id-1 div.sk-label-container {text-align: center;}#sk-container-id-1 div.sk-container {/* jupyter's `normalize.less` sets `[hidden] { display: none; }` but bootstrap.min.css set `[hidden] { display: none !important; }` so we also need the `!important` here to be able to override the default hidden behavior on the sphinx rendered scikit-learn.org. See: https://github.com/scikit-learn/scikit-learn/issues/21755 */display: inline-block !important;position: relative;}#sk-container-id-1 div.sk-text-repr-fallback {display: none;}</style><div id=\"sk-container-id-1\" class=\"sk-top-container\"><div class=\"sk-text-repr-fallback\"><pre>LinearRegression()</pre><b>In a Jupyter environment, please rerun this cell to show the HTML representation or trust the notebook. <br />On GitHub, the HTML representation is unable to render, please try loading this page with nbviewer.org.</b></div><div class=\"sk-container\" hidden><div class=\"sk-item\"><div class=\"sk-estimator sk-toggleable\"><input class=\"sk-toggleable__control sk-hidden--visually\" id=\"sk-estimator-id-1\" type=\"checkbox\" checked><label for=\"sk-estimator-id-1\" class=\"sk-toggleable__label sk-toggleable__label-arrow\">LinearRegression</label><div class=\"sk-toggleable__content\"><pre>LinearRegression()</pre></div></div></div></div></div>"
            ]
          },
          "metadata": {},
          "execution_count": 64
        }
      ],
      "source": [
        "model_linear.fit(X_data, y_data)"
      ]
    },
    {
      "cell_type": "code",
      "execution_count": 65,
      "metadata": {
        "colab": {
          "base_uri": "https://localhost:8080/",
          "height": 75
        },
        "id": "YHKyJJX0UJRk",
        "outputId": "14638c56-acfd-47c2-b960-03b88c4e2989"
      },
      "outputs": [
        {
          "output_type": "execute_result",
          "data": {
            "text/plain": [
              "Ridge(alpha=100)"
            ],
            "text/html": [
              "<style>#sk-container-id-2 {color: black;background-color: white;}#sk-container-id-2 pre{padding: 0;}#sk-container-id-2 div.sk-toggleable {background-color: white;}#sk-container-id-2 label.sk-toggleable__label {cursor: pointer;display: block;width: 100%;margin-bottom: 0;padding: 0.3em;box-sizing: border-box;text-align: center;}#sk-container-id-2 label.sk-toggleable__label-arrow:before {content: \"▸\";float: left;margin-right: 0.25em;color: #696969;}#sk-container-id-2 label.sk-toggleable__label-arrow:hover:before {color: black;}#sk-container-id-2 div.sk-estimator:hover label.sk-toggleable__label-arrow:before {color: black;}#sk-container-id-2 div.sk-toggleable__content {max-height: 0;max-width: 0;overflow: hidden;text-align: left;background-color: #f0f8ff;}#sk-container-id-2 div.sk-toggleable__content pre {margin: 0.2em;color: black;border-radius: 0.25em;background-color: #f0f8ff;}#sk-container-id-2 input.sk-toggleable__control:checked~div.sk-toggleable__content {max-height: 200px;max-width: 100%;overflow: auto;}#sk-container-id-2 input.sk-toggleable__control:checked~label.sk-toggleable__label-arrow:before {content: \"▾\";}#sk-container-id-2 div.sk-estimator input.sk-toggleable__control:checked~label.sk-toggleable__label {background-color: #d4ebff;}#sk-container-id-2 div.sk-label input.sk-toggleable__control:checked~label.sk-toggleable__label {background-color: #d4ebff;}#sk-container-id-2 input.sk-hidden--visually {border: 0;clip: rect(1px 1px 1px 1px);clip: rect(1px, 1px, 1px, 1px);height: 1px;margin: -1px;overflow: hidden;padding: 0;position: absolute;width: 1px;}#sk-container-id-2 div.sk-estimator {font-family: monospace;background-color: #f0f8ff;border: 1px dotted black;border-radius: 0.25em;box-sizing: border-box;margin-bottom: 0.5em;}#sk-container-id-2 div.sk-estimator:hover {background-color: #d4ebff;}#sk-container-id-2 div.sk-parallel-item::after {content: \"\";width: 100%;border-bottom: 1px solid gray;flex-grow: 1;}#sk-container-id-2 div.sk-label:hover label.sk-toggleable__label {background-color: #d4ebff;}#sk-container-id-2 div.sk-serial::before {content: \"\";position: absolute;border-left: 1px solid gray;box-sizing: border-box;top: 0;bottom: 0;left: 50%;z-index: 0;}#sk-container-id-2 div.sk-serial {display: flex;flex-direction: column;align-items: center;background-color: white;padding-right: 0.2em;padding-left: 0.2em;position: relative;}#sk-container-id-2 div.sk-item {position: relative;z-index: 1;}#sk-container-id-2 div.sk-parallel {display: flex;align-items: stretch;justify-content: center;background-color: white;position: relative;}#sk-container-id-2 div.sk-item::before, #sk-container-id-2 div.sk-parallel-item::before {content: \"\";position: absolute;border-left: 1px solid gray;box-sizing: border-box;top: 0;bottom: 0;left: 50%;z-index: -1;}#sk-container-id-2 div.sk-parallel-item {display: flex;flex-direction: column;z-index: 1;position: relative;background-color: white;}#sk-container-id-2 div.sk-parallel-item:first-child::after {align-self: flex-end;width: 50%;}#sk-container-id-2 div.sk-parallel-item:last-child::after {align-self: flex-start;width: 50%;}#sk-container-id-2 div.sk-parallel-item:only-child::after {width: 0;}#sk-container-id-2 div.sk-dashed-wrapped {border: 1px dashed gray;margin: 0 0.4em 0.5em 0.4em;box-sizing: border-box;padding-bottom: 0.4em;background-color: white;}#sk-container-id-2 div.sk-label label {font-family: monospace;font-weight: bold;display: inline-block;line-height: 1.2em;}#sk-container-id-2 div.sk-label-container {text-align: center;}#sk-container-id-2 div.sk-container {/* jupyter's `normalize.less` sets `[hidden] { display: none; }` but bootstrap.min.css set `[hidden] { display: none !important; }` so we also need the `!important` here to be able to override the default hidden behavior on the sphinx rendered scikit-learn.org. See: https://github.com/scikit-learn/scikit-learn/issues/21755 */display: inline-block !important;position: relative;}#sk-container-id-2 div.sk-text-repr-fallback {display: none;}</style><div id=\"sk-container-id-2\" class=\"sk-top-container\"><div class=\"sk-text-repr-fallback\"><pre>Ridge(alpha=100)</pre><b>In a Jupyter environment, please rerun this cell to show the HTML representation or trust the notebook. <br />On GitHub, the HTML representation is unable to render, please try loading this page with nbviewer.org.</b></div><div class=\"sk-container\" hidden><div class=\"sk-item\"><div class=\"sk-estimator sk-toggleable\"><input class=\"sk-toggleable__control sk-hidden--visually\" id=\"sk-estimator-id-2\" type=\"checkbox\" checked><label for=\"sk-estimator-id-2\" class=\"sk-toggleable__label sk-toggleable__label-arrow\">Ridge</label><div class=\"sk-toggleable__content\"><pre>Ridge(alpha=100)</pre></div></div></div></div></div>"
            ]
          },
          "metadata": {},
          "execution_count": 65
        }
      ],
      "source": [
        "model_ridge.fit(X_data, y_data) #alpha = 규제항의 파라미터"
      ]
    },
    {
      "cell_type": "code",
      "execution_count": 66,
      "metadata": {
        "colab": {
          "base_uri": "https://localhost:8080/",
          "height": 75
        },
        "id": "kTq2JceLUO8e",
        "outputId": "8a60cc53-4d72-4192-e1a7-5f3259653c77"
      },
      "outputs": [
        {
          "output_type": "execute_result",
          "data": {
            "text/plain": [
              "Lasso(alpha=100)"
            ],
            "text/html": [
              "<style>#sk-container-id-3 {color: black;background-color: white;}#sk-container-id-3 pre{padding: 0;}#sk-container-id-3 div.sk-toggleable {background-color: white;}#sk-container-id-3 label.sk-toggleable__label {cursor: pointer;display: block;width: 100%;margin-bottom: 0;padding: 0.3em;box-sizing: border-box;text-align: center;}#sk-container-id-3 label.sk-toggleable__label-arrow:before {content: \"▸\";float: left;margin-right: 0.25em;color: #696969;}#sk-container-id-3 label.sk-toggleable__label-arrow:hover:before {color: black;}#sk-container-id-3 div.sk-estimator:hover label.sk-toggleable__label-arrow:before {color: black;}#sk-container-id-3 div.sk-toggleable__content {max-height: 0;max-width: 0;overflow: hidden;text-align: left;background-color: #f0f8ff;}#sk-container-id-3 div.sk-toggleable__content pre {margin: 0.2em;color: black;border-radius: 0.25em;background-color: #f0f8ff;}#sk-container-id-3 input.sk-toggleable__control:checked~div.sk-toggleable__content {max-height: 200px;max-width: 100%;overflow: auto;}#sk-container-id-3 input.sk-toggleable__control:checked~label.sk-toggleable__label-arrow:before {content: \"▾\";}#sk-container-id-3 div.sk-estimator input.sk-toggleable__control:checked~label.sk-toggleable__label {background-color: #d4ebff;}#sk-container-id-3 div.sk-label input.sk-toggleable__control:checked~label.sk-toggleable__label {background-color: #d4ebff;}#sk-container-id-3 input.sk-hidden--visually {border: 0;clip: rect(1px 1px 1px 1px);clip: rect(1px, 1px, 1px, 1px);height: 1px;margin: -1px;overflow: hidden;padding: 0;position: absolute;width: 1px;}#sk-container-id-3 div.sk-estimator {font-family: monospace;background-color: #f0f8ff;border: 1px dotted black;border-radius: 0.25em;box-sizing: border-box;margin-bottom: 0.5em;}#sk-container-id-3 div.sk-estimator:hover {background-color: #d4ebff;}#sk-container-id-3 div.sk-parallel-item::after {content: \"\";width: 100%;border-bottom: 1px solid gray;flex-grow: 1;}#sk-container-id-3 div.sk-label:hover label.sk-toggleable__label {background-color: #d4ebff;}#sk-container-id-3 div.sk-serial::before {content: \"\";position: absolute;border-left: 1px solid gray;box-sizing: border-box;top: 0;bottom: 0;left: 50%;z-index: 0;}#sk-container-id-3 div.sk-serial {display: flex;flex-direction: column;align-items: center;background-color: white;padding-right: 0.2em;padding-left: 0.2em;position: relative;}#sk-container-id-3 div.sk-item {position: relative;z-index: 1;}#sk-container-id-3 div.sk-parallel {display: flex;align-items: stretch;justify-content: center;background-color: white;position: relative;}#sk-container-id-3 div.sk-item::before, #sk-container-id-3 div.sk-parallel-item::before {content: \"\";position: absolute;border-left: 1px solid gray;box-sizing: border-box;top: 0;bottom: 0;left: 50%;z-index: -1;}#sk-container-id-3 div.sk-parallel-item {display: flex;flex-direction: column;z-index: 1;position: relative;background-color: white;}#sk-container-id-3 div.sk-parallel-item:first-child::after {align-self: flex-end;width: 50%;}#sk-container-id-3 div.sk-parallel-item:last-child::after {align-self: flex-start;width: 50%;}#sk-container-id-3 div.sk-parallel-item:only-child::after {width: 0;}#sk-container-id-3 div.sk-dashed-wrapped {border: 1px dashed gray;margin: 0 0.4em 0.5em 0.4em;box-sizing: border-box;padding-bottom: 0.4em;background-color: white;}#sk-container-id-3 div.sk-label label {font-family: monospace;font-weight: bold;display: inline-block;line-height: 1.2em;}#sk-container-id-3 div.sk-label-container {text-align: center;}#sk-container-id-3 div.sk-container {/* jupyter's `normalize.less` sets `[hidden] { display: none; }` but bootstrap.min.css set `[hidden] { display: none !important; }` so we also need the `!important` here to be able to override the default hidden behavior on the sphinx rendered scikit-learn.org. See: https://github.com/scikit-learn/scikit-learn/issues/21755 */display: inline-block !important;position: relative;}#sk-container-id-3 div.sk-text-repr-fallback {display: none;}</style><div id=\"sk-container-id-3\" class=\"sk-top-container\"><div class=\"sk-text-repr-fallback\"><pre>Lasso(alpha=100)</pre><b>In a Jupyter environment, please rerun this cell to show the HTML representation or trust the notebook. <br />On GitHub, the HTML representation is unable to render, please try loading this page with nbviewer.org.</b></div><div class=\"sk-container\" hidden><div class=\"sk-item\"><div class=\"sk-estimator sk-toggleable\"><input class=\"sk-toggleable__control sk-hidden--visually\" id=\"sk-estimator-id-3\" type=\"checkbox\" checked><label for=\"sk-estimator-id-3\" class=\"sk-toggleable__label sk-toggleable__label-arrow\">Lasso</label><div class=\"sk-toggleable__content\"><pre>Lasso(alpha=100)</pre></div></div></div></div></div>"
            ]
          },
          "metadata": {},
          "execution_count": 66
        }
      ],
      "source": [
        "model_lasso.fit(X_data, y_data)"
      ]
    },
    {
      "cell_type": "code",
      "execution_count": 67,
      "metadata": {
        "colab": {
          "base_uri": "https://localhost:8080/",
          "height": 131
        },
        "id": "XvYQ6IlFUUIY",
        "outputId": "f4a1b4b3-e6be-40bd-aee0-45ce82717c14"
      },
      "outputs": [
        {
          "output_type": "stream",
          "name": "stderr",
          "text": [
            "/usr/local/lib/python3.10/dist-packages/sklearn/linear_model/_coordinate_descent.py:631: ConvergenceWarning: Objective did not converge. You might want to increase the number of iterations, check the scale of the features or consider increasing regularisation. Duality gap: 1.374e+04, tolerance: 4.272e+00 Linear regression models with null weight for the l1 regularization term are more efficiently fitted using one of the solvers implemented in sklearn.linear_model.Ridge/RidgeCV instead.\n",
            "  model = cd_fast.enet_coordinate_descent(\n"
          ]
        },
        {
          "output_type": "execute_result",
          "data": {
            "text/plain": [
              "ElasticNet(alpha=100, l1_ratio=0)"
            ],
            "text/html": [
              "<style>#sk-container-id-4 {color: black;background-color: white;}#sk-container-id-4 pre{padding: 0;}#sk-container-id-4 div.sk-toggleable {background-color: white;}#sk-container-id-4 label.sk-toggleable__label {cursor: pointer;display: block;width: 100%;margin-bottom: 0;padding: 0.3em;box-sizing: border-box;text-align: center;}#sk-container-id-4 label.sk-toggleable__label-arrow:before {content: \"▸\";float: left;margin-right: 0.25em;color: #696969;}#sk-container-id-4 label.sk-toggleable__label-arrow:hover:before {color: black;}#sk-container-id-4 div.sk-estimator:hover label.sk-toggleable__label-arrow:before {color: black;}#sk-container-id-4 div.sk-toggleable__content {max-height: 0;max-width: 0;overflow: hidden;text-align: left;background-color: #f0f8ff;}#sk-container-id-4 div.sk-toggleable__content pre {margin: 0.2em;color: black;border-radius: 0.25em;background-color: #f0f8ff;}#sk-container-id-4 input.sk-toggleable__control:checked~div.sk-toggleable__content {max-height: 200px;max-width: 100%;overflow: auto;}#sk-container-id-4 input.sk-toggleable__control:checked~label.sk-toggleable__label-arrow:before {content: \"▾\";}#sk-container-id-4 div.sk-estimator input.sk-toggleable__control:checked~label.sk-toggleable__label {background-color: #d4ebff;}#sk-container-id-4 div.sk-label input.sk-toggleable__control:checked~label.sk-toggleable__label {background-color: #d4ebff;}#sk-container-id-4 input.sk-hidden--visually {border: 0;clip: rect(1px 1px 1px 1px);clip: rect(1px, 1px, 1px, 1px);height: 1px;margin: -1px;overflow: hidden;padding: 0;position: absolute;width: 1px;}#sk-container-id-4 div.sk-estimator {font-family: monospace;background-color: #f0f8ff;border: 1px dotted black;border-radius: 0.25em;box-sizing: border-box;margin-bottom: 0.5em;}#sk-container-id-4 div.sk-estimator:hover {background-color: #d4ebff;}#sk-container-id-4 div.sk-parallel-item::after {content: \"\";width: 100%;border-bottom: 1px solid gray;flex-grow: 1;}#sk-container-id-4 div.sk-label:hover label.sk-toggleable__label {background-color: #d4ebff;}#sk-container-id-4 div.sk-serial::before {content: \"\";position: absolute;border-left: 1px solid gray;box-sizing: border-box;top: 0;bottom: 0;left: 50%;z-index: 0;}#sk-container-id-4 div.sk-serial {display: flex;flex-direction: column;align-items: center;background-color: white;padding-right: 0.2em;padding-left: 0.2em;position: relative;}#sk-container-id-4 div.sk-item {position: relative;z-index: 1;}#sk-container-id-4 div.sk-parallel {display: flex;align-items: stretch;justify-content: center;background-color: white;position: relative;}#sk-container-id-4 div.sk-item::before, #sk-container-id-4 div.sk-parallel-item::before {content: \"\";position: absolute;border-left: 1px solid gray;box-sizing: border-box;top: 0;bottom: 0;left: 50%;z-index: -1;}#sk-container-id-4 div.sk-parallel-item {display: flex;flex-direction: column;z-index: 1;position: relative;background-color: white;}#sk-container-id-4 div.sk-parallel-item:first-child::after {align-self: flex-end;width: 50%;}#sk-container-id-4 div.sk-parallel-item:last-child::after {align-self: flex-start;width: 50%;}#sk-container-id-4 div.sk-parallel-item:only-child::after {width: 0;}#sk-container-id-4 div.sk-dashed-wrapped {border: 1px dashed gray;margin: 0 0.4em 0.5em 0.4em;box-sizing: border-box;padding-bottom: 0.4em;background-color: white;}#sk-container-id-4 div.sk-label label {font-family: monospace;font-weight: bold;display: inline-block;line-height: 1.2em;}#sk-container-id-4 div.sk-label-container {text-align: center;}#sk-container-id-4 div.sk-container {/* jupyter's `normalize.less` sets `[hidden] { display: none; }` but bootstrap.min.css set `[hidden] { display: none !important; }` so we also need the `!important` here to be able to override the default hidden behavior on the sphinx rendered scikit-learn.org. See: https://github.com/scikit-learn/scikit-learn/issues/21755 */display: inline-block !important;position: relative;}#sk-container-id-4 div.sk-text-repr-fallback {display: none;}</style><div id=\"sk-container-id-4\" class=\"sk-top-container\"><div class=\"sk-text-repr-fallback\"><pre>ElasticNet(alpha=100, l1_ratio=0)</pre><b>In a Jupyter environment, please rerun this cell to show the HTML representation or trust the notebook. <br />On GitHub, the HTML representation is unable to render, please try loading this page with nbviewer.org.</b></div><div class=\"sk-container\" hidden><div class=\"sk-item\"><div class=\"sk-estimator sk-toggleable\"><input class=\"sk-toggleable__control sk-hidden--visually\" id=\"sk-estimator-id-4\" type=\"checkbox\" checked><label for=\"sk-estimator-id-4\" class=\"sk-toggleable__label sk-toggleable__label-arrow\">ElasticNet</label><div class=\"sk-toggleable__content\"><pre>ElasticNet(alpha=100, l1_ratio=0)</pre></div></div></div></div></div>"
            ]
          },
          "metadata": {},
          "execution_count": 67
        }
      ],
      "source": [
        "model_elastic.fit(X_data, y_data)"
      ]
    },
    {
      "cell_type": "code",
      "execution_count": 68,
      "metadata": {
        "colab": {
          "base_uri": "https://localhost:8080/"
        },
        "id": "HoSW3HbvUWVG",
        "outputId": "631c1554-bf27-46d7-b569-de2348e095ee"
      },
      "outputs": [
        {
          "output_type": "execute_result",
          "data": {
            "text/plain": [
              "340.8546317880278"
            ]
          },
          "metadata": {},
          "execution_count": 68
        }
      ],
      "source": [
        "model_linear.coef_, model_linear.intercept_\n",
        "np.sum(np.square(model_linear.coef_))"
      ]
    },
    {
      "cell_type": "code",
      "execution_count": 69,
      "metadata": {
        "colab": {
          "base_uri": "https://localhost:8080/"
        },
        "id": "-G5UARONUivE",
        "outputId": "2577cc5c-40fd-4e47-8a31-12f9b9322894"
      },
      "outputs": [
        {
          "output_type": "execute_result",
          "data": {
            "text/plain": [
              "8.497133769333772"
            ]
          },
          "metadata": {},
          "execution_count": 69
        }
      ],
      "source": [
        "model_ridge.coef_, model_ridge.intercept_\n",
        "np.sum(np.square(model_ridge.coef_))"
      ]
    },
    {
      "cell_type": "code",
      "execution_count": 70,
      "metadata": {
        "colab": {
          "base_uri": "https://localhost:8080/"
        },
        "id": "XoIHThdnUnGI",
        "outputId": "d997c03d-0041-43ec-d7c1-dd48af3e3f36"
      },
      "outputs": [
        {
          "output_type": "execute_result",
          "data": {
            "text/plain": [
              "(array([-0.        ,  0.        , -0.        ,  0.        , -0.        ,\n",
              "         0.        , -0.        ,  0.        , -0.        , -0.02097192,\n",
              "        -0.        ,  0.00446643, -0.        ]),\n",
              " 29.501261690147523)"
            ]
          },
          "metadata": {},
          "execution_count": 70
        }
      ],
      "source": [
        "model_lasso.coef_, model_lasso.intercept_"
      ]
    },
    {
      "cell_type": "code",
      "execution_count": 71,
      "metadata": {
        "colab": {
          "base_uri": "https://localhost:8080/"
        },
        "id": "qUT5HVdUU3xI",
        "outputId": "d3694e73-d4f5-4747-cc82-fb7c09949831"
      },
      "outputs": [
        {
          "output_type": "execute_result",
          "data": {
            "text/plain": [
              "(array([-4.20303747e-02,  5.66652425e-02, -3.00379324e-02,  3.65604869e-03,\n",
              "        -1.40914977e-04,  2.85360587e-02, -6.70493203e-03, -2.42317497e-02,\n",
              "         3.84065705e-02, -1.45230950e-02, -4.58618597e-02,  1.19980485e-02,\n",
              "        -2.00379038e-01]),\n",
              " 27.41205223196512)"
            ]
          },
          "metadata": {},
          "execution_count": 71
        }
      ],
      "source": [
        "model_elastic.coef_, model_elastic.intercept_"
      ]
    },
    {
      "cell_type": "code",
      "execution_count": null,
      "metadata": {
        "id": "uFODL3VbU8SH"
      },
      "outputs": [],
      "source": []
    }
  ],
  "metadata": {
    "colab": {
      "provenance": [],
      "include_colab_link": true
    },
    "kernelspec": {
      "display_name": "Python 3",
      "language": "python",
      "name": "python3"
    },
    "language_info": {
      "codemirror_mode": {
        "name": "ipython",
        "version": 3
      },
      "file_extension": ".py",
      "mimetype": "text/x-python",
      "name": "python",
      "nbconvert_exporter": "python",
      "pygments_lexer": "ipython3",
      "version": "3.7.4"
    }
  },
  "nbformat": 4,
  "nbformat_minor": 0
}