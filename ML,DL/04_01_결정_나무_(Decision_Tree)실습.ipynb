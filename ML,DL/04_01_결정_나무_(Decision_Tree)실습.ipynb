{
  "cells": [
    {
      "cell_type": "markdown",
      "metadata": {
        "id": "view-in-github",
        "colab_type": "text"
      },
      "source": [
        "<a href=\"https://colab.research.google.com/github/HyeongseokKim/My_codes/blob/main/04_01_%EA%B2%B0%EC%A0%95_%EB%82%98%EB%AC%B4_(Decision_Tree)%EC%8B%A4%EC%8A%B5.ipynb\" target=\"_parent\"><img src=\"https://colab.research.google.com/assets/colab-badge.svg\" alt=\"Open In Colab\"/></a>"
      ]
    },
    {
      "cell_type": "code",
      "execution_count": 1,
      "metadata": {
        "id": "J0iV0AWvvLpn",
        "colab": {
          "base_uri": "https://localhost:8080/"
        },
        "outputId": "8cd27275-1569-41e5-9f35-da26b683d944"
      },
      "outputs": [
        {
          "output_type": "stream",
          "name": "stdout",
          "text": [
            "Reading package lists... Done\n",
            "Building dependency tree       \n",
            "Reading state information... Done\n",
            "The following NEW packages will be installed:\n",
            "  fonts-nanum\n",
            "0 upgraded, 1 newly installed, 0 to remove and 15 not upgraded.\n",
            "Need to get 9,599 kB of archives.\n",
            "After this operation, 29.6 MB of additional disk space will be used.\n",
            "Get:1 http://archive.ubuntu.com/ubuntu focal/universe amd64 fonts-nanum all 20180306-3 [9,599 kB]\n",
            "Fetched 9,599 kB in 2s (5,058 kB/s)\n",
            "debconf: unable to initialize frontend: Dialog\n",
            "debconf: (No usable dialog-like program is installed, so the dialog based frontend cannot be used. at /usr/share/perl5/Debconf/FrontEnd/Dialog.pm line 76, <> line 1.)\n",
            "debconf: falling back to frontend: Readline\n",
            "debconf: unable to initialize frontend: Readline\n",
            "debconf: (This frontend requires a controlling tty.)\n",
            "debconf: falling back to frontend: Teletype\n",
            "dpkg-preconfigure: unable to re-open stdin: \n",
            "Selecting previously unselected package fonts-nanum.\n",
            "(Reading database ... 123105 files and directories currently installed.)\n",
            "Preparing to unpack .../fonts-nanum_20180306-3_all.deb ...\n",
            "Unpacking fonts-nanum (20180306-3) ...\n",
            "Setting up fonts-nanum (20180306-3) ...\n",
            "Processing triggers for fontconfig (2.13.1-2ubuntu3) ...\n",
            "/usr/share/fonts: caching, new cache contents: 0 fonts, 1 dirs\n",
            "/usr/share/fonts/truetype: caching, new cache contents: 0 fonts, 3 dirs\n",
            "/usr/share/fonts/truetype/humor-sans: caching, new cache contents: 1 fonts, 0 dirs\n",
            "/usr/share/fonts/truetype/liberation: caching, new cache contents: 16 fonts, 0 dirs\n",
            "/usr/share/fonts/truetype/nanum: caching, new cache contents: 10 fonts, 0 dirs\n",
            "/usr/local/share/fonts: caching, new cache contents: 0 fonts, 0 dirs\n",
            "/root/.local/share/fonts: skipping, no such directory\n",
            "/root/.fonts: skipping, no such directory\n",
            "/usr/share/fonts/truetype: skipping, looped directory detected\n",
            "/usr/share/fonts/truetype/humor-sans: skipping, looped directory detected\n",
            "/usr/share/fonts/truetype/liberation: skipping, looped directory detected\n",
            "/usr/share/fonts/truetype/nanum: skipping, looped directory detected\n",
            "/var/cache/fontconfig: cleaning cache directory\n",
            "/root/.cache/fontconfig: not cleaning non-existent cache directory\n",
            "/root/.fontconfig: not cleaning non-existent cache directory\n",
            "fc-cache: succeeded\n"
          ]
        }
      ],
      "source": [
        "# Colab 한글 깨짐 해결 위한 폰트 설치\n",
        "!sudo apt-get install -y fonts-nanum\n",
        "!sudo fc-cache -fv\n",
        "!rm ~/.cache/matplotlib -rf\n",
        "\n",
        "# 런타임 재시작 !"
      ]
    },
    {
      "cell_type": "code",
      "execution_count": 1,
      "metadata": {
        "id": "D6Gg-hGpKprB"
      },
      "outputs": [],
      "source": [
        "# matplotlib 설정\n",
        "import matplotlib.pyplot as plt\n",
        "%matplotlib inline\n",
        "plt.rc('font', family='NanumBarunGothic')\n",
        "plt.rcParams['axes.unicode_minus'] = False\n",
        "\n",
        "import warnings\n",
        "warnings.filterwarnings('ignore')\n",
        "\n",
        "import numpy as np"
      ]
    },
    {
      "cell_type": "markdown",
      "metadata": {
        "id": "zpEIO0vjKprF"
      },
      "source": [
        "# Decision Tree"
      ]
    },
    {
      "cell_type": "markdown",
      "metadata": {
        "id": "ohYsnnhjKprG"
      },
      "source": [
        "### Decison Tree Classifier"
      ]
    },
    {
      "cell_type": "code",
      "execution_count": 5,
      "metadata": {
        "id": "WV70UHLSKprH"
      },
      "outputs": [],
      "source": [
        "from sklearn.tree import DecisionTreeClassifier as DT\n",
        "from sklearn.datasets import load_iris\n",
        "from sklearn.model_selection import train_test_split"
      ]
    },
    {
      "cell_type": "code",
      "execution_count": 3,
      "metadata": {
        "colab": {
          "base_uri": "https://localhost:8080/"
        },
        "id": "pw1TYeQCLOlP",
        "outputId": "2c31876c-3244-4703-a4de-1a21454c306f"
      },
      "outputs": [
        {
          "output_type": "execute_result",
          "data": {
            "text/plain": [
              "dtype('float64')"
            ]
          },
          "metadata": {},
          "execution_count": 3
        }
      ],
      "source": [
        "iris = load_iris()\n",
        "iris.data.dtype"
      ]
    },
    {
      "cell_type": "code",
      "execution_count": 4,
      "metadata": {
        "id": "-U-Fo0kUKprJ"
      },
      "outputs": [],
      "source": [
        "X_train, X_test, y_train, y_test = train_test_split(iris.data[:, :2], iris.target,\n",
        "                                                   stratify = iris.target,\n",
        "                                                   shuffle = True)\n",
        "# 시각화를 위해서 특성을 2개만 사용점에 주의하자."
      ]
    },
    {
      "cell_type": "code",
      "execution_count": 6,
      "metadata": {
        "colab": {
          "base_uri": "https://localhost:8080/"
        },
        "id": "_bt8_7HXLekl",
        "outputId": "c142bbdf-af88-4658-b12d-d6bfaae31ce4"
      },
      "outputs": [
        {
          "output_type": "execute_result",
          "data": {
            "text/plain": [
              "((112, 2), (38, 2))"
            ]
          },
          "metadata": {},
          "execution_count": 6
        }
      ],
      "source": [
        "X_train.shape, X_test.shape"
      ]
    },
    {
      "cell_type": "code",
      "execution_count": 7,
      "metadata": {
        "colab": {
          "base_uri": "https://localhost:8080/"
        },
        "id": "W3WI9thkNq0D",
        "outputId": "6dbdc14d-3c59-4200-e9f5-4388241f1d99"
      },
      "outputs": [
        {
          "output_type": "execute_result",
          "data": {
            "text/plain": [
              "['sepal length (cm)',\n",
              " 'sepal width (cm)',\n",
              " 'petal length (cm)',\n",
              " 'petal width (cm)']"
            ]
          },
          "metadata": {},
          "execution_count": 7
        }
      ],
      "source": [
        "iris.feature_names"
      ]
    },
    {
      "cell_type": "code",
      "execution_count": 8,
      "metadata": {
        "colab": {
          "base_uri": "https://localhost:8080/",
          "height": 206
        },
        "id": "kN6F5VY3NU1C",
        "outputId": "5d638bc8-8af6-43cd-a722-665c643159ba"
      },
      "outputs": [
        {
          "output_type": "execute_result",
          "data": {
            "text/plain": [
              "   sepal length (cm)  sepal width (cm)\n",
              "0                5.0               2.0\n",
              "1                6.4               2.7\n",
              "2                6.7               3.0\n",
              "3                5.0               3.4\n",
              "4                5.0               3.5"
            ],
            "text/html": [
              "\n",
              "\n",
              "  <div id=\"df-d60d9c2e-f1b4-4d18-8e83-b8d04edf0b8c\">\n",
              "    <div class=\"colab-df-container\">\n",
              "      <div>\n",
              "<style scoped>\n",
              "    .dataframe tbody tr th:only-of-type {\n",
              "        vertical-align: middle;\n",
              "    }\n",
              "\n",
              "    .dataframe tbody tr th {\n",
              "        vertical-align: top;\n",
              "    }\n",
              "\n",
              "    .dataframe thead th {\n",
              "        text-align: right;\n",
              "    }\n",
              "</style>\n",
              "<table border=\"1\" class=\"dataframe\">\n",
              "  <thead>\n",
              "    <tr style=\"text-align: right;\">\n",
              "      <th></th>\n",
              "      <th>sepal length (cm)</th>\n",
              "      <th>sepal width (cm)</th>\n",
              "    </tr>\n",
              "  </thead>\n",
              "  <tbody>\n",
              "    <tr>\n",
              "      <th>0</th>\n",
              "      <td>5.0</td>\n",
              "      <td>2.0</td>\n",
              "    </tr>\n",
              "    <tr>\n",
              "      <th>1</th>\n",
              "      <td>6.4</td>\n",
              "      <td>2.7</td>\n",
              "    </tr>\n",
              "    <tr>\n",
              "      <th>2</th>\n",
              "      <td>6.7</td>\n",
              "      <td>3.0</td>\n",
              "    </tr>\n",
              "    <tr>\n",
              "      <th>3</th>\n",
              "      <td>5.0</td>\n",
              "      <td>3.4</td>\n",
              "    </tr>\n",
              "    <tr>\n",
              "      <th>4</th>\n",
              "      <td>5.0</td>\n",
              "      <td>3.5</td>\n",
              "    </tr>\n",
              "  </tbody>\n",
              "</table>\n",
              "</div>\n",
              "      <button class=\"colab-df-convert\" onclick=\"convertToInteractive('df-d60d9c2e-f1b4-4d18-8e83-b8d04edf0b8c')\"\n",
              "              title=\"Convert this dataframe to an interactive table.\"\n",
              "              style=\"display:none;\">\n",
              "\n",
              "  <svg xmlns=\"http://www.w3.org/2000/svg\" height=\"24px\"viewBox=\"0 0 24 24\"\n",
              "       width=\"24px\">\n",
              "    <path d=\"M0 0h24v24H0V0z\" fill=\"none\"/>\n",
              "    <path d=\"M18.56 5.44l.94 2.06.94-2.06 2.06-.94-2.06-.94-.94-2.06-.94 2.06-2.06.94zm-11 1L8.5 8.5l.94-2.06 2.06-.94-2.06-.94L8.5 2.5l-.94 2.06-2.06.94zm10 10l.94 2.06.94-2.06 2.06-.94-2.06-.94-.94-2.06-.94 2.06-2.06.94z\"/><path d=\"M17.41 7.96l-1.37-1.37c-.4-.4-.92-.59-1.43-.59-.52 0-1.04.2-1.43.59L10.3 9.45l-7.72 7.72c-.78.78-.78 2.05 0 2.83L4 21.41c.39.39.9.59 1.41.59.51 0 1.02-.2 1.41-.59l7.78-7.78 2.81-2.81c.8-.78.8-2.07 0-2.86zM5.41 20L4 18.59l7.72-7.72 1.47 1.35L5.41 20z\"/>\n",
              "  </svg>\n",
              "      </button>\n",
              "\n",
              "\n",
              "\n",
              "    <div id=\"df-ff87bce5-c3c6-42a9-9ab9-964aa5a9e63f\">\n",
              "      <button class=\"colab-df-quickchart\" onclick=\"quickchart('df-ff87bce5-c3c6-42a9-9ab9-964aa5a9e63f')\"\n",
              "              title=\"Suggest charts.\"\n",
              "              style=\"display:none;\">\n",
              "\n",
              "<svg xmlns=\"http://www.w3.org/2000/svg\" height=\"24px\"viewBox=\"0 0 24 24\"\n",
              "     width=\"24px\">\n",
              "    <g>\n",
              "        <path d=\"M19 3H5c-1.1 0-2 .9-2 2v14c0 1.1.9 2 2 2h14c1.1 0 2-.9 2-2V5c0-1.1-.9-2-2-2zM9 17H7v-7h2v7zm4 0h-2V7h2v10zm4 0h-2v-4h2v4z\"/>\n",
              "    </g>\n",
              "</svg>\n",
              "      </button>\n",
              "    </div>\n",
              "\n",
              "<style>\n",
              "  .colab-df-quickchart {\n",
              "    background-color: #E8F0FE;\n",
              "    border: none;\n",
              "    border-radius: 50%;\n",
              "    cursor: pointer;\n",
              "    display: none;\n",
              "    fill: #1967D2;\n",
              "    height: 32px;\n",
              "    padding: 0 0 0 0;\n",
              "    width: 32px;\n",
              "  }\n",
              "\n",
              "  .colab-df-quickchart:hover {\n",
              "    background-color: #E2EBFA;\n",
              "    box-shadow: 0px 1px 2px rgba(60, 64, 67, 0.3), 0px 1px 3px 1px rgba(60, 64, 67, 0.15);\n",
              "    fill: #174EA6;\n",
              "  }\n",
              "\n",
              "  [theme=dark] .colab-df-quickchart {\n",
              "    background-color: #3B4455;\n",
              "    fill: #D2E3FC;\n",
              "  }\n",
              "\n",
              "  [theme=dark] .colab-df-quickchart:hover {\n",
              "    background-color: #434B5C;\n",
              "    box-shadow: 0px 1px 3px 1px rgba(0, 0, 0, 0.15);\n",
              "    filter: drop-shadow(0px 1px 2px rgba(0, 0, 0, 0.3));\n",
              "    fill: #FFFFFF;\n",
              "  }\n",
              "</style>\n",
              "\n",
              "    <script>\n",
              "      async function quickchart(key) {\n",
              "        const containerElement = document.querySelector('#' + key);\n",
              "        const charts = await google.colab.kernel.invokeFunction(\n",
              "            'suggestCharts', [key], {});\n",
              "      }\n",
              "    </script>\n",
              "\n",
              "      <script>\n",
              "\n",
              "function displayQuickchartButton(domScope) {\n",
              "  let quickchartButtonEl =\n",
              "    domScope.querySelector('#df-ff87bce5-c3c6-42a9-9ab9-964aa5a9e63f button.colab-df-quickchart');\n",
              "  quickchartButtonEl.style.display =\n",
              "    google.colab.kernel.accessAllowed ? 'block' : 'none';\n",
              "}\n",
              "\n",
              "        displayQuickchartButton(document);\n",
              "      </script>\n",
              "      <style>\n",
              "    .colab-df-container {\n",
              "      display:flex;\n",
              "      flex-wrap:wrap;\n",
              "      gap: 12px;\n",
              "    }\n",
              "\n",
              "    .colab-df-convert {\n",
              "      background-color: #E8F0FE;\n",
              "      border: none;\n",
              "      border-radius: 50%;\n",
              "      cursor: pointer;\n",
              "      display: none;\n",
              "      fill: #1967D2;\n",
              "      height: 32px;\n",
              "      padding: 0 0 0 0;\n",
              "      width: 32px;\n",
              "    }\n",
              "\n",
              "    .colab-df-convert:hover {\n",
              "      background-color: #E2EBFA;\n",
              "      box-shadow: 0px 1px 2px rgba(60, 64, 67, 0.3), 0px 1px 3px 1px rgba(60, 64, 67, 0.15);\n",
              "      fill: #174EA6;\n",
              "    }\n",
              "\n",
              "    [theme=dark] .colab-df-convert {\n",
              "      background-color: #3B4455;\n",
              "      fill: #D2E3FC;\n",
              "    }\n",
              "\n",
              "    [theme=dark] .colab-df-convert:hover {\n",
              "      background-color: #434B5C;\n",
              "      box-shadow: 0px 1px 3px 1px rgba(0, 0, 0, 0.15);\n",
              "      filter: drop-shadow(0px 1px 2px rgba(0, 0, 0, 0.3));\n",
              "      fill: #FFFFFF;\n",
              "    }\n",
              "  </style>\n",
              "\n",
              "      <script>\n",
              "        const buttonEl =\n",
              "          document.querySelector('#df-d60d9c2e-f1b4-4d18-8e83-b8d04edf0b8c button.colab-df-convert');\n",
              "        buttonEl.style.display =\n",
              "          google.colab.kernel.accessAllowed ? 'block' : 'none';\n",
              "\n",
              "        async function convertToInteractive(key) {\n",
              "          const element = document.querySelector('#df-d60d9c2e-f1b4-4d18-8e83-b8d04edf0b8c');\n",
              "          const dataTable =\n",
              "            await google.colab.kernel.invokeFunction('convertToInteractive',\n",
              "                                                     [key], {});\n",
              "          if (!dataTable) return;\n",
              "\n",
              "          const docLinkHtml = 'Like what you see? Visit the ' +\n",
              "            '<a target=\"_blank\" href=https://colab.research.google.com/notebooks/data_table.ipynb>data table notebook</a>'\n",
              "            + ' to learn more about interactive tables.';\n",
              "          element.innerHTML = '';\n",
              "          dataTable['output_type'] = 'display_data';\n",
              "          await google.colab.output.renderOutput(dataTable, element);\n",
              "          const docLink = document.createElement('div');\n",
              "          docLink.innerHTML = docLinkHtml;\n",
              "          element.appendChild(docLink);\n",
              "        }\n",
              "      </script>\n",
              "    </div>\n",
              "  </div>\n"
            ]
          },
          "metadata": {},
          "execution_count": 8
        }
      ],
      "source": [
        "# feature가 어떤 것들이 있을까? (몇 개?)\n",
        "import pandas as pd\n",
        "\n",
        "X_train_df = pd.DataFrame(X_train, columns = iris.feature_names[:2])\n",
        "X_train_df.head()"
      ]
    },
    {
      "cell_type": "markdown",
      "metadata": {
        "id": "3RGNLCk_NUjr"
      },
      "source": [
        "모델 설정"
      ]
    },
    {
      "cell_type": "code",
      "execution_count": null,
      "metadata": {
        "id": "n3eieNmBqtdU"
      },
      "outputs": [],
      "source": [
        "DecisionTreeClassifier?"
      ]
    },
    {
      "cell_type": "code",
      "execution_count": 9,
      "metadata": {
        "id": "iMDkLT0TKprL"
      },
      "outputs": [],
      "source": [
        "model_dt = DT(criterion = 'entropy', max_depth = 1,\n",
        "                                  random_state = 0).fit(X_train, y_train)"
      ]
    },
    {
      "cell_type": "markdown",
      "metadata": {
        "id": "H5OyAgCrKprN"
      },
      "source": [
        "- criterion는 불순도를 측정하는 방법을 선택할 수 있다. 기본값으로는 'gini'를 사용하지만 'entropy'를 입력하여 'entropy'를 사용할 수 도 있다. 둘중에 어느것을 선택해서 써도 결과적으로는 큰 차이가 없다. 다만 지니가 계산이 빨라 기본으로 사용된다.\n",
        "- presort를 True로 설정하면 데이터를 미리 정렬하여 속도를 높일 수 있다. 그러나 데이터가 작을 경우에나 가능하지 데이터가 크다면 오히려 속도가 더 느려지게 된다."
      ]
    },
    {
      "cell_type": "markdown",
      "metadata": {
        "id": "w8YOqfmNKprO"
      },
      "source": [
        "#### 복잡도를 제어하는 파라미터"
      ]
    },
    {
      "cell_type": "markdown",
      "metadata": {
        "id": "laLPt5yPKprO"
      },
      "source": [
        "- Decision Tree에서는 일반적으로 훈련을 할 떄 제약사항이 없다. 그래서 훈련을 시키면 훈련 데이터에 아주 가깝게 맞추려고 한다. 그러면 자연스럽게 모델은 과적합이 된다.\n",
        "그래서 트리가 깊어지는 것을 막기 위한 가지치기 작업들이 필요한데 사이킷런에는 과적합을 방지하기위한 파라미터들이 존재한다.\n",
        "\n",
        "  1. max_depth는 트리의 최대 깊이를 제어할 수 있는 명령어다.\n",
        "  2. min_sample_split은 분할되기 위해 노드가 가져야할 최소 샘플 수를 지정한다. 기본값은 2\n",
        "  3. min_samples_leaf는 리프노드가 가지고 있어야할 최소 샘플 수를 지정한다. 기본값은 1\n",
        "  4. max_feature는 각 노드에서 분할시 사용할 특성의 최대 수를 지정한다.\n",
        "  5. max_leaf_node는 리프노드의 최대 수를 지정한다."
      ]
    },
    {
      "cell_type": "code",
      "execution_count": 10,
      "metadata": {
        "id": "UXg_n4zKKprP"
      },
      "outputs": [],
      "source": [
        "from sklearn.tree import export_graphviz\n",
        "export_graphviz(model_dt, out_file = 'tree.dot', class_names = iris.target_names,\n",
        "               feature_names = iris.feature_names[:2], filled = True)"
      ]
    },
    {
      "cell_type": "markdown",
      "metadata": {
        "id": "CrHmlj8xKprR"
      },
      "source": [
        "- tree모듈에 export_graphviz를 이용하여 결정트리를 시각화할 수 있다.\n",
        "'.dot' 형식의 파일로 그래프를 저장한다.\n",
        "class_names과 feature_names는 각각 클래스의 명과 특성들의 이름을 설정할 수 있다.\n",
        "filled를 True로 설정하면 노드의 클래스를 구분하기 위해 색이 칠해진다."
      ]
    },
    {
      "cell_type": "code",
      "execution_count": 11,
      "metadata": {
        "colab": {
          "base_uri": "https://localhost:8080/",
          "height": 206
        },
        "id": "99_ZzCiXPsGQ",
        "outputId": "9191eab2-45ca-4814-9db7-422489b82fc9"
      },
      "outputs": [
        {
          "output_type": "execute_result",
          "data": {
            "text/plain": [
              "   sepal length (cm)  sepal width (cm)\n",
              "0                5.0               2.0\n",
              "1                6.4               2.7\n",
              "2                6.7               3.0\n",
              "3                5.0               3.4\n",
              "4                5.0               3.5"
            ],
            "text/html": [
              "\n",
              "\n",
              "  <div id=\"df-352df5db-8f9d-4791-bb3f-f9426b9434da\">\n",
              "    <div class=\"colab-df-container\">\n",
              "      <div>\n",
              "<style scoped>\n",
              "    .dataframe tbody tr th:only-of-type {\n",
              "        vertical-align: middle;\n",
              "    }\n",
              "\n",
              "    .dataframe tbody tr th {\n",
              "        vertical-align: top;\n",
              "    }\n",
              "\n",
              "    .dataframe thead th {\n",
              "        text-align: right;\n",
              "    }\n",
              "</style>\n",
              "<table border=\"1\" class=\"dataframe\">\n",
              "  <thead>\n",
              "    <tr style=\"text-align: right;\">\n",
              "      <th></th>\n",
              "      <th>sepal length (cm)</th>\n",
              "      <th>sepal width (cm)</th>\n",
              "    </tr>\n",
              "  </thead>\n",
              "  <tbody>\n",
              "    <tr>\n",
              "      <th>0</th>\n",
              "      <td>5.0</td>\n",
              "      <td>2.0</td>\n",
              "    </tr>\n",
              "    <tr>\n",
              "      <th>1</th>\n",
              "      <td>6.4</td>\n",
              "      <td>2.7</td>\n",
              "    </tr>\n",
              "    <tr>\n",
              "      <th>2</th>\n",
              "      <td>6.7</td>\n",
              "      <td>3.0</td>\n",
              "    </tr>\n",
              "    <tr>\n",
              "      <th>3</th>\n",
              "      <td>5.0</td>\n",
              "      <td>3.4</td>\n",
              "    </tr>\n",
              "    <tr>\n",
              "      <th>4</th>\n",
              "      <td>5.0</td>\n",
              "      <td>3.5</td>\n",
              "    </tr>\n",
              "  </tbody>\n",
              "</table>\n",
              "</div>\n",
              "      <button class=\"colab-df-convert\" onclick=\"convertToInteractive('df-352df5db-8f9d-4791-bb3f-f9426b9434da')\"\n",
              "              title=\"Convert this dataframe to an interactive table.\"\n",
              "              style=\"display:none;\">\n",
              "\n",
              "  <svg xmlns=\"http://www.w3.org/2000/svg\" height=\"24px\"viewBox=\"0 0 24 24\"\n",
              "       width=\"24px\">\n",
              "    <path d=\"M0 0h24v24H0V0z\" fill=\"none\"/>\n",
              "    <path d=\"M18.56 5.44l.94 2.06.94-2.06 2.06-.94-2.06-.94-.94-2.06-.94 2.06-2.06.94zm-11 1L8.5 8.5l.94-2.06 2.06-.94-2.06-.94L8.5 2.5l-.94 2.06-2.06.94zm10 10l.94 2.06.94-2.06 2.06-.94-2.06-.94-.94-2.06-.94 2.06-2.06.94z\"/><path d=\"M17.41 7.96l-1.37-1.37c-.4-.4-.92-.59-1.43-.59-.52 0-1.04.2-1.43.59L10.3 9.45l-7.72 7.72c-.78.78-.78 2.05 0 2.83L4 21.41c.39.39.9.59 1.41.59.51 0 1.02-.2 1.41-.59l7.78-7.78 2.81-2.81c.8-.78.8-2.07 0-2.86zM5.41 20L4 18.59l7.72-7.72 1.47 1.35L5.41 20z\"/>\n",
              "  </svg>\n",
              "      </button>\n",
              "\n",
              "\n",
              "\n",
              "    <div id=\"df-01f4897f-5177-4c77-9fe1-d4a740ca9bbc\">\n",
              "      <button class=\"colab-df-quickchart\" onclick=\"quickchart('df-01f4897f-5177-4c77-9fe1-d4a740ca9bbc')\"\n",
              "              title=\"Suggest charts.\"\n",
              "              style=\"display:none;\">\n",
              "\n",
              "<svg xmlns=\"http://www.w3.org/2000/svg\" height=\"24px\"viewBox=\"0 0 24 24\"\n",
              "     width=\"24px\">\n",
              "    <g>\n",
              "        <path d=\"M19 3H5c-1.1 0-2 .9-2 2v14c0 1.1.9 2 2 2h14c1.1 0 2-.9 2-2V5c0-1.1-.9-2-2-2zM9 17H7v-7h2v7zm4 0h-2V7h2v10zm4 0h-2v-4h2v4z\"/>\n",
              "    </g>\n",
              "</svg>\n",
              "      </button>\n",
              "    </div>\n",
              "\n",
              "<style>\n",
              "  .colab-df-quickchart {\n",
              "    background-color: #E8F0FE;\n",
              "    border: none;\n",
              "    border-radius: 50%;\n",
              "    cursor: pointer;\n",
              "    display: none;\n",
              "    fill: #1967D2;\n",
              "    height: 32px;\n",
              "    padding: 0 0 0 0;\n",
              "    width: 32px;\n",
              "  }\n",
              "\n",
              "  .colab-df-quickchart:hover {\n",
              "    background-color: #E2EBFA;\n",
              "    box-shadow: 0px 1px 2px rgba(60, 64, 67, 0.3), 0px 1px 3px 1px rgba(60, 64, 67, 0.15);\n",
              "    fill: #174EA6;\n",
              "  }\n",
              "\n",
              "  [theme=dark] .colab-df-quickchart {\n",
              "    background-color: #3B4455;\n",
              "    fill: #D2E3FC;\n",
              "  }\n",
              "\n",
              "  [theme=dark] .colab-df-quickchart:hover {\n",
              "    background-color: #434B5C;\n",
              "    box-shadow: 0px 1px 3px 1px rgba(0, 0, 0, 0.15);\n",
              "    filter: drop-shadow(0px 1px 2px rgba(0, 0, 0, 0.3));\n",
              "    fill: #FFFFFF;\n",
              "  }\n",
              "</style>\n",
              "\n",
              "    <script>\n",
              "      async function quickchart(key) {\n",
              "        const containerElement = document.querySelector('#' + key);\n",
              "        const charts = await google.colab.kernel.invokeFunction(\n",
              "            'suggestCharts', [key], {});\n",
              "      }\n",
              "    </script>\n",
              "\n",
              "      <script>\n",
              "\n",
              "function displayQuickchartButton(domScope) {\n",
              "  let quickchartButtonEl =\n",
              "    domScope.querySelector('#df-01f4897f-5177-4c77-9fe1-d4a740ca9bbc button.colab-df-quickchart');\n",
              "  quickchartButtonEl.style.display =\n",
              "    google.colab.kernel.accessAllowed ? 'block' : 'none';\n",
              "}\n",
              "\n",
              "        displayQuickchartButton(document);\n",
              "      </script>\n",
              "      <style>\n",
              "    .colab-df-container {\n",
              "      display:flex;\n",
              "      flex-wrap:wrap;\n",
              "      gap: 12px;\n",
              "    }\n",
              "\n",
              "    .colab-df-convert {\n",
              "      background-color: #E8F0FE;\n",
              "      border: none;\n",
              "      border-radius: 50%;\n",
              "      cursor: pointer;\n",
              "      display: none;\n",
              "      fill: #1967D2;\n",
              "      height: 32px;\n",
              "      padding: 0 0 0 0;\n",
              "      width: 32px;\n",
              "    }\n",
              "\n",
              "    .colab-df-convert:hover {\n",
              "      background-color: #E2EBFA;\n",
              "      box-shadow: 0px 1px 2px rgba(60, 64, 67, 0.3), 0px 1px 3px 1px rgba(60, 64, 67, 0.15);\n",
              "      fill: #174EA6;\n",
              "    }\n",
              "\n",
              "    [theme=dark] .colab-df-convert {\n",
              "      background-color: #3B4455;\n",
              "      fill: #D2E3FC;\n",
              "    }\n",
              "\n",
              "    [theme=dark] .colab-df-convert:hover {\n",
              "      background-color: #434B5C;\n",
              "      box-shadow: 0px 1px 3px 1px rgba(0, 0, 0, 0.15);\n",
              "      filter: drop-shadow(0px 1px 2px rgba(0, 0, 0, 0.3));\n",
              "      fill: #FFFFFF;\n",
              "    }\n",
              "  </style>\n",
              "\n",
              "      <script>\n",
              "        const buttonEl =\n",
              "          document.querySelector('#df-352df5db-8f9d-4791-bb3f-f9426b9434da button.colab-df-convert');\n",
              "        buttonEl.style.display =\n",
              "          google.colab.kernel.accessAllowed ? 'block' : 'none';\n",
              "\n",
              "        async function convertToInteractive(key) {\n",
              "          const element = document.querySelector('#df-352df5db-8f9d-4791-bb3f-f9426b9434da');\n",
              "          const dataTable =\n",
              "            await google.colab.kernel.invokeFunction('convertToInteractive',\n",
              "                                                     [key], {});\n",
              "          if (!dataTable) return;\n",
              "\n",
              "          const docLinkHtml = 'Like what you see? Visit the ' +\n",
              "            '<a target=\"_blank\" href=https://colab.research.google.com/notebooks/data_table.ipynb>data table notebook</a>'\n",
              "            + ' to learn more about interactive tables.';\n",
              "          element.innerHTML = '';\n",
              "          dataTable['output_type'] = 'display_data';\n",
              "          await google.colab.output.renderOutput(dataTable, element);\n",
              "          const docLink = document.createElement('div');\n",
              "          docLink.innerHTML = docLinkHtml;\n",
              "          element.appendChild(docLink);\n",
              "        }\n",
              "      </script>\n",
              "    </div>\n",
              "  </div>\n"
            ]
          },
          "metadata": {},
          "execution_count": 11
        }
      ],
      "source": [
        "X_train_df.head()"
      ]
    },
    {
      "cell_type": "code",
      "execution_count": 12,
      "metadata": {
        "colab": {
          "base_uri": "https://localhost:8080/",
          "height": 280
        },
        "id": "MIgeg_MnKprR",
        "outputId": "1c356587-0b38-4466-8056-9534314c2adb",
        "scrolled": true
      },
      "outputs": [
        {
          "output_type": "display_data",
          "data": {
            "image/svg+xml": "<?xml version=\"1.0\" encoding=\"UTF-8\" standalone=\"no\"?>\n<!DOCTYPE svg PUBLIC \"-//W3C//DTD SVG 1.1//EN\"\n \"http://www.w3.org/Graphics/SVG/1.1/DTD/svg11.dtd\">\n<!-- Generated by graphviz version 2.43.0 (0)\n -->\n<!-- Title: Tree Pages: 1 -->\n<svg width=\"276pt\" height=\"195pt\"\n viewBox=\"0.00 0.00 276.00 195.00\" xmlns=\"http://www.w3.org/2000/svg\" xmlns:xlink=\"http://www.w3.org/1999/xlink\">\n<g id=\"graph0\" class=\"graph\" transform=\"scale(1 1) rotate(0) translate(4 191)\">\n<title>Tree</title>\n<polygon fill=\"white\" stroke=\"transparent\" points=\"-4,4 -4,-191 272,-191 272,4 -4,4\"/>\n<!-- 0 -->\n<g id=\"node1\" class=\"node\">\n<title>0</title>\n<polygon fill=\"#fffdfc\" stroke=\"black\" points=\"219,-187 48,-187 48,-104 219,-104 219,-187\"/>\n<text text-anchor=\"middle\" x=\"133.5\" y=\"-171.8\" font-family=\"Helvetica,sans-Serif\" font-size=\"14.00\">sepal length (cm) &lt;= 5.75</text>\n<text text-anchor=\"middle\" x=\"133.5\" y=\"-156.8\" font-family=\"Helvetica,sans-Serif\" font-size=\"14.00\">entropy = 1.585</text>\n<text text-anchor=\"middle\" x=\"133.5\" y=\"-141.8\" font-family=\"Helvetica,sans-Serif\" font-size=\"14.00\">samples = 112</text>\n<text text-anchor=\"middle\" x=\"133.5\" y=\"-126.8\" font-family=\"Helvetica,sans-Serif\" font-size=\"14.00\">value = [38, 37, 37]</text>\n<text text-anchor=\"middle\" x=\"133.5\" y=\"-111.8\" font-family=\"Helvetica,sans-Serif\" font-size=\"14.00\">class = setosa</text>\n</g>\n<!-- 1 -->\n<g id=\"node2\" class=\"node\">\n<title>1</title>\n<polygon fill=\"#efb387\" stroke=\"black\" points=\"125,-68 0,-68 0,0 125,0 125,-68\"/>\n<text text-anchor=\"middle\" x=\"62.5\" y=\"-52.8\" font-family=\"Helvetica,sans-Serif\" font-size=\"14.00\">entropy = 0.969</text>\n<text text-anchor=\"middle\" x=\"62.5\" y=\"-37.8\" font-family=\"Helvetica,sans-Serif\" font-size=\"14.00\">samples = 52</text>\n<text text-anchor=\"middle\" x=\"62.5\" y=\"-22.8\" font-family=\"Helvetica,sans-Serif\" font-size=\"14.00\">value = [37, 14, 1]</text>\n<text text-anchor=\"middle\" x=\"62.5\" y=\"-7.8\" font-family=\"Helvetica,sans-Serif\" font-size=\"14.00\">class = setosa</text>\n</g>\n<!-- 0&#45;&gt;1 -->\n<g id=\"edge1\" class=\"edge\">\n<title>0&#45;&gt;1</title>\n<path fill=\"none\" stroke=\"black\" d=\"M107.06,-103.73C101.38,-94.97 95.38,-85.7 89.67,-76.91\"/>\n<polygon fill=\"black\" stroke=\"black\" points=\"92.47,-74.79 84.09,-68.3 86.6,-78.59 92.47,-74.79\"/>\n<text text-anchor=\"middle\" x=\"78.88\" y=\"-89.05\" font-family=\"Helvetica,sans-Serif\" font-size=\"14.00\">True</text>\n</g>\n<!-- 2 -->\n<g id=\"node3\" class=\"node\">\n<title>2</title>\n<polygon fill=\"#d3b9f6\" stroke=\"black\" points=\"268,-68 143,-68 143,0 268,0 268,-68\"/>\n<text text-anchor=\"middle\" x=\"205.5\" y=\"-52.8\" font-family=\"Helvetica,sans-Serif\" font-size=\"14.00\">entropy = 1.071</text>\n<text text-anchor=\"middle\" x=\"205.5\" y=\"-37.8\" font-family=\"Helvetica,sans-Serif\" font-size=\"14.00\">samples = 60</text>\n<text text-anchor=\"middle\" x=\"205.5\" y=\"-22.8\" font-family=\"Helvetica,sans-Serif\" font-size=\"14.00\">value = [1, 23, 36]</text>\n<text text-anchor=\"middle\" x=\"205.5\" y=\"-7.8\" font-family=\"Helvetica,sans-Serif\" font-size=\"14.00\">class = virginica</text>\n</g>\n<!-- 0&#45;&gt;2 -->\n<g id=\"edge2\" class=\"edge\">\n<title>0&#45;&gt;2</title>\n<path fill=\"none\" stroke=\"black\" d=\"M160.31,-103.73C166.07,-94.97 172.16,-85.7 177.95,-76.91\"/>\n<polygon fill=\"black\" stroke=\"black\" points=\"181.03,-78.58 183.6,-68.3 175.19,-74.73 181.03,-78.58\"/>\n<text text-anchor=\"middle\" x=\"188.66\" y=\"-89.08\" font-family=\"Helvetica,sans-Serif\" font-size=\"14.00\">False</text>\n</g>\n</g>\n</svg>\n",
            "text/plain": [
              "<graphviz.sources.Source at 0x799bece5c160>"
            ]
          },
          "metadata": {}
        }
      ],
      "source": [
        "import graphviz\n",
        "\n",
        "with open('tree.dot') as f:\n",
        "    dot_graph = f.read()\n",
        "display(graphviz.Source(dot_graph))"
      ]
    },
    {
      "cell_type": "code",
      "execution_count": 13,
      "metadata": {
        "colab": {
          "base_uri": "https://localhost:8080/"
        },
        "id": "gtIXu7SJKprU",
        "outputId": "22206cde-d5af-42e2-9386-d46fbfb71e06"
      },
      "outputs": [
        {
          "output_type": "stream",
          "name": "stdout",
          "text": [
            "train score : 0.652\n",
            "test socre : 0.605\n"
          ]
        }
      ],
      "source": [
        "print('train score : {:.3f}'.format(model_dt.score(X_train, y_train)))\n",
        "print('test socre : {:.3f}'.format(model_dt.score(X_test, y_test)))"
      ]
    },
    {
      "cell_type": "markdown",
      "metadata": {
        "id": "xUo4JQFxKprW"
      },
      "source": [
        "- max_depth를 1로 설정하면 위의 그림처럼 트리가 한 번 분할하게 된다. 점수도 낮은 것을 확인할 수 있다."
      ]
    },
    {
      "cell_type": "code",
      "execution_count": 14,
      "metadata": {
        "id": "weidNICbKprX"
      },
      "outputs": [],
      "source": [
        "def model_border(model, X, y, contour=True):\n",
        "    xmin = X[:, 0].min()\n",
        "    xmax = X[:, 0].max()\n",
        "    ymin = X[:, 1].min()\n",
        "    ymax = X[:, 1].max()\n",
        "    xminmax = np.arange(xmin, xmax, .02)\n",
        "    yminmax = np.arange(ymin, ymax, .02)\n",
        "    X1, X2 = np.meshgrid(xminmax, yminmax)\n",
        "    X_pred = np.c_[X1.ravel(), X2.ravel()]\n",
        "    Z = model.predict(X_pred).reshape(X1.shape)\n",
        "    plt.figure(figsize = (10, 5))\n",
        "    plt.contourf(X1, X2, Z, alpha=0.3)\n",
        "    plt.plot(X[:, 0][y==0], X[:, 1][y==0], \"ro\", alpha=0.5)\n",
        "    plt.plot(X[:, 0][y==1], X[:, 1][y==1], \"bs\", alpha=0.5)\n",
        "    plt.plot(X[:, 0][y==2], X[:, 1][y==2], \"y^\", alpha=0.5)\n",
        "    plt.xlim([4.4, 7.6])\n",
        "    plt.ylim([2, 4.0])\n",
        "    plt.xlabel(\"X_sepal_length\")\n",
        "    plt.ylabel(\"X_sepal_width\")"
      ]
    },
    {
      "cell_type": "code",
      "execution_count": 15,
      "metadata": {
        "colab": {
          "base_uri": "https://localhost:8080/",
          "height": 470
        },
        "id": "_yIJ7dFCKprZ",
        "outputId": "4b91910c-7a9e-4bf4-c46b-3272dbe1b649",
        "scrolled": true
      },
      "outputs": [
        {
          "output_type": "display_data",
          "data": {
            "text/plain": [
              "<Figure size 1000x500 with 1 Axes>"
            ],
            "image/png": "[encoded data removed]"
          },
          "metadata": {}
        }
      ],
      "source": [
        "model_border(model_dt, X_train, y_train)"
      ]
    },
    {
      "cell_type": "markdown",
      "metadata": {
        "id": "x6SPewQqKprb"
      },
      "source": [
        "- 결정트리의 경계가 제대로 형성되지 않은 것을 볼 수 있다."
      ]
    },
    {
      "cell_type": "code",
      "execution_count": 16,
      "metadata": {
        "id": "eAFIVh-9Kprb"
      },
      "outputs": [],
      "source": [
        "model_dt = DT(criterion = 'entropy', max_depth = 6,\n",
        "                                  random_state = 0).fit(X_train, y_train)"
      ]
    },
    {
      "cell_type": "code",
      "execution_count": 17,
      "metadata": {
        "id": "xiwbjvmnKpre"
      },
      "outputs": [],
      "source": [
        "from sklearn.tree import export_graphviz\n",
        "export_graphviz(model_dt, out_file = 'tree_2.dot', class_names = iris.target_names,\n",
        "               feature_names = iris.feature_names[:2], filled = True)"
      ]
    },
    {
      "cell_type": "code",
      "execution_count": 18,
      "metadata": {
        "colab": {
          "base_uri": "https://localhost:8080/",
          "height": 1000
        },
        "id": "1pn-FijxKprg",
        "outputId": "87c858eb-a3e6-4ad8-e5ef-af3ecb781a4c"
      },
      "outputs": [
        {
          "output_type": "display_data",
          "data": {
            "image/svg+xml": "<?xml version=\"1.0\" encoding=\"UTF-8\" standalone=\"no\"?>\n<!DOCTYPE svg PUBLIC \"-//W3C//DTD SVG 1.1//EN\"\n \"http://www.w3.org/Graphics/SVG/1.1/DTD/svg11.dtd\">\n<!-- Generated by graphviz version 2.43.0 (0)\n -->\n<!-- Title: Tree Pages: 1 -->\n<svg width=\"1062pt\" height=\"790pt\"\n viewBox=\"0.00 0.00 1061.50 790.00\" xmlns=\"http://www.w3.org/2000/svg\" xmlns:xlink=\"http://www.w3.org/1999/xlink\">\n<g id=\"graph0\" class=\"graph\" transform=\"scale(1 1) rotate(0) translate(4 786)\">\n<title>Tree</title>\n<polygon fill=\"white\" stroke=\"transparent\" points=\"-4,4 -4,-786 1057.5,-786 1057.5,4 -4,4\"/>\n<!-- 0 -->\n<g id=\"node1\" class=\"node\">\n<title>0</title>\n<polygon fill=\"#fffdfc\" stroke=\"black\" points=\"751.5,-782 580.5,-782 580.5,-699 751.5,-699 751.5,-782\"/>\n<text text-anchor=\"middle\" x=\"666\" y=\"-766.8\" font-family=\"Helvetica,sans-Serif\" font-size=\"14.00\">sepal length (cm) &lt;= 5.75</text>\n<text text-anchor=\"middle\" x=\"666\" y=\"-751.8\" font-family=\"Helvetica,sans-Serif\" font-size=\"14.00\">entropy = 1.585</text>\n<text text-anchor=\"middle\" x=\"666\" y=\"-736.8\" font-family=\"Helvetica,sans-Serif\" font-size=\"14.00\">samples = 112</text>\n<text text-anchor=\"middle\" x=\"666\" y=\"-721.8\" font-family=\"Helvetica,sans-Serif\" font-size=\"14.00\">value = [38, 37, 37]</text>\n<text text-anchor=\"middle\" x=\"666\" y=\"-706.8\" font-family=\"Helvetica,sans-Serif\" font-size=\"14.00\">class = setosa</text>\n</g>\n<!-- 1 -->\n<g id=\"node2\" class=\"node\">\n<title>1</title>\n<polygon fill=\"#efb387\" stroke=\"black\" points=\"602,-663 436,-663 436,-580 602,-580 602,-663\"/>\n<text text-anchor=\"middle\" x=\"519\" y=\"-647.8\" font-family=\"Helvetica,sans-Serif\" font-size=\"14.00\">sepal width (cm) &lt;= 2.95</text>\n<text text-anchor=\"middle\" x=\"519\" y=\"-632.8\" font-family=\"Helvetica,sans-Serif\" font-size=\"14.00\">entropy = 0.969</text>\n<text text-anchor=\"middle\" x=\"519\" y=\"-617.8\" font-family=\"Helvetica,sans-Serif\" font-size=\"14.00\">samples = 52</text>\n<text text-anchor=\"middle\" x=\"519\" y=\"-602.8\" font-family=\"Helvetica,sans-Serif\" font-size=\"14.00\">value = [37, 14, 1]</text>\n<text text-anchor=\"middle\" x=\"519\" y=\"-587.8\" font-family=\"Helvetica,sans-Serif\" font-size=\"14.00\">class = setosa</text>\n</g>\n<!-- 0&#45;&gt;1 -->\n<g id=\"edge1\" class=\"edge\">\n<title>0&#45;&gt;1</title>\n<path fill=\"none\" stroke=\"black\" d=\"M615,-698.91C603.03,-689.38 590.17,-679.15 577.89,-669.37\"/>\n<polygon fill=\"black\" stroke=\"black\" points=\"579.91,-666.51 569.91,-663.02 575.56,-671.99 579.91,-666.51\"/>\n<text text-anchor=\"middle\" x=\"572.73\" y=\"-684.16\" font-family=\"Helvetica,sans-Serif\" font-size=\"14.00\">True</text>\n</g>\n<!-- 14 -->\n<g id=\"node15\" class=\"node\">\n<title>14</title>\n<polygon fill=\"#d3b9f6\" stroke=\"black\" points=\"845.5,-663 674.5,-663 674.5,-580 845.5,-580 845.5,-663\"/>\n<text text-anchor=\"middle\" x=\"760\" y=\"-647.8\" font-family=\"Helvetica,sans-Serif\" font-size=\"14.00\">sepal length (cm) &lt;= 7.05</text>\n<text text-anchor=\"middle\" x=\"760\" y=\"-632.8\" font-family=\"Helvetica,sans-Serif\" font-size=\"14.00\">entropy = 1.071</text>\n<text text-anchor=\"middle\" x=\"760\" y=\"-617.8\" font-family=\"Helvetica,sans-Serif\" font-size=\"14.00\">samples = 60</text>\n<text text-anchor=\"middle\" x=\"760\" y=\"-602.8\" font-family=\"Helvetica,sans-Serif\" font-size=\"14.00\">value = [1, 23, 36]</text>\n<text text-anchor=\"middle\" x=\"760\" y=\"-587.8\" font-family=\"Helvetica,sans-Serif\" font-size=\"14.00\">class = virginica</text>\n</g>\n<!-- 0&#45;&gt;14 -->\n<g id=\"edge14\" class=\"edge\">\n<title>0&#45;&gt;14</title>\n<path fill=\"none\" stroke=\"black\" d=\"M698.61,-698.91C705.83,-689.92 713.55,-680.32 720.99,-671.05\"/>\n<polygon fill=\"black\" stroke=\"black\" points=\"723.91,-673.01 727.44,-663.02 718.45,-668.62 723.91,-673.01\"/>\n<text text-anchor=\"middle\" x=\"730.15\" y=\"-684.17\" font-family=\"Helvetica,sans-Serif\" font-size=\"14.00\">False</text>\n</g>\n<!-- 2 -->\n<g id=\"node3\" class=\"node\">\n<title>2</title>\n<polygon fill=\"#55e993\" stroke=\"black\" points=\"363.5,-544 192.5,-544 192.5,-461 363.5,-461 363.5,-544\"/>\n<text text-anchor=\"middle\" x=\"278\" y=\"-528.8\" font-family=\"Helvetica,sans-Serif\" font-size=\"14.00\">sepal length (cm) &lt;= 4.95</text>\n<text text-anchor=\"middle\" x=\"278\" y=\"-513.8\" font-family=\"Helvetica,sans-Serif\" font-size=\"14.00\">entropy = 0.7</text>\n<text text-anchor=\"middle\" x=\"278\" y=\"-498.8\" font-family=\"Helvetica,sans-Serif\" font-size=\"14.00\">samples = 15</text>\n<text text-anchor=\"middle\" x=\"278\" y=\"-483.8\" font-family=\"Helvetica,sans-Serif\" font-size=\"14.00\">value = [1, 13, 1]</text>\n<text text-anchor=\"middle\" x=\"278\" y=\"-468.8\" font-family=\"Helvetica,sans-Serif\" font-size=\"14.00\">class = versicolor</text>\n</g>\n<!-- 1&#45;&gt;2 -->\n<g id=\"edge2\" class=\"edge\">\n<title>1&#45;&gt;2</title>\n<path fill=\"none\" stroke=\"black\" d=\"M435.72,-580.07C414.77,-569.9 392.15,-558.92 370.77,-548.54\"/>\n<polygon fill=\"black\" stroke=\"black\" points=\"372.21,-545.35 361.69,-544.13 369.16,-551.64 372.21,-545.35\"/>\n</g>\n<!-- 9 -->\n<g id=\"node10\" class=\"node\">\n<title>9</title>\n<polygon fill=\"#e6843e\" stroke=\"black\" points=\"602,-544 436,-544 436,-461 602,-461 602,-544\"/>\n<text text-anchor=\"middle\" x=\"519\" y=\"-528.8\" font-family=\"Helvetica,sans-Serif\" font-size=\"14.00\">sepal width (cm) &lt;= 3.05</text>\n<text text-anchor=\"middle\" x=\"519\" y=\"-513.8\" font-family=\"Helvetica,sans-Serif\" font-size=\"14.00\">entropy = 0.179</text>\n<text text-anchor=\"middle\" x=\"519\" y=\"-498.8\" font-family=\"Helvetica,sans-Serif\" font-size=\"14.00\">samples = 37</text>\n<text text-anchor=\"middle\" x=\"519\" y=\"-483.8\" font-family=\"Helvetica,sans-Serif\" font-size=\"14.00\">value = [36, 1, 0]</text>\n<text text-anchor=\"middle\" x=\"519\" y=\"-468.8\" font-family=\"Helvetica,sans-Serif\" font-size=\"14.00\">class = setosa</text>\n</g>\n<!-- 1&#45;&gt;9 -->\n<g id=\"edge9\" class=\"edge\">\n<title>1&#45;&gt;9</title>\n<path fill=\"none\" stroke=\"black\" d=\"M519,-579.91C519,-571.65 519,-562.86 519,-554.3\"/>\n<polygon fill=\"black\" stroke=\"black\" points=\"522.5,-554.02 519,-544.02 515.5,-554.02 522.5,-554.02\"/>\n</g>\n<!-- 3 -->\n<g id=\"node4\" class=\"node\">\n<title>3</title>\n<polygon fill=\"#ffffff\" stroke=\"black\" points=\"199,-425 35,-425 35,-342 199,-342 199,-425\"/>\n<text text-anchor=\"middle\" x=\"117\" y=\"-409.8\" font-family=\"Helvetica,sans-Serif\" font-size=\"14.00\">sepal length (cm) &lt;= 4.7</text>\n<text text-anchor=\"middle\" x=\"117\" y=\"-394.8\" font-family=\"Helvetica,sans-Serif\" font-size=\"14.00\">entropy = 1.585</text>\n<text text-anchor=\"middle\" x=\"117\" y=\"-379.8\" font-family=\"Helvetica,sans-Serif\" font-size=\"14.00\">samples = 3</text>\n<text text-anchor=\"middle\" x=\"117\" y=\"-364.8\" font-family=\"Helvetica,sans-Serif\" font-size=\"14.00\">value = [1, 1, 1]</text>\n<text text-anchor=\"middle\" x=\"117\" y=\"-349.8\" font-family=\"Helvetica,sans-Serif\" font-size=\"14.00\">class = setosa</text>\n</g>\n<!-- 2&#45;&gt;3 -->\n<g id=\"edge3\" class=\"edge\">\n<title>2&#45;&gt;3</title>\n<path fill=\"none\" stroke=\"black\" d=\"M222.14,-460.91C208.9,-451.29 194.68,-440.95 181.11,-431.09\"/>\n<polygon fill=\"black\" stroke=\"black\" points=\"182.91,-428.07 172.76,-425.02 178.79,-433.73 182.91,-428.07\"/>\n</g>\n<!-- 8 -->\n<g id=\"node9\" class=\"node\">\n<title>8</title>\n<polygon fill=\"#39e581\" stroke=\"black\" points=\"338.5,-417.5 217.5,-417.5 217.5,-349.5 338.5,-349.5 338.5,-417.5\"/>\n<text text-anchor=\"middle\" x=\"278\" y=\"-402.3\" font-family=\"Helvetica,sans-Serif\" font-size=\"14.00\">entropy = 0.0</text>\n<text text-anchor=\"middle\" x=\"278\" y=\"-387.3\" font-family=\"Helvetica,sans-Serif\" font-size=\"14.00\">samples = 12</text>\n<text text-anchor=\"middle\" x=\"278\" y=\"-372.3\" font-family=\"Helvetica,sans-Serif\" font-size=\"14.00\">value = [0, 12, 0]</text>\n<text text-anchor=\"middle\" x=\"278\" y=\"-357.3\" font-family=\"Helvetica,sans-Serif\" font-size=\"14.00\">class = versicolor</text>\n</g>\n<!-- 2&#45;&gt;8 -->\n<g id=\"edge8\" class=\"edge\">\n<title>2&#45;&gt;8</title>\n<path fill=\"none\" stroke=\"black\" d=\"M278,-460.91C278,-450.2 278,-438.62 278,-427.78\"/>\n<polygon fill=\"black\" stroke=\"black\" points=\"281.5,-427.67 278,-417.67 274.5,-427.67 281.5,-427.67\"/>\n</g>\n<!-- 4 -->\n<g id=\"node5\" class=\"node\">\n<title>4</title>\n<polygon fill=\"#e58139\" stroke=\"black\" points=\"110,-298.5 0,-298.5 0,-230.5 110,-230.5 110,-298.5\"/>\n<text text-anchor=\"middle\" x=\"55\" y=\"-283.3\" font-family=\"Helvetica,sans-Serif\" font-size=\"14.00\">entropy = 0.0</text>\n<text text-anchor=\"middle\" x=\"55\" y=\"-268.3\" font-family=\"Helvetica,sans-Serif\" font-size=\"14.00\">samples = 1</text>\n<text text-anchor=\"middle\" x=\"55\" y=\"-253.3\" font-family=\"Helvetica,sans-Serif\" font-size=\"14.00\">value = [1, 0, 0]</text>\n<text text-anchor=\"middle\" x=\"55\" y=\"-238.3\" font-family=\"Helvetica,sans-Serif\" font-size=\"14.00\">class = setosa</text>\n</g>\n<!-- 3&#45;&gt;4 -->\n<g id=\"edge4\" class=\"edge\">\n<title>3&#45;&gt;4</title>\n<path fill=\"none\" stroke=\"black\" d=\"M95.49,-341.91C89.64,-330.87 83.3,-318.9 77.4,-307.77\"/>\n<polygon fill=\"black\" stroke=\"black\" points=\"80.35,-305.86 72.58,-298.67 74.17,-309.14 80.35,-305.86\"/>\n</g>\n<!-- 5 -->\n<g id=\"node6\" class=\"node\">\n<title>5</title>\n<polygon fill=\"#ffffff\" stroke=\"black\" points=\"294,-306 128,-306 128,-223 294,-223 294,-306\"/>\n<text text-anchor=\"middle\" x=\"211\" y=\"-290.8\" font-family=\"Helvetica,sans-Serif\" font-size=\"14.00\">sepal width (cm) &lt;= 2.45</text>\n<text text-anchor=\"middle\" x=\"211\" y=\"-275.8\" font-family=\"Helvetica,sans-Serif\" font-size=\"14.00\">entropy = 1.0</text>\n<text text-anchor=\"middle\" x=\"211\" y=\"-260.8\" font-family=\"Helvetica,sans-Serif\" font-size=\"14.00\">samples = 2</text>\n<text text-anchor=\"middle\" x=\"211\" y=\"-245.8\" font-family=\"Helvetica,sans-Serif\" font-size=\"14.00\">value = [0, 1, 1]</text>\n<text text-anchor=\"middle\" x=\"211\" y=\"-230.8\" font-family=\"Helvetica,sans-Serif\" font-size=\"14.00\">class = versicolor</text>\n</g>\n<!-- 3&#45;&gt;5 -->\n<g id=\"edge5\" class=\"edge\">\n<title>3&#45;&gt;5</title>\n<path fill=\"none\" stroke=\"black\" d=\"M149.61,-341.91C156.83,-332.92 164.55,-323.32 171.99,-314.05\"/>\n<polygon fill=\"black\" stroke=\"black\" points=\"174.91,-316.01 178.44,-306.02 169.45,-311.62 174.91,-316.01\"/>\n</g>\n<!-- 6 -->\n<g id=\"node7\" class=\"node\">\n<title>6</title>\n<polygon fill=\"#39e581\" stroke=\"black\" points=\"269.5,-179.5 148.5,-179.5 148.5,-111.5 269.5,-111.5 269.5,-179.5\"/>\n<text text-anchor=\"middle\" x=\"209\" y=\"-164.3\" font-family=\"Helvetica,sans-Serif\" font-size=\"14.00\">entropy = 0.0</text>\n<text text-anchor=\"middle\" x=\"209\" y=\"-149.3\" font-family=\"Helvetica,sans-Serif\" font-size=\"14.00\">samples = 1</text>\n<text text-anchor=\"middle\" x=\"209\" y=\"-134.3\" font-family=\"Helvetica,sans-Serif\" font-size=\"14.00\">value = [0, 1, 0]</text>\n<text text-anchor=\"middle\" x=\"209\" y=\"-119.3\" font-family=\"Helvetica,sans-Serif\" font-size=\"14.00\">class = versicolor</text>\n</g>\n<!-- 5&#45;&gt;6 -->\n<g id=\"edge6\" class=\"edge\">\n<title>5&#45;&gt;6</title>\n<path fill=\"none\" stroke=\"black\" d=\"M210.31,-222.91C210.12,-212.2 209.93,-200.62 209.74,-189.78\"/>\n<polygon fill=\"black\" stroke=\"black\" points=\"213.24,-189.61 209.57,-179.67 206.24,-189.73 213.24,-189.61\"/>\n</g>\n<!-- 7 -->\n<g id=\"node8\" class=\"node\">\n<title>7</title>\n<polygon fill=\"#8139e5\" stroke=\"black\" points=\"400.5,-179.5 287.5,-179.5 287.5,-111.5 400.5,-111.5 400.5,-179.5\"/>\n<text text-anchor=\"middle\" x=\"344\" y=\"-164.3\" font-family=\"Helvetica,sans-Serif\" font-size=\"14.00\">entropy = 0.0</text>\n<text text-anchor=\"middle\" x=\"344\" y=\"-149.3\" font-family=\"Helvetica,sans-Serif\" font-size=\"14.00\">samples = 1</text>\n<text text-anchor=\"middle\" x=\"344\" y=\"-134.3\" font-family=\"Helvetica,sans-Serif\" font-size=\"14.00\">value = [0, 0, 1]</text>\n<text text-anchor=\"middle\" x=\"344\" y=\"-119.3\" font-family=\"Helvetica,sans-Serif\" font-size=\"14.00\">class = virginica</text>\n</g>\n<!-- 5&#45;&gt;7 -->\n<g id=\"edge7\" class=\"edge\">\n<title>5&#45;&gt;7</title>\n<path fill=\"none\" stroke=\"black\" d=\"M257.14,-222.91C270.57,-211.1 285.21,-198.22 298.59,-186.45\"/>\n<polygon fill=\"black\" stroke=\"black\" points=\"301.1,-188.9 306.3,-179.67 296.48,-183.64 301.1,-188.9\"/>\n</g>\n<!-- 10 -->\n<g id=\"node11\" class=\"node\">\n<title>10</title>\n<polygon fill=\"#eca06a\" stroke=\"black\" points=\"521,-425 357,-425 357,-342 521,-342 521,-425\"/>\n<text text-anchor=\"middle\" x=\"439\" y=\"-409.8\" font-family=\"Helvetica,sans-Serif\" font-size=\"14.00\">sepal length (cm) &lt;= 5.2</text>\n<text text-anchor=\"middle\" x=\"439\" y=\"-394.8\" font-family=\"Helvetica,sans-Serif\" font-size=\"14.00\">entropy = 0.722</text>\n<text text-anchor=\"middle\" x=\"439\" y=\"-379.8\" font-family=\"Helvetica,sans-Serif\" font-size=\"14.00\">samples = 5</text>\n<text text-anchor=\"middle\" x=\"439\" y=\"-364.8\" font-family=\"Helvetica,sans-Serif\" font-size=\"14.00\">value = [4, 1, 0]</text>\n<text text-anchor=\"middle\" x=\"439\" y=\"-349.8\" font-family=\"Helvetica,sans-Serif\" font-size=\"14.00\">class = setosa</text>\n</g>\n<!-- 9&#45;&gt;10 -->\n<g id=\"edge10\" class=\"edge\">\n<title>9&#45;&gt;10</title>\n<path fill=\"none\" stroke=\"black\" d=\"M491.24,-460.91C485.16,-452.01 478.66,-442.51 472.39,-433.33\"/>\n<polygon fill=\"black\" stroke=\"black\" points=\"475.24,-431.3 466.71,-425.02 469.46,-435.25 475.24,-431.3\"/>\n</g>\n<!-- 13 -->\n<g id=\"node14\" class=\"node\">\n<title>13</title>\n<polygon fill=\"#e58139\" stroke=\"black\" points=\"656.5,-417.5 539.5,-417.5 539.5,-349.5 656.5,-349.5 656.5,-417.5\"/>\n<text text-anchor=\"middle\" x=\"598\" y=\"-402.3\" font-family=\"Helvetica,sans-Serif\" font-size=\"14.00\">entropy = 0.0</text>\n<text text-anchor=\"middle\" x=\"598\" y=\"-387.3\" font-family=\"Helvetica,sans-Serif\" font-size=\"14.00\">samples = 32</text>\n<text text-anchor=\"middle\" x=\"598\" y=\"-372.3\" font-family=\"Helvetica,sans-Serif\" font-size=\"14.00\">value = [32, 0, 0]</text>\n<text text-anchor=\"middle\" x=\"598\" y=\"-357.3\" font-family=\"Helvetica,sans-Serif\" font-size=\"14.00\">class = setosa</text>\n</g>\n<!-- 9&#45;&gt;13 -->\n<g id=\"edge13\" class=\"edge\">\n<title>9&#45;&gt;13</title>\n<path fill=\"none\" stroke=\"black\" d=\"M546.41,-460.91C554.01,-449.65 562.27,-437.42 569.91,-426.11\"/>\n<polygon fill=\"black\" stroke=\"black\" points=\"572.91,-427.91 575.61,-417.67 567.11,-424 572.91,-427.91\"/>\n</g>\n<!-- 11 -->\n<g id=\"node12\" class=\"node\">\n<title>11</title>\n<polygon fill=\"#e58139\" stroke=\"black\" points=\"431,-298.5 321,-298.5 321,-230.5 431,-230.5 431,-298.5\"/>\n<text text-anchor=\"middle\" x=\"376\" y=\"-283.3\" font-family=\"Helvetica,sans-Serif\" font-size=\"14.00\">entropy = 0.0</text>\n<text text-anchor=\"middle\" x=\"376\" y=\"-268.3\" font-family=\"Helvetica,sans-Serif\" font-size=\"14.00\">samples = 4</text>\n<text text-anchor=\"middle\" x=\"376\" y=\"-253.3\" font-family=\"Helvetica,sans-Serif\" font-size=\"14.00\">value = [4, 0, 0]</text>\n<text text-anchor=\"middle\" x=\"376\" y=\"-238.3\" font-family=\"Helvetica,sans-Serif\" font-size=\"14.00\">class = setosa</text>\n</g>\n<!-- 10&#45;&gt;11 -->\n<g id=\"edge11\" class=\"edge\">\n<title>10&#45;&gt;11</title>\n<path fill=\"none\" stroke=\"black\" d=\"M417.14,-341.91C411.2,-330.87 404.75,-318.9 398.76,-307.77\"/>\n<polygon fill=\"black\" stroke=\"black\" points=\"401.68,-305.81 393.86,-298.67 395.52,-309.13 401.68,-305.81\"/>\n</g>\n<!-- 12 -->\n<g id=\"node13\" class=\"node\">\n<title>12</title>\n<polygon fill=\"#39e581\" stroke=\"black\" points=\"570.5,-298.5 449.5,-298.5 449.5,-230.5 570.5,-230.5 570.5,-298.5\"/>\n<text text-anchor=\"middle\" x=\"510\" y=\"-283.3\" font-family=\"Helvetica,sans-Serif\" font-size=\"14.00\">entropy = 0.0</text>\n<text text-anchor=\"middle\" x=\"510\" y=\"-268.3\" font-family=\"Helvetica,sans-Serif\" font-size=\"14.00\">samples = 1</text>\n<text text-anchor=\"middle\" x=\"510\" y=\"-253.3\" font-family=\"Helvetica,sans-Serif\" font-size=\"14.00\">value = [0, 1, 0]</text>\n<text text-anchor=\"middle\" x=\"510\" y=\"-238.3\" font-family=\"Helvetica,sans-Serif\" font-size=\"14.00\">class = versicolor</text>\n</g>\n<!-- 10&#45;&gt;12 -->\n<g id=\"edge12\" class=\"edge\">\n<title>10&#45;&gt;12</title>\n<path fill=\"none\" stroke=\"black\" d=\"M463.63,-341.91C470.4,-330.76 477.74,-318.66 484.55,-307.44\"/>\n<polygon fill=\"black\" stroke=\"black\" points=\"487.68,-309.03 489.87,-298.67 481.69,-305.4 487.68,-309.03\"/>\n</g>\n<!-- 15 -->\n<g id=\"node16\" class=\"node\">\n<title>15</title>\n<polygon fill=\"#ede3fb\" stroke=\"black\" points=\"839,-544 681,-544 681,-461 839,-461 839,-544\"/>\n<text text-anchor=\"middle\" x=\"760\" y=\"-528.8\" font-family=\"Helvetica,sans-Serif\" font-size=\"14.00\">sepal width (cm) &lt;= 3.7</text>\n<text text-anchor=\"middle\" x=\"760\" y=\"-513.8\" font-family=\"Helvetica,sans-Serif\" font-size=\"14.00\">entropy = 1.115</text>\n<text text-anchor=\"middle\" x=\"760\" y=\"-498.8\" font-family=\"Helvetica,sans-Serif\" font-size=\"14.00\">samples = 51</text>\n<text text-anchor=\"middle\" x=\"760\" y=\"-483.8\" font-family=\"Helvetica,sans-Serif\" font-size=\"14.00\">value = [1, 23, 27]</text>\n<text text-anchor=\"middle\" x=\"760\" y=\"-468.8\" font-family=\"Helvetica,sans-Serif\" font-size=\"14.00\">class = virginica</text>\n</g>\n<!-- 14&#45;&gt;15 -->\n<g id=\"edge15\" class=\"edge\">\n<title>14&#45;&gt;15</title>\n<path fill=\"none\" stroke=\"black\" d=\"M760,-579.91C760,-571.65 760,-562.86 760,-554.3\"/>\n<polygon fill=\"black\" stroke=\"black\" points=\"763.5,-554.02 760,-544.02 756.5,-554.02 763.5,-554.02\"/>\n</g>\n<!-- 28 -->\n<g id=\"node29\" class=\"node\">\n<title>28</title>\n<polygon fill=\"#8139e5\" stroke=\"black\" points=\"970.5,-536.5 857.5,-536.5 857.5,-468.5 970.5,-468.5 970.5,-536.5\"/>\n<text text-anchor=\"middle\" x=\"914\" y=\"-521.3\" font-family=\"Helvetica,sans-Serif\" font-size=\"14.00\">entropy = 0.0</text>\n<text text-anchor=\"middle\" x=\"914\" y=\"-506.3\" font-family=\"Helvetica,sans-Serif\" font-size=\"14.00\">samples = 9</text>\n<text text-anchor=\"middle\" x=\"914\" y=\"-491.3\" font-family=\"Helvetica,sans-Serif\" font-size=\"14.00\">value = [0, 0, 9]</text>\n<text text-anchor=\"middle\" x=\"914\" y=\"-476.3\" font-family=\"Helvetica,sans-Serif\" font-size=\"14.00\">class = virginica</text>\n</g>\n<!-- 14&#45;&gt;28 -->\n<g id=\"edge28\" class=\"edge\">\n<title>14&#45;&gt;28</title>\n<path fill=\"none\" stroke=\"black\" d=\"M813.43,-579.91C829.26,-567.88 846.56,-554.73 862.28,-542.79\"/>\n<polygon fill=\"black\" stroke=\"black\" points=\"864.5,-545.5 870.34,-536.67 860.26,-539.93 864.5,-545.5\"/>\n</g>\n<!-- 16 -->\n<g id=\"node17\" class=\"node\">\n<title>16</title>\n<polygon fill=\"#ece2fb\" stroke=\"black\" points=\"845.5,-425 674.5,-425 674.5,-342 845.5,-342 845.5,-425\"/>\n<text text-anchor=\"middle\" x=\"760\" y=\"-409.8\" font-family=\"Helvetica,sans-Serif\" font-size=\"14.00\">sepal length (cm) &lt;= 6.15</text>\n<text text-anchor=\"middle\" x=\"760\" y=\"-394.8\" font-family=\"Helvetica,sans-Serif\" font-size=\"14.00\">entropy = 0.995</text>\n<text text-anchor=\"middle\" x=\"760\" y=\"-379.8\" font-family=\"Helvetica,sans-Serif\" font-size=\"14.00\">samples = 50</text>\n<text text-anchor=\"middle\" x=\"760\" y=\"-364.8\" font-family=\"Helvetica,sans-Serif\" font-size=\"14.00\">value = [0, 23, 27]</text>\n<text text-anchor=\"middle\" x=\"760\" y=\"-349.8\" font-family=\"Helvetica,sans-Serif\" font-size=\"14.00\">class = virginica</text>\n</g>\n<!-- 15&#45;&gt;16 -->\n<g id=\"edge16\" class=\"edge\">\n<title>15&#45;&gt;16</title>\n<path fill=\"none\" stroke=\"black\" d=\"M760,-460.91C760,-452.65 760,-443.86 760,-435.3\"/>\n<polygon fill=\"black\" stroke=\"black\" points=\"763.5,-435.02 760,-425.02 756.5,-435.02 763.5,-435.02\"/>\n</g>\n<!-- 27 -->\n<g id=\"node28\" class=\"node\">\n<title>27</title>\n<polygon fill=\"#e58139\" stroke=\"black\" points=\"974,-417.5 864,-417.5 864,-349.5 974,-349.5 974,-417.5\"/>\n<text text-anchor=\"middle\" x=\"919\" y=\"-402.3\" font-family=\"Helvetica,sans-Serif\" font-size=\"14.00\">entropy = 0.0</text>\n<text text-anchor=\"middle\" x=\"919\" y=\"-387.3\" font-family=\"Helvetica,sans-Serif\" font-size=\"14.00\">samples = 1</text>\n<text text-anchor=\"middle\" x=\"919\" y=\"-372.3\" font-family=\"Helvetica,sans-Serif\" font-size=\"14.00\">value = [1, 0, 0]</text>\n<text text-anchor=\"middle\" x=\"919\" y=\"-357.3\" font-family=\"Helvetica,sans-Serif\" font-size=\"14.00\">class = setosa</text>\n</g>\n<!-- 15&#45;&gt;27 -->\n<g id=\"edge27\" class=\"edge\">\n<title>15&#45;&gt;27</title>\n<path fill=\"none\" stroke=\"black\" d=\"M815.16,-460.91C831.51,-448.88 849.37,-435.73 865.6,-423.79\"/>\n<polygon fill=\"black\" stroke=\"black\" points=\"867.95,-426.41 873.93,-417.67 863.8,-420.77 867.95,-426.41\"/>\n</g>\n<!-- 17 -->\n<g id=\"node18\" class=\"node\">\n<title>17</title>\n<polygon fill=\"#b0f5cd\" stroke=\"black\" points=\"751,-306 593,-306 593,-223 751,-223 751,-306\"/>\n<text text-anchor=\"middle\" x=\"672\" y=\"-290.8\" font-family=\"Helvetica,sans-Serif\" font-size=\"14.00\">sepal width (cm) &lt;= 3.1</text>\n<text text-anchor=\"middle\" x=\"672\" y=\"-275.8\" font-family=\"Helvetica,sans-Serif\" font-size=\"14.00\">entropy = 0.954</text>\n<text text-anchor=\"middle\" x=\"672\" y=\"-260.8\" font-family=\"Helvetica,sans-Serif\" font-size=\"14.00\">samples = 16</text>\n<text text-anchor=\"middle\" x=\"672\" y=\"-245.8\" font-family=\"Helvetica,sans-Serif\" font-size=\"14.00\">value = [0, 10, 6]</text>\n<text text-anchor=\"middle\" x=\"672\" y=\"-230.8\" font-family=\"Helvetica,sans-Serif\" font-size=\"14.00\">class = versicolor</text>\n</g>\n<!-- 16&#45;&gt;17 -->\n<g id=\"edge17\" class=\"edge\">\n<title>16&#45;&gt;17</title>\n<path fill=\"none\" stroke=\"black\" d=\"M729.47,-341.91C722.71,-332.92 715.48,-323.32 708.52,-314.05\"/>\n<polygon fill=\"black\" stroke=\"black\" points=\"711.29,-311.91 702.48,-306.02 705.69,-316.12 711.29,-311.91\"/>\n</g>\n<!-- 22 -->\n<g id=\"node23\" class=\"node\">\n<title>22</title>\n<polygon fill=\"#cfb4f5\" stroke=\"black\" points=\"940.5,-306 769.5,-306 769.5,-223 940.5,-223 940.5,-306\"/>\n<text text-anchor=\"middle\" x=\"855\" y=\"-290.8\" font-family=\"Helvetica,sans-Serif\" font-size=\"14.00\">sepal length (cm) &lt;= 6.95</text>\n<text text-anchor=\"middle\" x=\"855\" y=\"-275.8\" font-family=\"Helvetica,sans-Serif\" font-size=\"14.00\">entropy = 0.96</text>\n<text text-anchor=\"middle\" x=\"855\" y=\"-260.8\" font-family=\"Helvetica,sans-Serif\" font-size=\"14.00\">samples = 34</text>\n<text text-anchor=\"middle\" x=\"855\" y=\"-245.8\" font-family=\"Helvetica,sans-Serif\" font-size=\"14.00\">value = [0, 13, 21]</text>\n<text text-anchor=\"middle\" x=\"855\" y=\"-230.8\" font-family=\"Helvetica,sans-Serif\" font-size=\"14.00\">class = virginica</text>\n</g>\n<!-- 16&#45;&gt;22 -->\n<g id=\"edge22\" class=\"edge\">\n<title>16&#45;&gt;22</title>\n<path fill=\"none\" stroke=\"black\" d=\"M792.96,-341.91C800.25,-332.92 808.06,-323.32 815.58,-314.05\"/>\n<polygon fill=\"black\" stroke=\"black\" points=\"818.51,-315.99 822.1,-306.02 813.08,-311.58 818.51,-315.99\"/>\n</g>\n<!-- 18 -->\n<g id=\"node19\" class=\"node\">\n<title>18</title>\n<polygon fill=\"#cef8e0\" stroke=\"black\" points=\"596.5,-187 425.5,-187 425.5,-104 596.5,-104 596.5,-187\"/>\n<text text-anchor=\"middle\" x=\"511\" y=\"-171.8\" font-family=\"Helvetica,sans-Serif\" font-size=\"14.00\">sepal length (cm) &lt;= 5.85</text>\n<text text-anchor=\"middle\" x=\"511\" y=\"-156.8\" font-family=\"Helvetica,sans-Serif\" font-size=\"14.00\">entropy = 0.985</text>\n<text text-anchor=\"middle\" x=\"511\" y=\"-141.8\" font-family=\"Helvetica,sans-Serif\" font-size=\"14.00\">samples = 14</text>\n<text text-anchor=\"middle\" x=\"511\" y=\"-126.8\" font-family=\"Helvetica,sans-Serif\" font-size=\"14.00\">value = [0, 8, 6]</text>\n<text text-anchor=\"middle\" x=\"511\" y=\"-111.8\" font-family=\"Helvetica,sans-Serif\" font-size=\"14.00\">class = versicolor</text>\n</g>\n<!-- 17&#45;&gt;18 -->\n<g id=\"edge18\" class=\"edge\">\n<title>17&#45;&gt;18</title>\n<path fill=\"none\" stroke=\"black\" d=\"M616.14,-222.91C602.9,-213.29 588.68,-202.95 575.11,-193.09\"/>\n<polygon fill=\"black\" stroke=\"black\" points=\"576.91,-190.07 566.76,-187.02 572.79,-195.73 576.91,-190.07\"/>\n</g>\n<!-- 21 -->\n<g id=\"node22\" class=\"node\">\n<title>21</title>\n<polygon fill=\"#39e581\" stroke=\"black\" points=\"735.5,-179.5 614.5,-179.5 614.5,-111.5 735.5,-111.5 735.5,-179.5\"/>\n<text text-anchor=\"middle\" x=\"675\" y=\"-164.3\" font-family=\"Helvetica,sans-Serif\" font-size=\"14.00\">entropy = 0.0</text>\n<text text-anchor=\"middle\" x=\"675\" y=\"-149.3\" font-family=\"Helvetica,sans-Serif\" font-size=\"14.00\">samples = 2</text>\n<text text-anchor=\"middle\" x=\"675\" y=\"-134.3\" font-family=\"Helvetica,sans-Serif\" font-size=\"14.00\">value = [0, 2, 0]</text>\n<text text-anchor=\"middle\" x=\"675\" y=\"-119.3\" font-family=\"Helvetica,sans-Serif\" font-size=\"14.00\">class = versicolor</text>\n</g>\n<!-- 17&#45;&gt;21 -->\n<g id=\"edge21\" class=\"edge\">\n<title>17&#45;&gt;21</title>\n<path fill=\"none\" stroke=\"black\" d=\"M673.04,-222.91C673.32,-212.2 673.61,-200.62 673.89,-189.78\"/>\n<polygon fill=\"black\" stroke=\"black\" points=\"677.39,-189.75 674.15,-179.67 670.39,-189.57 677.39,-189.75\"/>\n</g>\n<!-- 19 -->\n<g id=\"node20\" class=\"node\">\n<title>19</title>\n<polygon fill=\"#d5bdf6\" stroke=\"black\" points=\"511.5,-68 398.5,-68 398.5,0 511.5,0 511.5,-68\"/>\n<text text-anchor=\"middle\" x=\"455\" y=\"-52.8\" font-family=\"Helvetica,sans-Serif\" font-size=\"14.00\">entropy = 0.971</text>\n<text text-anchor=\"middle\" x=\"455\" y=\"-37.8\" font-family=\"Helvetica,sans-Serif\" font-size=\"14.00\">samples = 5</text>\n<text text-anchor=\"middle\" x=\"455\" y=\"-22.8\" font-family=\"Helvetica,sans-Serif\" font-size=\"14.00\">value = [0, 2, 3]</text>\n<text text-anchor=\"middle\" x=\"455\" y=\"-7.8\" font-family=\"Helvetica,sans-Serif\" font-size=\"14.00\">class = virginica</text>\n</g>\n<!-- 18&#45;&gt;19 -->\n<g id=\"edge19\" class=\"edge\">\n<title>18&#45;&gt;19</title>\n<path fill=\"none\" stroke=\"black\" d=\"M490.15,-103.73C485.76,-95.15 481.13,-86.09 476.71,-77.46\"/>\n<polygon fill=\"black\" stroke=\"black\" points=\"479.7,-75.61 472.03,-68.3 473.47,-78.8 479.7,-75.61\"/>\n</g>\n<!-- 20 -->\n<g id=\"node21\" class=\"node\">\n<title>20</title>\n<polygon fill=\"#9cf2c0\" stroke=\"black\" points=\"650.5,-68 529.5,-68 529.5,0 650.5,0 650.5,-68\"/>\n<text text-anchor=\"middle\" x=\"590\" y=\"-52.8\" font-family=\"Helvetica,sans-Serif\" font-size=\"14.00\">entropy = 0.918</text>\n<text text-anchor=\"middle\" x=\"590\" y=\"-37.8\" font-family=\"Helvetica,sans-Serif\" font-size=\"14.00\">samples = 9</text>\n<text text-anchor=\"middle\" x=\"590\" y=\"-22.8\" font-family=\"Helvetica,sans-Serif\" font-size=\"14.00\">value = [0, 6, 3]</text>\n<text text-anchor=\"middle\" x=\"590\" y=\"-7.8\" font-family=\"Helvetica,sans-Serif\" font-size=\"14.00\">class = versicolor</text>\n</g>\n<!-- 18&#45;&gt;20 -->\n<g id=\"edge20\" class=\"edge\">\n<title>18&#45;&gt;20</title>\n<path fill=\"none\" stroke=\"black\" d=\"M540.42,-103.73C546.8,-94.88 553.56,-85.51 559.97,-76.63\"/>\n<polygon fill=\"black\" stroke=\"black\" points=\"562.96,-78.46 565.98,-68.3 557.29,-74.36 562.96,-78.46\"/>\n</g>\n<!-- 23 -->\n<g id=\"node24\" class=\"node\">\n<title>23</title>\n<polygon fill=\"#c9aaf4\" stroke=\"black\" points=\"915,-187 757,-187 757,-104 915,-104 915,-187\"/>\n<text text-anchor=\"middle\" x=\"836\" y=\"-171.8\" font-family=\"Helvetica,sans-Serif\" font-size=\"14.00\">sepal width (cm) &lt;= 2.4</text>\n<text text-anchor=\"middle\" x=\"836\" y=\"-156.8\" font-family=\"Helvetica,sans-Serif\" font-size=\"14.00\">entropy = 0.946</text>\n<text text-anchor=\"middle\" x=\"836\" y=\"-141.8\" font-family=\"Helvetica,sans-Serif\" font-size=\"14.00\">samples = 33</text>\n<text text-anchor=\"middle\" x=\"836\" y=\"-126.8\" font-family=\"Helvetica,sans-Serif\" font-size=\"14.00\">value = [0, 12, 21]</text>\n<text text-anchor=\"middle\" x=\"836\" y=\"-111.8\" font-family=\"Helvetica,sans-Serif\" font-size=\"14.00\">class = virginica</text>\n</g>\n<!-- 22&#45;&gt;23 -->\n<g id=\"edge23\" class=\"edge\">\n<title>22&#45;&gt;23</title>\n<path fill=\"none\" stroke=\"black\" d=\"M848.41,-222.91C847.05,-214.56 845.61,-205.67 844.2,-197.02\"/>\n<polygon fill=\"black\" stroke=\"black\" points=\"847.64,-196.33 842.58,-187.02 840.73,-197.45 847.64,-196.33\"/>\n</g>\n<!-- 26 -->\n<g id=\"node27\" class=\"node\">\n<title>26</title>\n<polygon fill=\"#39e581\" stroke=\"black\" points=\"1053.5,-179.5 932.5,-179.5 932.5,-111.5 1053.5,-111.5 1053.5,-179.5\"/>\n<text text-anchor=\"middle\" x=\"993\" y=\"-164.3\" font-family=\"Helvetica,sans-Serif\" font-size=\"14.00\">entropy = 0.0</text>\n<text text-anchor=\"middle\" x=\"993\" y=\"-149.3\" font-family=\"Helvetica,sans-Serif\" font-size=\"14.00\">samples = 1</text>\n<text text-anchor=\"middle\" x=\"993\" y=\"-134.3\" font-family=\"Helvetica,sans-Serif\" font-size=\"14.00\">value = [0, 1, 0]</text>\n<text text-anchor=\"middle\" x=\"993\" y=\"-119.3\" font-family=\"Helvetica,sans-Serif\" font-size=\"14.00\">class = versicolor</text>\n</g>\n<!-- 22&#45;&gt;26 -->\n<g id=\"edge26\" class=\"edge\">\n<title>22&#45;&gt;26</title>\n<path fill=\"none\" stroke=\"black\" d=\"M902.88,-222.91C916.8,-211.1 932,-198.22 945.88,-186.45\"/>\n<polygon fill=\"black\" stroke=\"black\" points=\"948.52,-188.8 953.88,-179.67 943.99,-183.46 948.52,-188.8\"/>\n</g>\n<!-- 24 -->\n<g id=\"node25\" class=\"node\">\n<title>24</title>\n<polygon fill=\"#39e581\" stroke=\"black\" points=\"810.5,-68 689.5,-68 689.5,0 810.5,0 810.5,-68\"/>\n<text text-anchor=\"middle\" x=\"750\" y=\"-52.8\" font-family=\"Helvetica,sans-Serif\" font-size=\"14.00\">entropy = 0.0</text>\n<text text-anchor=\"middle\" x=\"750\" y=\"-37.8\" font-family=\"Helvetica,sans-Serif\" font-size=\"14.00\">samples = 1</text>\n<text text-anchor=\"middle\" x=\"750\" y=\"-22.8\" font-family=\"Helvetica,sans-Serif\" font-size=\"14.00\">value = [0, 1, 0]</text>\n<text text-anchor=\"middle\" x=\"750\" y=\"-7.8\" font-family=\"Helvetica,sans-Serif\" font-size=\"14.00\">class = versicolor</text>\n</g>\n<!-- 23&#45;&gt;24 -->\n<g id=\"edge24\" class=\"edge\">\n<title>23&#45;&gt;24</title>\n<path fill=\"none\" stroke=\"black\" d=\"M803.98,-103.73C796.96,-94.79 789.52,-85.32 782.48,-76.36\"/>\n<polygon fill=\"black\" stroke=\"black\" points=\"785.08,-74 776.15,-68.3 779.58,-78.33 785.08,-74\"/>\n</g>\n<!-- 25 -->\n<g id=\"node26\" class=\"node\">\n<title>25</title>\n<polygon fill=\"#c3a1f3\" stroke=\"black\" points=\"953.5,-68 828.5,-68 828.5,0 953.5,0 953.5,-68\"/>\n<text text-anchor=\"middle\" x=\"891\" y=\"-52.8\" font-family=\"Helvetica,sans-Serif\" font-size=\"14.00\">entropy = 0.928</text>\n<text text-anchor=\"middle\" x=\"891\" y=\"-37.8\" font-family=\"Helvetica,sans-Serif\" font-size=\"14.00\">samples = 32</text>\n<text text-anchor=\"middle\" x=\"891\" y=\"-22.8\" font-family=\"Helvetica,sans-Serif\" font-size=\"14.00\">value = [0, 11, 21]</text>\n<text text-anchor=\"middle\" x=\"891\" y=\"-7.8\" font-family=\"Helvetica,sans-Serif\" font-size=\"14.00\">class = virginica</text>\n</g>\n<!-- 23&#45;&gt;25 -->\n<g id=\"edge25\" class=\"edge\">\n<title>23&#45;&gt;25</title>\n<path fill=\"none\" stroke=\"black\" d=\"M856.48,-103.73C860.79,-95.15 865.34,-86.09 869.68,-77.46\"/>\n<polygon fill=\"black\" stroke=\"black\" points=\"872.91,-78.81 874.27,-68.3 866.66,-75.66 872.91,-78.81\"/>\n</g>\n</g>\n</svg>\n",
            "text/plain": [
              "<graphviz.sources.Source at 0x799be2ec3f10>"
            ]
          },
          "metadata": {}
        }
      ],
      "source": [
        "import graphviz\n",
        "\n",
        "with open('tree_2.dot') as f:\n",
        "    dot_graph = f.read()\n",
        "display(graphviz.Source(dot_graph))"
      ]
    },
    {
      "cell_type": "code",
      "execution_count": 19,
      "metadata": {
        "colab": {
          "base_uri": "https://localhost:8080/"
        },
        "id": "F4xhttEPKpri",
        "outputId": "9fff5e15-7267-4725-b6ab-a54c82a0a534"
      },
      "outputs": [
        {
          "output_type": "stream",
          "name": "stdout",
          "text": [
            "train score : 0.857\n",
            "test socre : 0.816\n"
          ]
        }
      ],
      "source": [
        "print('train score : {:.3f}'.format(model_dt.score(X_train, y_train)))\n",
        "print('test socre : {:.3f}'.format(model_dt.score(X_test, y_test)))"
      ]
    },
    {
      "cell_type": "markdown",
      "metadata": {
        "id": "miTPEBs2Kprk"
      },
      "source": [
        "- max_depth를 6로 설정한 결과이다. 이전의 모델보다 깊게 설정한 결과 과적합이 발생했다."
      ]
    },
    {
      "cell_type": "code",
      "execution_count": 20,
      "metadata": {
        "colab": {
          "base_uri": "https://localhost:8080/",
          "height": 470
        },
        "id": "TvgiJawIKprk",
        "outputId": "b76a045e-4d27-4107-8023-e3c896951f91"
      },
      "outputs": [
        {
          "output_type": "display_data",
          "data": {
            "text/plain": [
              "<Figure size 1000x500 with 1 Axes>"
            ],
            "image/png": "[encoded data removed]"
          },
          "metadata": {}
        }
      ],
      "source": [
        "model_border(model_dt, X_train, y_train)"
      ]
    },
    {
      "cell_type": "markdown",
      "metadata": {
        "id": "CLOAedrHKprm"
      },
      "source": [
        "- 이전의 모델과 달리 max_depth를 6로 설정하였더니 결정트리의 경계가 더 많이 생성된 것을 볼 수 있다."
      ]
    },
    {
      "cell_type": "code",
      "execution_count": 21,
      "metadata": {
        "id": "UBI8_n75Kprn"
      },
      "outputs": [],
      "source": [
        "# 특성의 중요도를 살펴보기 위해 모든 특성을 사용했다.\n",
        "X_train, X_test, y_train, y_test = train_test_split(iris.data, iris.target,\n",
        "                                                   stratify = iris.target,\n",
        "                                                   shuffle = True)\n",
        "model_dt = DT(criterion = 'entropy', max_depth = 6,\n",
        "                                  random_state = 0).fit(X_train, y_train)"
      ]
    },
    {
      "cell_type": "code",
      "execution_count": 22,
      "metadata": {
        "colab": {
          "base_uri": "https://localhost:8080/"
        },
        "id": "cE5RQAkhKpro",
        "outputId": "6dbba6ca-ffd5-45d8-df27-eca549532c57"
      },
      "outputs": [
        {
          "output_type": "execute_result",
          "data": {
            "text/plain": [
              "array([0.02954944, 0.        , 0.09396192, 0.87648864])"
            ]
          },
          "metadata": {},
          "execution_count": 22
        }
      ],
      "source": [
        "model_dt.feature_importances_"
      ]
    },
    {
      "cell_type": "markdown",
      "metadata": {
        "id": "hPWXB5xXKprq"
      },
      "source": [
        "feature_importances_는 트리를 만들떄 특성이 얼마나 중요한지를 평가할 수 있는 명렁어이다. 값은 0과 1사이의 숫자로 나타나며 0은 전혀 사용되지 않았음을 나타낸다."
      ]
    },
    {
      "cell_type": "code",
      "execution_count": 27,
      "metadata": {
        "colab": {
          "base_uri": "https://localhost:8080/",
          "height": 445
        },
        "id": "cG9HaGI-Kprr",
        "outputId": "0c0a3cf1-5272-49f3-8d49-23584902dc2e"
      },
      "outputs": [
        {
          "output_type": "display_data",
          "data": {
            "text/plain": [
              "<Figure size 1000x500 with 1 Axes>"
            ],
            "image/png": "[encoded data removed]"
          },
          "metadata": {}
        }
      ],
      "source": [
        "# 중요도를 그래프로 그려보자.\n",
        "plt.figure(figsize = (10,5))\n",
        "plt.bar(np.arange(iris.data.shape[1]), model_dt.feature_importances_)\n",
        "plt.xticks(np.arange(iris.data.shape[1]), iris.feature_names)\n",
        "plt.xlim(-1, iris.data.shape[1])\n",
        "plt.show()"
      ]
    },
    {
      "cell_type": "markdown",
      "metadata": {
        "id": "SBT4dSgjKprw"
      },
      "source": [
        "- sepal width특성은 트리 모델에서 전혀 사용되지 않았으며 가장 중요한 특성은 petal width이다."
      ]
    },
    {
      "cell_type": "markdown",
      "metadata": {
        "id": "lFKHfQv8Kprw"
      },
      "source": [
        "### Decision Tree Regressor"
      ]
    },
    {
      "cell_type": "code",
      "execution_count": 35,
      "metadata": {
        "id": "KPlpotFJKprx"
      },
      "outputs": [],
      "source": [
        "from sklearn.tree import DecisionTreeRegressor as DT\n",
        "from sklearn.model_selection import train_test_split\n",
        "import pandas as pd\n",
        "import numpy as np\n",
        "\n",
        "data_url = \"http://lib.stat.cmu.edu/datasets/boston\"\n",
        "raw_df = pd.read_csv(data_url, sep=\"\\s+\", skiprows=22, header=None)\n",
        "data = np.hstack([raw_df.values[::2, :], raw_df.values[1::2, :2]])\n",
        "target = raw_df.values[1::2, 2]"
      ]
    },
    {
      "cell_type": "code",
      "execution_count": null,
      "metadata": {
        "id": "AFsLP-Bt6xes"
      },
      "outputs": [],
      "source": [
        "DecisionTreeRegressor?"
      ]
    },
    {
      "cell_type": "code",
      "execution_count": 36,
      "metadata": {
        "id": "i6Gc50xPKprz"
      },
      "outputs": [],
      "source": [
        "X_train, X_test, y_train, y_test = train_test_split(data, target,\n",
        "                                                   test_size = 0.2, shuffle = True)"
      ]
    },
    {
      "cell_type": "code",
      "execution_count": 37,
      "metadata": {
        "id": "iGNz0PEpKpr1"
      },
      "outputs": [],
      "source": [
        "tree_reg = DT(criterion = 'friedman_mse',max_depth = 1,\n",
        "                                random_state = 0).fit(X_train, y_train)"
      ]
    },
    {
      "cell_type": "markdown",
      "metadata": {
        "id": "xhLSH_B9Kpr3"
      },
      "source": [
        "- DecisionTreeClassifier와 똑같은 파라미터들을 가지고 있다.\n",
        "- criterion의 경우 결정트리 분류모델과는 다른 값들을 가진다. 기본값으로는 평균 제곱 오차인 'squared_error'로 설정되어 있다. 그 외에 프리드먼 개선 점수와 평균 제곱 오차를 사용하는 'friedman_mse'와 터미널 노드의 중간값을 사용하여 L1 loss를 최소화하는 'absolute_error'가 있다.\n",
        "\n",
        "* 터미널 노드는 가지가 밑으로 더이상 생성되지 않는 노드를 말한다. leaf node라고도 한다."
      ]
    },
    {
      "cell_type": "code",
      "execution_count": 38,
      "metadata": {
        "id": "M5A2-MFpKpr3"
      },
      "outputs": [],
      "source": [
        "from sklearn.tree import export_graphviz\n",
        "export_graphviz(tree_reg, out_file = 'tree_reg.dot', #feature_names = boston.feature_names\n",
        "                filled = True)"
      ]
    },
    {
      "cell_type": "code",
      "execution_count": 39,
      "metadata": {
        "colab": {
          "base_uri": "https://localhost:8080/",
          "height": 240
        },
        "id": "e-qVw7uwKpr5",
        "outputId": "c35ccc23-71cc-452d-ecdb-be83288d8e39"
      },
      "outputs": [
        {
          "output_type": "display_data",
          "data": {
            "image/svg+xml": "<?xml version=\"1.0\" encoding=\"UTF-8\" standalone=\"no\"?>\n<!DOCTYPE svg PUBLIC \"-//W3C//DTD SVG 1.1//EN\"\n \"http://www.w3.org/Graphics/SVG/1.1/DTD/svg11.dtd\">\n<!-- Generated by graphviz version 2.43.0 (0)\n -->\n<!-- Title: Tree Pages: 1 -->\n<svg width=\"348pt\" height=\"165pt\"\n viewBox=\"0.00 0.00 348.00 165.00\" xmlns=\"http://www.w3.org/2000/svg\" xmlns:xlink=\"http://www.w3.org/1999/xlink\">\n<g id=\"graph0\" class=\"graph\" transform=\"scale(1 1) rotate(0) translate(4 161)\">\n<title>Tree</title>\n<polygon fill=\"white\" stroke=\"transparent\" points=\"-4,4 -4,-161 344,-161 344,4 -4,4\"/>\n<!-- 0 -->\n<g id=\"node1\" class=\"node\">\n<title>0</title>\n<polygon fill=\"#fbebe0\" stroke=\"black\" points=\"250,-157 89,-157 89,-89 250,-89 250,-157\"/>\n<text text-anchor=\"middle\" x=\"169.5\" y=\"-141.8\" font-family=\"Helvetica,sans-Serif\" font-size=\"14.00\">x[5] &lt;= 6.941</text>\n<text text-anchor=\"middle\" x=\"169.5\" y=\"-126.8\" font-family=\"Helvetica,sans-Serif\" font-size=\"14.00\">friedman_mse = 86.405</text>\n<text text-anchor=\"middle\" x=\"169.5\" y=\"-111.8\" font-family=\"Helvetica,sans-Serif\" font-size=\"14.00\">samples = 404</text>\n<text text-anchor=\"middle\" x=\"169.5\" y=\"-96.8\" font-family=\"Helvetica,sans-Serif\" font-size=\"14.00\">value = 22.552</text>\n</g>\n<!-- 1 -->\n<g id=\"node2\" class=\"node\">\n<title>1</title>\n<polygon fill=\"#ffffff\" stroke=\"black\" points=\"161,-53 0,-53 0,0 161,0 161,-53\"/>\n<text text-anchor=\"middle\" x=\"80.5\" y=\"-37.8\" font-family=\"Helvetica,sans-Serif\" font-size=\"14.00\">friedman_mse = 40.734</text>\n<text text-anchor=\"middle\" x=\"80.5\" y=\"-22.8\" font-family=\"Helvetica,sans-Serif\" font-size=\"14.00\">samples = 341</text>\n<text text-anchor=\"middle\" x=\"80.5\" y=\"-7.8\" font-family=\"Helvetica,sans-Serif\" font-size=\"14.00\">value = 19.884</text>\n</g>\n<!-- 0&#45;&gt;1 -->\n<g id=\"edge1\" class=\"edge\">\n<title>0&#45;&gt;1</title>\n<path fill=\"none\" stroke=\"black\" d=\"M138.37,-88.95C129.76,-79.8 120.4,-69.87 111.78,-60.71\"/>\n<polygon fill=\"black\" stroke=\"black\" points=\"114.14,-58.12 104.74,-53.24 109.05,-62.92 114.14,-58.12\"/>\n<text text-anchor=\"middle\" x=\"103.99\" y=\"-74.53\" font-family=\"Helvetica,sans-Serif\" font-size=\"14.00\">True</text>\n</g>\n<!-- 2 -->\n<g id=\"node3\" class=\"node\">\n<title>2</title>\n<polygon fill=\"#e58139\" stroke=\"black\" points=\"340,-53 179,-53 179,0 340,0 340,-53\"/>\n<text text-anchor=\"middle\" x=\"259.5\" y=\"-37.8\" font-family=\"Helvetica,sans-Serif\" font-size=\"14.00\">friedman_mse = 86.616</text>\n<text text-anchor=\"middle\" x=\"259.5\" y=\"-22.8\" font-family=\"Helvetica,sans-Serif\" font-size=\"14.00\">samples = 63</text>\n<text text-anchor=\"middle\" x=\"259.5\" y=\"-7.8\" font-family=\"Helvetica,sans-Serif\" font-size=\"14.00\">value = 36.99</text>\n</g>\n<!-- 0&#45;&gt;2 -->\n<g id=\"edge2\" class=\"edge\">\n<title>0&#45;&gt;2</title>\n<path fill=\"none\" stroke=\"black\" d=\"M200.98,-88.95C209.69,-79.8 219.15,-69.87 227.87,-60.71\"/>\n<polygon fill=\"black\" stroke=\"black\" points=\"230.63,-62.89 234.99,-53.24 225.56,-58.06 230.63,-62.89\"/>\n<text text-anchor=\"middle\" x=\"235.6\" y=\"-74.53\" font-family=\"Helvetica,sans-Serif\" font-size=\"14.00\">False</text>\n</g>\n</g>\n</svg>\n",
            "text/plain": [
              "<graphviz.sources.Source at 0x799be2f15ea0>"
            ]
          },
          "metadata": {}
        }
      ],
      "source": [
        "import graphviz\n",
        "\n",
        "with open('tree_reg.dot') as f:\n",
        "    dot_graph = f.read()\n",
        "display(graphviz.Source(dot_graph))"
      ]
    },
    {
      "cell_type": "code",
      "execution_count": 40,
      "metadata": {
        "colab": {
          "base_uri": "https://localhost:8080/"
        },
        "id": "6n6vnCPAKpr7",
        "outputId": "db75ad13-0ea3-475b-fb53-43a9970faa26"
      },
      "outputs": [
        {
          "output_type": "stream",
          "name": "stdout",
          "text": [
            "train score : 0.446\n",
            "test score : 0.483\n"
          ]
        }
      ],
      "source": [
        "print(\"train score : {:.3f}\".format(tree_reg.score(X_train, y_train)))\n",
        "print(\"test score : {:.3f}\".format(tree_reg.score(X_test, y_test)))"
      ]
    },
    {
      "cell_type": "code",
      "execution_count": 41,
      "metadata": {
        "id": "TXuXuGbDKpr9"
      },
      "outputs": [],
      "source": [
        "tree_reg = DT(criterion = 'absolute_error',max_depth = 4,\n",
        "                                random_state = 0).fit(X_train, y_train)"
      ]
    },
    {
      "cell_type": "code",
      "execution_count": 42,
      "metadata": {
        "id": "Od92h4AFKpr_"
      },
      "outputs": [],
      "source": [
        "from sklearn.tree import export_graphviz\n",
        "export_graphviz(tree_reg, out_file = 'tree_reg1.dot', #feature_names = boston.feature_names\n",
        "                filled = True)"
      ]
    },
    {
      "cell_type": "code",
      "execution_count": 43,
      "metadata": {
        "colab": {
          "base_uri": "https://localhost:8080/",
          "height": 676
        },
        "id": "eMRcGMFwKpsA",
        "outputId": "4ec86a64-dda7-46c3-d013-7d4c6cfe6224"
      },
      "outputs": [
        {
          "output_type": "display_data",
          "data": {
            "image/svg+xml": "<?xml version=\"1.0\" encoding=\"UTF-8\" standalone=\"no\"?>\n<!DOCTYPE svg PUBLIC \"-//W3C//DTD SVG 1.1//EN\"\n \"http://www.w3.org/Graphics/SVG/1.1/DTD/svg11.dtd\">\n<!-- Generated by graphviz version 2.43.0 (0)\n -->\n<!-- Title: Tree Pages: 1 -->\n<svg width=\"2321pt\" height=\"477pt\"\n viewBox=\"0.00 0.00 2320.50 477.00\" xmlns=\"http://www.w3.org/2000/svg\" xmlns:xlink=\"http://www.w3.org/1999/xlink\">\n<g id=\"graph0\" class=\"graph\" transform=\"scale(1 1) rotate(0) translate(4 473)\">\n<title>Tree</title>\n<polygon fill=\"white\" stroke=\"transparent\" points=\"-4,4 -4,-473 2316.5,-473 2316.5,4 -4,4\"/>\n<!-- 0 -->\n<g id=\"node1\" class=\"node\">\n<title>0</title>\n<polygon fill=\"#f7d9c4\" stroke=\"black\" points=\"1086,-469 933,-469 933,-401 1086,-401 1086,-469\"/>\n<text text-anchor=\"middle\" x=\"1009.5\" y=\"-453.8\" font-family=\"Helvetica,sans-Serif\" font-size=\"14.00\">x[5] &lt;= 6.797</text>\n<text text-anchor=\"middle\" x=\"1009.5\" y=\"-438.8\" font-family=\"Helvetica,sans-Serif\" font-size=\"14.00\">absolute_error = 6.551</text>\n<text text-anchor=\"middle\" x=\"1009.5\" y=\"-423.8\" font-family=\"Helvetica,sans-Serif\" font-size=\"14.00\">samples = 404</text>\n<text text-anchor=\"middle\" x=\"1009.5\" y=\"-408.8\" font-family=\"Helvetica,sans-Serif\" font-size=\"14.00\">value = 21.15</text>\n</g>\n<!-- 1 -->\n<g id=\"node2\" class=\"node\">\n<title>1</title>\n<polygon fill=\"#f8ddca\" stroke=\"black\" points=\"751,-365 598,-365 598,-297 751,-297 751,-365\"/>\n<text text-anchor=\"middle\" x=\"674.5\" y=\"-349.8\" font-family=\"Helvetica,sans-Serif\" font-size=\"14.00\">x[12] &lt;= 15.0</text>\n<text text-anchor=\"middle\" x=\"674.5\" y=\"-334.8\" font-family=\"Helvetica,sans-Serif\" font-size=\"14.00\">absolute_error = 4.417</text>\n<text text-anchor=\"middle\" x=\"674.5\" y=\"-319.8\" font-family=\"Helvetica,sans-Serif\" font-size=\"14.00\">samples = 326</text>\n<text text-anchor=\"middle\" x=\"674.5\" y=\"-304.8\" font-family=\"Helvetica,sans-Serif\" font-size=\"14.00\">value = 19.9</text>\n</g>\n<!-- 0&#45;&gt;1 -->\n<g id=\"edge1\" class=\"edge\">\n<title>0&#45;&gt;1</title>\n<path fill=\"none\" stroke=\"black\" d=\"M932.64,-410.6C881.45,-395.01 814.1,-374.5 761.02,-358.34\"/>\n<polygon fill=\"black\" stroke=\"black\" points=\"761.87,-354.94 751.29,-355.38 759.83,-361.64 761.87,-354.94\"/>\n<text text-anchor=\"middle\" x=\"763.05\" y=\"-373.74\" font-family=\"Helvetica,sans-Serif\" font-size=\"14.00\">True</text>\n</g>\n<!-- 14 -->\n<g id=\"node15\" class=\"node\">\n<title>14</title>\n<polygon fill=\"#efb185\" stroke=\"black\" points=\"1425,-365 1272,-365 1272,-297 1425,-297 1425,-365\"/>\n<text text-anchor=\"middle\" x=\"1348.5\" y=\"-349.8\" font-family=\"Helvetica,sans-Serif\" font-size=\"14.00\">x[5] &lt;= 7.437</text>\n<text text-anchor=\"middle\" x=\"1348.5\" y=\"-334.8\" font-family=\"Helvetica,sans-Serif\" font-size=\"14.00\">absolute_error = 7.522</text>\n<text text-anchor=\"middle\" x=\"1348.5\" y=\"-319.8\" font-family=\"Helvetica,sans-Serif\" font-size=\"14.00\">samples = 78</text>\n<text text-anchor=\"middle\" x=\"1348.5\" y=\"-304.8\" font-family=\"Helvetica,sans-Serif\" font-size=\"14.00\">value = 34.25</text>\n</g>\n<!-- 0&#45;&gt;14 -->\n<g id=\"edge14\" class=\"edge\">\n<title>0&#45;&gt;14</title>\n<path fill=\"none\" stroke=\"black\" d=\"M1086,-410.98C1138.41,-395.21 1208,-374.27 1262.36,-357.92\"/>\n<polygon fill=\"black\" stroke=\"black\" points=\"1263.42,-361.26 1271.98,-355.02 1261.4,-354.55 1263.42,-361.26\"/>\n<text text-anchor=\"middle\" x=\"1260.15\" y=\"-373.34\" font-family=\"Helvetica,sans-Serif\" font-size=\"14.00\">False</text>\n</g>\n<!-- 2 -->\n<g id=\"node3\" class=\"node\">\n<title>2</title>\n<polygon fill=\"#f7d7c0\" stroke=\"black\" points=\"324,-261 171,-261 171,-193 324,-193 324,-261\"/>\n<text text-anchor=\"middle\" x=\"247.5\" y=\"-245.8\" font-family=\"Helvetica,sans-Serif\" font-size=\"14.00\">x[7] &lt;= 1.434</text>\n<text text-anchor=\"middle\" x=\"247.5\" y=\"-230.8\" font-family=\"Helvetica,sans-Serif\" font-size=\"14.00\">absolute_error = 3.186</text>\n<text text-anchor=\"middle\" x=\"247.5\" y=\"-215.8\" font-family=\"Helvetica,sans-Serif\" font-size=\"14.00\">samples = 201</text>\n<text text-anchor=\"middle\" x=\"247.5\" y=\"-200.8\" font-family=\"Helvetica,sans-Serif\" font-size=\"14.00\">value = 22.0</text>\n</g>\n<!-- 1&#45;&gt;2 -->\n<g id=\"edge2\" class=\"edge\">\n<title>1&#45;&gt;2</title>\n<path fill=\"none\" stroke=\"black\" d=\"M597.67,-311.65C523.56,-293.94 411.55,-267.19 334.27,-248.73\"/>\n<polygon fill=\"black\" stroke=\"black\" points=\"334.61,-245.21 324.07,-246.29 332.99,-252.02 334.61,-245.21\"/>\n</g>\n<!-- 7 -->\n<g id=\"node8\" class=\"node\">\n<title>7</title>\n<polygon fill=\"#fbede3\" stroke=\"black\" points=\"751,-261 598,-261 598,-193 751,-193 751,-261\"/>\n<text text-anchor=\"middle\" x=\"674.5\" y=\"-245.8\" font-family=\"Helvetica,sans-Serif\" font-size=\"14.00\">x[0] &lt;= 0.654</text>\n<text text-anchor=\"middle\" x=\"674.5\" y=\"-230.8\" font-family=\"Helvetica,sans-Serif\" font-size=\"14.00\">absolute_error = 3.401</text>\n<text text-anchor=\"middle\" x=\"674.5\" y=\"-215.8\" font-family=\"Helvetica,sans-Serif\" font-size=\"14.00\">samples = 125</text>\n<text text-anchor=\"middle\" x=\"674.5\" y=\"-200.8\" font-family=\"Helvetica,sans-Serif\" font-size=\"14.00\">value = 14.6</text>\n</g>\n<!-- 1&#45;&gt;7 -->\n<g id=\"edge7\" class=\"edge\">\n<title>1&#45;&gt;7</title>\n<path fill=\"none\" stroke=\"black\" d=\"M674.5,-296.88C674.5,-288.78 674.5,-279.98 674.5,-271.47\"/>\n<polygon fill=\"black\" stroke=\"black\" points=\"678,-271.3 674.5,-261.3 671,-271.3 678,-271.3\"/>\n</g>\n<!-- 3 -->\n<g id=\"node4\" class=\"node\">\n<title>3</title>\n<polygon fill=\"#e58139\" stroke=\"black\" points=\"152.5,-149.5 14.5,-149.5 14.5,-96.5 152.5,-96.5 152.5,-149.5\"/>\n<text text-anchor=\"middle\" x=\"83.5\" y=\"-134.3\" font-family=\"Helvetica,sans-Serif\" font-size=\"14.00\">absolute_error = 0.0</text>\n<text text-anchor=\"middle\" x=\"83.5\" y=\"-119.3\" font-family=\"Helvetica,sans-Serif\" font-size=\"14.00\">samples = 4</text>\n<text text-anchor=\"middle\" x=\"83.5\" y=\"-104.3\" font-family=\"Helvetica,sans-Serif\" font-size=\"14.00\">value = 50.0</text>\n</g>\n<!-- 2&#45;&gt;3 -->\n<g id=\"edge3\" class=\"edge\">\n<title>2&#45;&gt;3</title>\n<path fill=\"none\" stroke=\"black\" d=\"M194.25,-192.88C174.63,-180.68 152.48,-166.9 133.18,-154.9\"/>\n<polygon fill=\"black\" stroke=\"black\" points=\"134.87,-151.83 124.53,-149.52 131.18,-157.77 134.87,-151.83\"/>\n</g>\n<!-- 4 -->\n<g id=\"node5\" class=\"node\">\n<title>4</title>\n<polygon fill=\"#f7d7c0\" stroke=\"black\" points=\"324,-157 171,-157 171,-89 324,-89 324,-157\"/>\n<text text-anchor=\"middle\" x=\"247.5\" y=\"-141.8\" font-family=\"Helvetica,sans-Serif\" font-size=\"14.00\">x[12] &lt;= 7.685</text>\n<text text-anchor=\"middle\" x=\"247.5\" y=\"-126.8\" font-family=\"Helvetica,sans-Serif\" font-size=\"14.00\">absolute_error = 2.681</text>\n<text text-anchor=\"middle\" x=\"247.5\" y=\"-111.8\" font-family=\"Helvetica,sans-Serif\" font-size=\"14.00\">samples = 197</text>\n<text text-anchor=\"middle\" x=\"247.5\" y=\"-96.8\" font-family=\"Helvetica,sans-Serif\" font-size=\"14.00\">value = 21.9</text>\n</g>\n<!-- 2&#45;&gt;4 -->\n<g id=\"edge4\" class=\"edge\">\n<title>2&#45;&gt;4</title>\n<path fill=\"none\" stroke=\"black\" d=\"M247.5,-192.88C247.5,-184.78 247.5,-175.98 247.5,-167.47\"/>\n<polygon fill=\"black\" stroke=\"black\" points=\"251,-167.3 247.5,-157.3 244,-167.3 251,-167.3\"/>\n</g>\n<!-- 5 -->\n<g id=\"node6\" class=\"node\">\n<title>5</title>\n<polygon fill=\"#f5cfb4\" stroke=\"black\" points=\"153,-53 0,-53 0,0 153,0 153,-53\"/>\n<text text-anchor=\"middle\" x=\"76.5\" y=\"-37.8\" font-family=\"Helvetica,sans-Serif\" font-size=\"14.00\">absolute_error = 2.028</text>\n<text text-anchor=\"middle\" x=\"76.5\" y=\"-22.8\" font-family=\"Helvetica,sans-Serif\" font-size=\"14.00\">samples = 54</text>\n<text text-anchor=\"middle\" x=\"76.5\" y=\"-7.8\" font-family=\"Helvetica,sans-Serif\" font-size=\"14.00\">value = 24.5</text>\n</g>\n<!-- 4&#45;&gt;5 -->\n<g id=\"edge5\" class=\"edge\">\n<title>4&#45;&gt;5</title>\n<path fill=\"none\" stroke=\"black\" d=\"M187.69,-88.95C169.57,-78.93 149.74,-67.98 131.92,-58.13\"/>\n<polygon fill=\"black\" stroke=\"black\" points=\"133.25,-54.86 122.8,-53.09 129.86,-60.99 133.25,-54.86\"/>\n</g>\n<!-- 6 -->\n<g id=\"node7\" class=\"node\">\n<title>6</title>\n<polygon fill=\"#f7dbc6\" stroke=\"black\" points=\"324,-53 171,-53 171,0 324,0 324,-53\"/>\n<text text-anchor=\"middle\" x=\"247.5\" y=\"-37.8\" font-family=\"Helvetica,sans-Serif\" font-size=\"14.00\">absolute_error = 2.236</text>\n<text text-anchor=\"middle\" x=\"247.5\" y=\"-22.8\" font-family=\"Helvetica,sans-Serif\" font-size=\"14.00\">samples = 143</text>\n<text text-anchor=\"middle\" x=\"247.5\" y=\"-7.8\" font-family=\"Helvetica,sans-Serif\" font-size=\"14.00\">value = 20.7</text>\n</g>\n<!-- 4&#45;&gt;6 -->\n<g id=\"edge6\" class=\"edge\">\n<title>4&#45;&gt;6</title>\n<path fill=\"none\" stroke=\"black\" d=\"M247.5,-88.95C247.5,-80.72 247.5,-71.85 247.5,-63.48\"/>\n<polygon fill=\"black\" stroke=\"black\" points=\"251,-63.24 247.5,-53.24 244,-63.24 251,-63.24\"/>\n</g>\n<!-- 8 -->\n<g id=\"node9\" class=\"node\">\n<title>8</title>\n<polygon fill=\"#f9e0cf\" stroke=\"black\" points=\"658.5,-157 520.5,-157 520.5,-89 658.5,-89 658.5,-157\"/>\n<text text-anchor=\"middle\" x=\"589.5\" y=\"-141.8\" font-family=\"Helvetica,sans-Serif\" font-size=\"14.00\">x[7] &lt;= 1.918</text>\n<text text-anchor=\"middle\" x=\"589.5\" y=\"-126.8\" font-family=\"Helvetica,sans-Serif\" font-size=\"14.00\">absolute_error = 2.7</text>\n<text text-anchor=\"middle\" x=\"589.5\" y=\"-111.8\" font-family=\"Helvetica,sans-Serif\" font-size=\"14.00\">samples = 38</text>\n<text text-anchor=\"middle\" x=\"589.5\" y=\"-96.8\" font-family=\"Helvetica,sans-Serif\" font-size=\"14.00\">value = 18.8</text>\n</g>\n<!-- 7&#45;&gt;8 -->\n<g id=\"edge8\" class=\"edge\">\n<title>7&#45;&gt;8</title>\n<path fill=\"none\" stroke=\"black\" d=\"M646.9,-192.88C639.55,-184.07 631.53,-174.43 623.86,-165.24\"/>\n<polygon fill=\"black\" stroke=\"black\" points=\"626.34,-162.74 617.25,-157.3 620.96,-167.22 626.34,-162.74\"/>\n</g>\n<!-- 11 -->\n<g id=\"node12\" class=\"node\">\n<title>11</title>\n<polygon fill=\"#fcf1e9\" stroke=\"black\" points=\"837,-157 684,-157 684,-89 837,-89 837,-157\"/>\n<text text-anchor=\"middle\" x=\"760.5\" y=\"-141.8\" font-family=\"Helvetica,sans-Serif\" font-size=\"14.00\">x[0] &lt;= 13.519</text>\n<text text-anchor=\"middle\" x=\"760.5\" y=\"-126.8\" font-family=\"Helvetica,sans-Serif\" font-size=\"14.00\">absolute_error = 2.668</text>\n<text text-anchor=\"middle\" x=\"760.5\" y=\"-111.8\" font-family=\"Helvetica,sans-Serif\" font-size=\"14.00\">samples = 87</text>\n<text text-anchor=\"middle\" x=\"760.5\" y=\"-96.8\" font-family=\"Helvetica,sans-Serif\" font-size=\"14.00\">value = 13.4</text>\n</g>\n<!-- 7&#45;&gt;11 -->\n<g id=\"edge11\" class=\"edge\">\n<title>7&#45;&gt;11</title>\n<path fill=\"none\" stroke=\"black\" d=\"M702.42,-192.88C709.93,-183.98 718.14,-174.24 725.97,-164.96\"/>\n<polygon fill=\"black\" stroke=\"black\" points=\"728.65,-167.2 732.42,-157.3 723.3,-162.69 728.65,-167.2\"/>\n</g>\n<!-- 9 -->\n<g id=\"node10\" class=\"node\">\n<title>9</title>\n<polygon fill=\"#fbebe0\" stroke=\"black\" points=\"495,-53 342,-53 342,0 495,0 495,-53\"/>\n<text text-anchor=\"middle\" x=\"418.5\" y=\"-37.8\" font-family=\"Helvetica,sans-Serif\" font-size=\"14.00\">absolute_error = 2.778</text>\n<text text-anchor=\"middle\" x=\"418.5\" y=\"-22.8\" font-family=\"Helvetica,sans-Serif\" font-size=\"14.00\">samples = 9</text>\n<text text-anchor=\"middle\" x=\"418.5\" y=\"-7.8\" font-family=\"Helvetica,sans-Serif\" font-size=\"14.00\">value = 15.2</text>\n</g>\n<!-- 8&#45;&gt;9 -->\n<g id=\"edge9\" class=\"edge\">\n<title>8&#45;&gt;9</title>\n<path fill=\"none\" stroke=\"black\" d=\"M529.69,-88.95C511.57,-78.93 491.74,-67.98 473.92,-58.13\"/>\n<polygon fill=\"black\" stroke=\"black\" points=\"475.25,-54.86 464.8,-53.09 471.86,-60.99 475.25,-54.86\"/>\n</g>\n<!-- 10 -->\n<g id=\"node11\" class=\"node\">\n<title>10</title>\n<polygon fill=\"#f8decc\" stroke=\"black\" points=\"666,-53 513,-53 513,0 666,0 666,-53\"/>\n<text text-anchor=\"middle\" x=\"589.5\" y=\"-37.8\" font-family=\"Helvetica,sans-Serif\" font-size=\"14.00\">absolute_error = 1.893</text>\n<text text-anchor=\"middle\" x=\"589.5\" y=\"-22.8\" font-family=\"Helvetica,sans-Serif\" font-size=\"14.00\">samples = 29</text>\n<text text-anchor=\"middle\" x=\"589.5\" y=\"-7.8\" font-family=\"Helvetica,sans-Serif\" font-size=\"14.00\">value = 19.5</text>\n</g>\n<!-- 8&#45;&gt;10 -->\n<g id=\"edge10\" class=\"edge\">\n<title>8&#45;&gt;10</title>\n<path fill=\"none\" stroke=\"black\" d=\"M589.5,-88.95C589.5,-80.72 589.5,-71.85 589.5,-63.48\"/>\n<polygon fill=\"black\" stroke=\"black\" points=\"593,-63.24 589.5,-53.24 586,-63.24 593,-63.24\"/>\n</g>\n<!-- 12 -->\n<g id=\"node13\" class=\"node\">\n<title>12</title>\n<polygon fill=\"#fcefe5\" stroke=\"black\" points=\"837,-53 684,-53 684,0 837,0 837,-53\"/>\n<text text-anchor=\"middle\" x=\"760.5\" y=\"-37.8\" font-family=\"Helvetica,sans-Serif\" font-size=\"14.00\">absolute_error = 2.016</text>\n<text text-anchor=\"middle\" x=\"760.5\" y=\"-22.8\" font-family=\"Helvetica,sans-Serif\" font-size=\"14.00\">samples = 64</text>\n<text text-anchor=\"middle\" x=\"760.5\" y=\"-7.8\" font-family=\"Helvetica,sans-Serif\" font-size=\"14.00\">value = 14.15</text>\n</g>\n<!-- 11&#45;&gt;12 -->\n<g id=\"edge12\" class=\"edge\">\n<title>11&#45;&gt;12</title>\n<path fill=\"none\" stroke=\"black\" d=\"M760.5,-88.95C760.5,-80.72 760.5,-71.85 760.5,-63.48\"/>\n<polygon fill=\"black\" stroke=\"black\" points=\"764,-63.24 760.5,-53.24 757,-63.24 764,-63.24\"/>\n</g>\n<!-- 13 -->\n<g id=\"node14\" class=\"node\">\n<title>13</title>\n<polygon fill=\"#ffffff\" stroke=\"black\" points=\"1008,-53 855,-53 855,0 1008,0 1008,-53\"/>\n<text text-anchor=\"middle\" x=\"931.5\" y=\"-37.8\" font-family=\"Helvetica,sans-Serif\" font-size=\"14.00\">absolute_error = 2.613</text>\n<text text-anchor=\"middle\" x=\"931.5\" y=\"-22.8\" font-family=\"Helvetica,sans-Serif\" font-size=\"14.00\">samples = 23</text>\n<text text-anchor=\"middle\" x=\"931.5\" y=\"-7.8\" font-family=\"Helvetica,sans-Serif\" font-size=\"14.00\">value = 8.8</text>\n</g>\n<!-- 11&#45;&gt;13 -->\n<g id=\"edge13\" class=\"edge\">\n<title>11&#45;&gt;13</title>\n<path fill=\"none\" stroke=\"black\" d=\"M820.31,-88.95C838.43,-78.93 858.26,-67.98 876.08,-58.13\"/>\n<polygon fill=\"black\" stroke=\"black\" points=\"878.14,-60.99 885.2,-53.09 874.75,-54.86 878.14,-60.99\"/>\n</g>\n<!-- 15 -->\n<g id=\"node16\" class=\"node\">\n<title>15</title>\n<polygon fill=\"#f1b991\" stroke=\"black\" points=\"1425,-261 1272,-261 1272,-193 1425,-193 1425,-261\"/>\n<text text-anchor=\"middle\" x=\"1348.5\" y=\"-245.8\" font-family=\"Helvetica,sans-Serif\" font-size=\"14.00\">x[0] &lt;= 7.393</text>\n<text text-anchor=\"middle\" x=\"1348.5\" y=\"-230.8\" font-family=\"Helvetica,sans-Serif\" font-size=\"14.00\">absolute_error = 4.909</text>\n<text text-anchor=\"middle\" x=\"1348.5\" y=\"-215.8\" font-family=\"Helvetica,sans-Serif\" font-size=\"14.00\">samples = 53</text>\n<text text-anchor=\"middle\" x=\"1348.5\" y=\"-200.8\" font-family=\"Helvetica,sans-Serif\" font-size=\"14.00\">value = 31.6</text>\n</g>\n<!-- 14&#45;&gt;15 -->\n<g id=\"edge15\" class=\"edge\">\n<title>14&#45;&gt;15</title>\n<path fill=\"none\" stroke=\"black\" d=\"M1348.5,-296.88C1348.5,-288.78 1348.5,-279.98 1348.5,-271.47\"/>\n<polygon fill=\"black\" stroke=\"black\" points=\"1352,-271.3 1348.5,-261.3 1345,-271.3 1352,-271.3\"/>\n</g>\n<!-- 22 -->\n<g id=\"node23\" class=\"node\">\n<title>22</title>\n<polygon fill=\"#e78b49\" stroke=\"black\" points=\"1904.5,-261 1758.5,-261 1758.5,-193 1904.5,-193 1904.5,-261\"/>\n<text text-anchor=\"middle\" x=\"1831.5\" y=\"-245.8\" font-family=\"Helvetica,sans-Serif\" font-size=\"14.00\">x[10] &lt;= 17.9</text>\n<text text-anchor=\"middle\" x=\"1831.5\" y=\"-230.8\" font-family=\"Helvetica,sans-Serif\" font-size=\"14.00\">absolute_error = 4.52</text>\n<text text-anchor=\"middle\" x=\"1831.5\" y=\"-215.8\" font-family=\"Helvetica,sans-Serif\" font-size=\"14.00\">samples = 25</text>\n<text text-anchor=\"middle\" x=\"1831.5\" y=\"-200.8\" font-family=\"Helvetica,sans-Serif\" font-size=\"14.00\">value = 46.7</text>\n</g>\n<!-- 14&#45;&gt;22 -->\n<g id=\"edge22\" class=\"edge\">\n<title>14&#45;&gt;22</title>\n<path fill=\"none\" stroke=\"black\" d=\"M1425.03,-313.84C1513.23,-295.21 1657.66,-264.71 1748.5,-245.53\"/>\n<polygon fill=\"black\" stroke=\"black\" points=\"1749.43,-248.91 1758.49,-243.42 1747.98,-242.06 1749.43,-248.91\"/>\n</g>\n<!-- 16 -->\n<g id=\"node17\" class=\"node\">\n<title>16</title>\n<polygon fill=\"#f0b78f\" stroke=\"black\" points=\"1340,-157 1187,-157 1187,-89 1340,-89 1340,-157\"/>\n<text text-anchor=\"middle\" x=\"1263.5\" y=\"-141.8\" font-family=\"Helvetica,sans-Serif\" font-size=\"14.00\">x[5] &lt;= 7.121</text>\n<text text-anchor=\"middle\" x=\"1263.5\" y=\"-126.8\" font-family=\"Helvetica,sans-Serif\" font-size=\"14.00\">absolute_error = 3.451</text>\n<text text-anchor=\"middle\" x=\"1263.5\" y=\"-111.8\" font-family=\"Helvetica,sans-Serif\" font-size=\"14.00\">samples = 47</text>\n<text text-anchor=\"middle\" x=\"1263.5\" y=\"-96.8\" font-family=\"Helvetica,sans-Serif\" font-size=\"14.00\">value = 32.2</text>\n</g>\n<!-- 15&#45;&gt;16 -->\n<g id=\"edge16\" class=\"edge\">\n<title>15&#45;&gt;16</title>\n<path fill=\"none\" stroke=\"black\" d=\"M1320.9,-192.88C1313.55,-184.07 1305.53,-174.43 1297.86,-165.24\"/>\n<polygon fill=\"black\" stroke=\"black\" points=\"1300.34,-162.74 1291.25,-157.3 1294.96,-167.22 1300.34,-162.74\"/>\n</g>\n<!-- 19 -->\n<g id=\"node20\" class=\"node\">\n<title>19</title>\n<polygon fill=\"#fbede3\" stroke=\"black\" points=\"1511,-157 1358,-157 1358,-89 1511,-89 1511,-157\"/>\n<text text-anchor=\"middle\" x=\"1434.5\" y=\"-141.8\" font-family=\"Helvetica,sans-Serif\" font-size=\"14.00\">x[6] &lt;= 99.65</text>\n<text text-anchor=\"middle\" x=\"1434.5\" y=\"-126.8\" font-family=\"Helvetica,sans-Serif\" font-size=\"14.00\">absolute_error = 4.567</text>\n<text text-anchor=\"middle\" x=\"1434.5\" y=\"-111.8\" font-family=\"Helvetica,sans-Serif\" font-size=\"14.00\">samples = 6</text>\n<text text-anchor=\"middle\" x=\"1434.5\" y=\"-96.8\" font-family=\"Helvetica,sans-Serif\" font-size=\"14.00\">value = 14.55</text>\n</g>\n<!-- 15&#45;&gt;19 -->\n<g id=\"edge19\" class=\"edge\">\n<title>15&#45;&gt;19</title>\n<path fill=\"none\" stroke=\"black\" d=\"M1376.42,-192.88C1383.93,-183.98 1392.14,-174.24 1399.97,-164.96\"/>\n<polygon fill=\"black\" stroke=\"black\" points=\"1402.65,-167.2 1406.42,-157.3 1397.3,-162.69 1402.65,-167.2\"/>\n</g>\n<!-- 17 -->\n<g id=\"node18\" class=\"node\">\n<title>17</title>\n<polygon fill=\"#f1bd98\" stroke=\"black\" points=\"1172.5,-53 1026.5,-53 1026.5,0 1172.5,0 1172.5,-53\"/>\n<text text-anchor=\"middle\" x=\"1099.5\" y=\"-37.8\" font-family=\"Helvetica,sans-Serif\" font-size=\"14.00\">absolute_error = 3.91</text>\n<text text-anchor=\"middle\" x=\"1099.5\" y=\"-22.8\" font-family=\"Helvetica,sans-Serif\" font-size=\"14.00\">samples = 29</text>\n<text text-anchor=\"middle\" x=\"1099.5\" y=\"-7.8\" font-family=\"Helvetica,sans-Serif\" font-size=\"14.00\">value = 30.3</text>\n</g>\n<!-- 16&#45;&gt;17 -->\n<g id=\"edge17\" class=\"edge\">\n<title>16&#45;&gt;17</title>\n<path fill=\"none\" stroke=\"black\" d=\"M1206.14,-88.95C1188.76,-78.93 1169.75,-67.98 1152.65,-58.13\"/>\n<polygon fill=\"black\" stroke=\"black\" points=\"1154.32,-55.05 1143.9,-53.09 1150.82,-61.11 1154.32,-55.05\"/>\n</g>\n<!-- 18 -->\n<g id=\"node19\" class=\"node\">\n<title>18</title>\n<polygon fill=\"#efb388\" stroke=\"black\" points=\"1344,-53 1191,-53 1191,0 1344,0 1344,-53\"/>\n<text text-anchor=\"middle\" x=\"1267.5\" y=\"-37.8\" font-family=\"Helvetica,sans-Serif\" font-size=\"14.00\">absolute_error = 1.506</text>\n<text text-anchor=\"middle\" x=\"1267.5\" y=\"-22.8\" font-family=\"Helvetica,sans-Serif\" font-size=\"14.00\">samples = 18</text>\n<text text-anchor=\"middle\" x=\"1267.5\" y=\"-7.8\" font-family=\"Helvetica,sans-Serif\" font-size=\"14.00\">value = 33.6</text>\n</g>\n<!-- 16&#45;&gt;18 -->\n<g id=\"edge18\" class=\"edge\">\n<title>16&#45;&gt;18</title>\n<path fill=\"none\" stroke=\"black\" d=\"M1264.9,-88.95C1265.25,-80.72 1265.62,-71.85 1265.98,-63.48\"/>\n<polygon fill=\"black\" stroke=\"black\" points=\"1269.48,-63.38 1266.41,-53.24 1262.49,-63.08 1269.48,-63.38\"/>\n</g>\n<!-- 20 -->\n<g id=\"node21\" class=\"node\">\n<title>20</title>\n<polygon fill=\"#fcefe6\" stroke=\"black\" points=\"1500.5,-53 1362.5,-53 1362.5,0 1500.5,0 1500.5,-53\"/>\n<text text-anchor=\"middle\" x=\"1431.5\" y=\"-37.8\" font-family=\"Helvetica,sans-Serif\" font-size=\"14.00\">absolute_error = 2.8</text>\n<text text-anchor=\"middle\" x=\"1431.5\" y=\"-22.8\" font-family=\"Helvetica,sans-Serif\" font-size=\"14.00\">samples = 5</text>\n<text text-anchor=\"middle\" x=\"1431.5\" y=\"-7.8\" font-family=\"Helvetica,sans-Serif\" font-size=\"14.00\">value = 14.1</text>\n</g>\n<!-- 19&#45;&gt;20 -->\n<g id=\"edge20\" class=\"edge\">\n<title>19&#45;&gt;20</title>\n<path fill=\"none\" stroke=\"black\" d=\"M1433.45,-88.95C1433.19,-80.72 1432.91,-71.85 1432.64,-63.48\"/>\n<polygon fill=\"black\" stroke=\"black\" points=\"1436.13,-63.12 1432.32,-53.24 1429.14,-63.34 1436.13,-63.12\"/>\n</g>\n<!-- 21 -->\n<g id=\"node22\" class=\"node\">\n<title>21</title>\n<polygon fill=\"#f3c6a5\" stroke=\"black\" points=\"1656.5,-53 1518.5,-53 1518.5,0 1656.5,0 1656.5,-53\"/>\n<text text-anchor=\"middle\" x=\"1587.5\" y=\"-37.8\" font-family=\"Helvetica,sans-Serif\" font-size=\"14.00\">absolute_error = 0.0</text>\n<text text-anchor=\"middle\" x=\"1587.5\" y=\"-22.8\" font-family=\"Helvetica,sans-Serif\" font-size=\"14.00\">samples = 1</text>\n<text text-anchor=\"middle\" x=\"1587.5\" y=\"-7.8\" font-family=\"Helvetica,sans-Serif\" font-size=\"14.00\">value = 27.5</text>\n</g>\n<!-- 19&#45;&gt;21 -->\n<g id=\"edge21\" class=\"edge\">\n<title>19&#45;&gt;21</title>\n<path fill=\"none\" stroke=\"black\" d=\"M1488.01,-88.95C1504.01,-79.07 1521.48,-68.28 1537.26,-58.53\"/>\n<polygon fill=\"black\" stroke=\"black\" points=\"1539.16,-61.47 1545.83,-53.24 1535.48,-55.51 1539.16,-61.47\"/>\n</g>\n<!-- 23 -->\n<g id=\"node24\" class=\"node\">\n<title>23</title>\n<polygon fill=\"#e68640\" stroke=\"black\" points=\"1908,-157 1755,-157 1755,-89 1908,-89 1908,-157\"/>\n<text text-anchor=\"middle\" x=\"1831.5\" y=\"-141.8\" font-family=\"Helvetica,sans-Serif\" font-size=\"14.00\">x[0] &lt;= 0.451</text>\n<text text-anchor=\"middle\" x=\"1831.5\" y=\"-126.8\" font-family=\"Helvetica,sans-Serif\" font-size=\"14.00\">absolute_error = 2.895</text>\n<text text-anchor=\"middle\" x=\"1831.5\" y=\"-111.8\" font-family=\"Helvetica,sans-Serif\" font-size=\"14.00\">samples = 21</text>\n<text text-anchor=\"middle\" x=\"1831.5\" y=\"-96.8\" font-family=\"Helvetica,sans-Serif\" font-size=\"14.00\">value = 48.5</text>\n</g>\n<!-- 22&#45;&gt;23 -->\n<g id=\"edge23\" class=\"edge\">\n<title>22&#45;&gt;23</title>\n<path fill=\"none\" stroke=\"black\" d=\"M1831.5,-192.88C1831.5,-184.78 1831.5,-175.98 1831.5,-167.47\"/>\n<polygon fill=\"black\" stroke=\"black\" points=\"1835,-167.3 1831.5,-157.3 1828,-167.3 1835,-167.3\"/>\n</g>\n<!-- 26 -->\n<g id=\"node27\" class=\"node\">\n<title>26</title>\n<polygon fill=\"#eda978\" stroke=\"black\" points=\"2152.5,-157 2006.5,-157 2006.5,-89 2152.5,-89 2152.5,-157\"/>\n<text text-anchor=\"middle\" x=\"2079.5\" y=\"-141.8\" font-family=\"Helvetica,sans-Serif\" font-size=\"14.00\">x[6] &lt;= 79.45</text>\n<text text-anchor=\"middle\" x=\"2079.5\" y=\"-126.8\" font-family=\"Helvetica,sans-Serif\" font-size=\"14.00\">absolute_error = 6.35</text>\n<text text-anchor=\"middle\" x=\"2079.5\" y=\"-111.8\" font-family=\"Helvetica,sans-Serif\" font-size=\"14.00\">samples = 4</text>\n<text text-anchor=\"middle\" x=\"2079.5\" y=\"-96.8\" font-family=\"Helvetica,sans-Serif\" font-size=\"14.00\">value = 36.95</text>\n</g>\n<!-- 22&#45;&gt;26 -->\n<g id=\"edge26\" class=\"edge\">\n<title>22&#45;&gt;26</title>\n<path fill=\"none\" stroke=\"black\" d=\"M1904.57,-195.95C1933.45,-184.07 1966.79,-170.36 1996.57,-158.11\"/>\n<polygon fill=\"black\" stroke=\"black\" points=\"1998.18,-161.23 2006.1,-154.19 1995.52,-154.76 1998.18,-161.23\"/>\n</g>\n<!-- 24 -->\n<g id=\"node25\" class=\"node\">\n<title>24</title>\n<polygon fill=\"#e88e4e\" stroke=\"black\" points=\"1828,-53 1675,-53 1675,0 1828,0 1828,-53\"/>\n<text text-anchor=\"middle\" x=\"1751.5\" y=\"-37.8\" font-family=\"Helvetica,sans-Serif\" font-size=\"14.00\">absolute_error = 2.967</text>\n<text text-anchor=\"middle\" x=\"1751.5\" y=\"-22.8\" font-family=\"Helvetica,sans-Serif\" font-size=\"14.00\">samples = 12</text>\n<text text-anchor=\"middle\" x=\"1751.5\" y=\"-7.8\" font-family=\"Helvetica,sans-Serif\" font-size=\"14.00\">value = 45.7</text>\n</g>\n<!-- 23&#45;&gt;24 -->\n<g id=\"edge24\" class=\"edge\">\n<title>23&#45;&gt;24</title>\n<path fill=\"none\" stroke=\"black\" d=\"M1803.52,-88.95C1795.85,-79.89 1787.54,-70.07 1779.85,-60.99\"/>\n<polygon fill=\"black\" stroke=\"black\" points=\"1782.42,-58.61 1773.29,-53.24 1777.08,-63.13 1782.42,-58.61\"/>\n</g>\n<!-- 25 -->\n<g id=\"node26\" class=\"node\">\n<title>25</title>\n<polygon fill=\"#e58139\" stroke=\"black\" points=\"1984.5,-53 1846.5,-53 1846.5,0 1984.5,0 1984.5,-53\"/>\n<text text-anchor=\"middle\" x=\"1915.5\" y=\"-37.8\" font-family=\"Helvetica,sans-Serif\" font-size=\"14.00\">absolute_error = 0.9</text>\n<text text-anchor=\"middle\" x=\"1915.5\" y=\"-22.8\" font-family=\"Helvetica,sans-Serif\" font-size=\"14.00\">samples = 9</text>\n<text text-anchor=\"middle\" x=\"1915.5\" y=\"-7.8\" font-family=\"Helvetica,sans-Serif\" font-size=\"14.00\">value = 50.0</text>\n</g>\n<!-- 23&#45;&gt;25 -->\n<g id=\"edge25\" class=\"edge\">\n<title>23&#45;&gt;25</title>\n<path fill=\"none\" stroke=\"black\" d=\"M1860.88,-88.95C1869.01,-79.8 1877.84,-69.87 1885.98,-60.71\"/>\n<polygon fill=\"black\" stroke=\"black\" points=\"1888.6,-63.04 1892.62,-53.24 1883.36,-58.39 1888.6,-63.04\"/>\n</g>\n<!-- 27 -->\n<g id=\"node28\" class=\"node\">\n<title>27</title>\n<polygon fill=\"#eca46f\" stroke=\"black\" points=\"2156,-53 2003,-53 2003,0 2156,0 2156,-53\"/>\n<text text-anchor=\"middle\" x=\"2079.5\" y=\"-37.8\" font-family=\"Helvetica,sans-Serif\" font-size=\"14.00\">absolute_error = 2.867</text>\n<text text-anchor=\"middle\" x=\"2079.5\" y=\"-22.8\" font-family=\"Helvetica,sans-Serif\" font-size=\"14.00\">samples = 3</text>\n<text text-anchor=\"middle\" x=\"2079.5\" y=\"-7.8\" font-family=\"Helvetica,sans-Serif\" font-size=\"14.00\">value = 38.7</text>\n</g>\n<!-- 26&#45;&gt;27 -->\n<g id=\"edge27\" class=\"edge\">\n<title>26&#45;&gt;27</title>\n<path fill=\"none\" stroke=\"black\" d=\"M2079.5,-88.95C2079.5,-80.72 2079.5,-71.85 2079.5,-63.48\"/>\n<polygon fill=\"black\" stroke=\"black\" points=\"2083,-63.24 2079.5,-53.24 2076,-63.24 2083,-63.24\"/>\n</g>\n<!-- 28 -->\n<g id=\"node29\" class=\"node\">\n<title>28</title>\n<polygon fill=\"#f7d7c0\" stroke=\"black\" points=\"2312.5,-53 2174.5,-53 2174.5,0 2312.5,0 2312.5,-53\"/>\n<text text-anchor=\"middle\" x=\"2243.5\" y=\"-37.8\" font-family=\"Helvetica,sans-Serif\" font-size=\"14.00\">absolute_error = 0.0</text>\n<text text-anchor=\"middle\" x=\"2243.5\" y=\"-22.8\" font-family=\"Helvetica,sans-Serif\" font-size=\"14.00\">samples = 1</text>\n<text text-anchor=\"middle\" x=\"2243.5\" y=\"-7.8\" font-family=\"Helvetica,sans-Serif\" font-size=\"14.00\">value = 21.9</text>\n</g>\n<!-- 26&#45;&gt;28 -->\n<g id=\"edge28\" class=\"edge\">\n<title>26&#45;&gt;28</title>\n<path fill=\"none\" stroke=\"black\" d=\"M2136.86,-88.95C2154.24,-78.93 2173.25,-67.98 2190.35,-58.13\"/>\n<polygon fill=\"black\" stroke=\"black\" points=\"2192.18,-61.11 2199.1,-53.09 2188.68,-55.05 2192.18,-61.11\"/>\n</g>\n</g>\n</svg>\n",
            "text/plain": [
              "<graphviz.sources.Source at 0x799be2f17cd0>"
            ]
          },
          "metadata": {}
        }
      ],
      "source": [
        "import graphviz\n",
        "\n",
        "with open('tree_reg1.dot') as f:\n",
        "    dot_graph = f.read()\n",
        "display(graphviz.Source(dot_graph))"
      ]
    },
    {
      "cell_type": "code",
      "execution_count": 44,
      "metadata": {
        "colab": {
          "base_uri": "https://localhost:8080/"
        },
        "id": "MthhdR9zKpsC",
        "outputId": "f1991c51-7b63-44e9-bb2b-1990e56dacf0"
      },
      "outputs": [
        {
          "output_type": "stream",
          "name": "stdout",
          "text": [
            "train score : 0.883\n",
            "test score : 0.613\n"
          ]
        }
      ],
      "source": [
        "print(\"train score : {:.3f}\".format(tree_reg.score(X_train, y_train)))\n",
        "print(\"test score : {:.3f}\".format(tree_reg.score(X_test, y_test)))"
      ]
    },
    {
      "cell_type": "markdown",
      "metadata": {
        "id": "tE8Ed4vwKpsE"
      },
      "source": [
        "- 결정트리는 가치지기를 사용함에도 과적합이 되는 경향이 있어 일반화 성능이 좋지않다. 이런 문제에대한 대안으로 앙상블 방법이 있다."
      ]
    },
    {
      "cell_type": "code",
      "execution_count": 45,
      "metadata": {
        "id": "zxA3hWdJR4cX"
      },
      "outputs": [],
      "source": [
        "tree_reg = DT(criterion = 'absolute_error',max_depth = 5,\n",
        "                                random_state = 0).fit(X_train, y_train)"
      ]
    },
    {
      "cell_type": "code",
      "source": [
        "from sklearn.tree import export_graphviz\n",
        "export_graphviz(tree_reg, out_file = 'tree_reg1.dot', #feature_names = boston.feature_names\n",
        "                filled = True)"
      ],
      "metadata": {
        "id": "ZgyWvNW-r5Fv"
      },
      "execution_count": 46,
      "outputs": []
    },
    {
      "cell_type": "code",
      "source": [
        "import graphviz\n",
        "\n",
        "with open('tree_reg1.dot') as f:\n",
        "    dot_graph = f.read()\n",
        "display(graphviz.Source(dot_graph))"
      ],
      "metadata": {
        "colab": {
          "base_uri": "https://localhost:8080/",
          "height": 815
        },
        "id": "62RCnmiMr7ij",
        "outputId": "18d4a736-bde3-462d-8c72-410d0a77138a"
      },
      "execution_count": 47,
      "outputs": [
        {
          "output_type": "display_data",
          "data": {
            "image/svg+xml": "<?xml version=\"1.0\" encoding=\"UTF-8\" standalone=\"no\"?>\n<!DOCTYPE svg PUBLIC \"-//W3C//DTD SVG 1.1//EN\"\n \"http://www.w3.org/Graphics/SVG/1.1/DTD/svg11.dtd\">\n<!-- Generated by graphviz version 2.43.0 (0)\n -->\n<!-- Title: Tree Pages: 1 -->\n<svg width=\"3967pt\" height=\"581pt\"\n viewBox=\"0.00 0.00 3966.50 581.00\" xmlns=\"http://www.w3.org/2000/svg\" xmlns:xlink=\"http://www.w3.org/1999/xlink\">\n<g id=\"graph0\" class=\"graph\" transform=\"scale(1 1) rotate(0) translate(4 577)\">\n<title>Tree</title>\n<polygon fill=\"white\" stroke=\"transparent\" points=\"-4,4 -4,-577 3962.5,-577 3962.5,4 -4,4\"/>\n<!-- 0 -->\n<g id=\"node1\" class=\"node\">\n<title>0</title>\n<polygon fill=\"#f7d7c0\" stroke=\"black\" points=\"2015,-573 1862,-573 1862,-505 2015,-505 2015,-573\"/>\n<text text-anchor=\"middle\" x=\"1938.5\" y=\"-557.8\" font-family=\"Helvetica,sans-Serif\" font-size=\"14.00\">x[5] &lt;= 6.797</text>\n<text text-anchor=\"middle\" x=\"1938.5\" y=\"-542.8\" font-family=\"Helvetica,sans-Serif\" font-size=\"14.00\">absolute_error = 6.551</text>\n<text text-anchor=\"middle\" x=\"1938.5\" y=\"-527.8\" font-family=\"Helvetica,sans-Serif\" font-size=\"14.00\">samples = 404</text>\n<text text-anchor=\"middle\" x=\"1938.5\" y=\"-512.8\" font-family=\"Helvetica,sans-Serif\" font-size=\"14.00\">value = 21.15</text>\n</g>\n<!-- 1 -->\n<g id=\"node2\" class=\"node\">\n<title>1</title>\n<polygon fill=\"#f7dac5\" stroke=\"black\" points=\"1423,-469 1270,-469 1270,-401 1423,-401 1423,-469\"/>\n<text text-anchor=\"middle\" x=\"1346.5\" y=\"-453.8\" font-family=\"Helvetica,sans-Serif\" font-size=\"14.00\">x[12] &lt;= 15.0</text>\n<text text-anchor=\"middle\" x=\"1346.5\" y=\"-438.8\" font-family=\"Helvetica,sans-Serif\" font-size=\"14.00\">absolute_error = 4.417</text>\n<text text-anchor=\"middle\" x=\"1346.5\" y=\"-423.8\" font-family=\"Helvetica,sans-Serif\" font-size=\"14.00\">samples = 326</text>\n<text text-anchor=\"middle\" x=\"1346.5\" y=\"-408.8\" font-family=\"Helvetica,sans-Serif\" font-size=\"14.00\">value = 19.9</text>\n</g>\n<!-- 0&#45;&gt;1 -->\n<g id=\"edge1\" class=\"edge\">\n<title>0&#45;&gt;1</title>\n<path fill=\"none\" stroke=\"black\" d=\"M1861.71,-524.77C1751.36,-505.76 1548.54,-470.81 1433.02,-450.91\"/>\n<polygon fill=\"black\" stroke=\"black\" points=\"1433.6,-447.46 1423.15,-449.21 1432.41,-454.35 1433.6,-447.46\"/>\n<text text-anchor=\"middle\" x=\"1437.57\" y=\"-465.93\" font-family=\"Helvetica,sans-Serif\" font-size=\"14.00\">True</text>\n</g>\n<!-- 26 -->\n<g id=\"node27\" class=\"node\">\n<title>26</title>\n<polygon fill=\"#efb082\" stroke=\"black\" points=\"2764,-469 2611,-469 2611,-401 2764,-401 2764,-469\"/>\n<text text-anchor=\"middle\" x=\"2687.5\" y=\"-453.8\" font-family=\"Helvetica,sans-Serif\" font-size=\"14.00\">x[5] &lt;= 7.437</text>\n<text text-anchor=\"middle\" x=\"2687.5\" y=\"-438.8\" font-family=\"Helvetica,sans-Serif\" font-size=\"14.00\">absolute_error = 7.522</text>\n<text text-anchor=\"middle\" x=\"2687.5\" y=\"-423.8\" font-family=\"Helvetica,sans-Serif\" font-size=\"14.00\">samples = 78</text>\n<text text-anchor=\"middle\" x=\"2687.5\" y=\"-408.8\" font-family=\"Helvetica,sans-Serif\" font-size=\"14.00\">value = 34.25</text>\n</g>\n<!-- 0&#45;&gt;26 -->\n<g id=\"edge26\" class=\"edge\">\n<title>0&#45;&gt;26</title>\n<path fill=\"none\" stroke=\"black\" d=\"M2015.14,-527.56C2155.64,-508.43 2453.55,-467.86 2601.05,-447.77\"/>\n<polygon fill=\"black\" stroke=\"black\" points=\"2601.54,-451.24 2610.97,-446.42 2600.59,-444.3 2601.54,-451.24\"/>\n<text text-anchor=\"middle\" x=\"2595.84\" y=\"-462.62\" font-family=\"Helvetica,sans-Serif\" font-size=\"14.00\">False</text>\n</g>\n<!-- 2 -->\n<g id=\"node3\" class=\"node\">\n<title>2</title>\n<polygon fill=\"#f6d4bc\" stroke=\"black\" points=\"576,-365 423,-365 423,-297 576,-297 576,-365\"/>\n<text text-anchor=\"middle\" x=\"499.5\" y=\"-349.8\" font-family=\"Helvetica,sans-Serif\" font-size=\"14.00\">x[7] &lt;= 1.434</text>\n<text text-anchor=\"middle\" x=\"499.5\" y=\"-334.8\" font-family=\"Helvetica,sans-Serif\" font-size=\"14.00\">absolute_error = 3.186</text>\n<text text-anchor=\"middle\" x=\"499.5\" y=\"-319.8\" font-family=\"Helvetica,sans-Serif\" font-size=\"14.00\">samples = 201</text>\n<text text-anchor=\"middle\" x=\"499.5\" y=\"-304.8\" font-family=\"Helvetica,sans-Serif\" font-size=\"14.00\">value = 22.0</text>\n</g>\n<!-- 1&#45;&gt;2 -->\n<g id=\"edge2\" class=\"edge\">\n<title>1&#45;&gt;2</title>\n<path fill=\"none\" stroke=\"black\" d=\"M1269.84,-424.77C1112.19,-405.78 752.51,-362.47 586.46,-342.47\"/>\n<polygon fill=\"black\" stroke=\"black\" points=\"586.64,-338.97 576.29,-341.25 585.8,-345.92 586.64,-338.97\"/>\n</g>\n<!-- 11 -->\n<g id=\"node12\" class=\"node\">\n<title>11</title>\n<polygon fill=\"#fbeade\" stroke=\"black\" points=\"1423,-365 1270,-365 1270,-297 1423,-297 1423,-365\"/>\n<text text-anchor=\"middle\" x=\"1346.5\" y=\"-349.8\" font-family=\"Helvetica,sans-Serif\" font-size=\"14.00\">x[0] &lt;= 0.654</text>\n<text text-anchor=\"middle\" x=\"1346.5\" y=\"-334.8\" font-family=\"Helvetica,sans-Serif\" font-size=\"14.00\">absolute_error = 3.401</text>\n<text text-anchor=\"middle\" x=\"1346.5\" y=\"-319.8\" font-family=\"Helvetica,sans-Serif\" font-size=\"14.00\">samples = 125</text>\n<text text-anchor=\"middle\" x=\"1346.5\" y=\"-304.8\" font-family=\"Helvetica,sans-Serif\" font-size=\"14.00\">value = 14.6</text>\n</g>\n<!-- 1&#45;&gt;11 -->\n<g id=\"edge11\" class=\"edge\">\n<title>1&#45;&gt;11</title>\n<path fill=\"none\" stroke=\"black\" d=\"M1346.5,-400.88C1346.5,-392.78 1346.5,-383.98 1346.5,-375.47\"/>\n<polygon fill=\"black\" stroke=\"black\" points=\"1350,-375.3 1346.5,-365.3 1343,-375.3 1350,-375.3\"/>\n</g>\n<!-- 3 -->\n<g id=\"node4\" class=\"node\">\n<title>3</title>\n<polygon fill=\"#e58139\" stroke=\"black\" points=\"404.5,-253.5 266.5,-253.5 266.5,-200.5 404.5,-200.5 404.5,-253.5\"/>\n<text text-anchor=\"middle\" x=\"335.5\" y=\"-238.3\" font-family=\"Helvetica,sans-Serif\" font-size=\"14.00\">absolute_error = 0.0</text>\n<text text-anchor=\"middle\" x=\"335.5\" y=\"-223.3\" font-family=\"Helvetica,sans-Serif\" font-size=\"14.00\">samples = 4</text>\n<text text-anchor=\"middle\" x=\"335.5\" y=\"-208.3\" font-family=\"Helvetica,sans-Serif\" font-size=\"14.00\">value = 50.0</text>\n</g>\n<!-- 2&#45;&gt;3 -->\n<g id=\"edge3\" class=\"edge\">\n<title>2&#45;&gt;3</title>\n<path fill=\"none\" stroke=\"black\" d=\"M446.25,-296.88C426.63,-284.68 404.48,-270.9 385.18,-258.9\"/>\n<polygon fill=\"black\" stroke=\"black\" points=\"386.87,-255.83 376.53,-253.52 383.18,-261.77 386.87,-255.83\"/>\n</g>\n<!-- 4 -->\n<g id=\"node5\" class=\"node\">\n<title>4</title>\n<polygon fill=\"#f6d4bc\" stroke=\"black\" points=\"576,-261 423,-261 423,-193 576,-193 576,-261\"/>\n<text text-anchor=\"middle\" x=\"499.5\" y=\"-245.8\" font-family=\"Helvetica,sans-Serif\" font-size=\"14.00\">x[12] &lt;= 7.685</text>\n<text text-anchor=\"middle\" x=\"499.5\" y=\"-230.8\" font-family=\"Helvetica,sans-Serif\" font-size=\"14.00\">absolute_error = 2.681</text>\n<text text-anchor=\"middle\" x=\"499.5\" y=\"-215.8\" font-family=\"Helvetica,sans-Serif\" font-size=\"14.00\">samples = 197</text>\n<text text-anchor=\"middle\" x=\"499.5\" y=\"-200.8\" font-family=\"Helvetica,sans-Serif\" font-size=\"14.00\">value = 21.9</text>\n</g>\n<!-- 2&#45;&gt;4 -->\n<g id=\"edge4\" class=\"edge\">\n<title>2&#45;&gt;4</title>\n<path fill=\"none\" stroke=\"black\" d=\"M499.5,-296.88C499.5,-288.78 499.5,-279.98 499.5,-271.47\"/>\n<polygon fill=\"black\" stroke=\"black\" points=\"503,-271.3 499.5,-261.3 496,-271.3 503,-271.3\"/>\n</g>\n<!-- 5 -->\n<g id=\"node6\" class=\"node\">\n<title>5</title>\n<polygon fill=\"#f5cdb0\" stroke=\"black\" points=\"321,-157 168,-157 168,-89 321,-89 321,-157\"/>\n<text text-anchor=\"middle\" x=\"244.5\" y=\"-141.8\" font-family=\"Helvetica,sans-Serif\" font-size=\"14.00\">x[12] &lt;= 4.77</text>\n<text text-anchor=\"middle\" x=\"244.5\" y=\"-126.8\" font-family=\"Helvetica,sans-Serif\" font-size=\"14.00\">absolute_error = 2.028</text>\n<text text-anchor=\"middle\" x=\"244.5\" y=\"-111.8\" font-family=\"Helvetica,sans-Serif\" font-size=\"14.00\">samples = 54</text>\n<text text-anchor=\"middle\" x=\"244.5\" y=\"-96.8\" font-family=\"Helvetica,sans-Serif\" font-size=\"14.00\">value = 24.5</text>\n</g>\n<!-- 4&#45;&gt;5 -->\n<g id=\"edge5\" class=\"edge\">\n<title>4&#45;&gt;5</title>\n<path fill=\"none\" stroke=\"black\" d=\"M422.99,-195.4C394,-183.8 360.8,-170.52 330.96,-158.58\"/>\n<polygon fill=\"black\" stroke=\"black\" points=\"331.98,-155.22 321.39,-154.76 329.38,-161.72 331.98,-155.22\"/>\n</g>\n<!-- 8 -->\n<g id=\"node9\" class=\"node\">\n<title>8</title>\n<polygon fill=\"#f7d8c2\" stroke=\"black\" points=\"576,-157 423,-157 423,-89 576,-89 576,-157\"/>\n<text text-anchor=\"middle\" x=\"499.5\" y=\"-141.8\" font-family=\"Helvetica,sans-Serif\" font-size=\"14.00\">x[5] &lt;= 6.315</text>\n<text text-anchor=\"middle\" x=\"499.5\" y=\"-126.8\" font-family=\"Helvetica,sans-Serif\" font-size=\"14.00\">absolute_error = 2.236</text>\n<text text-anchor=\"middle\" x=\"499.5\" y=\"-111.8\" font-family=\"Helvetica,sans-Serif\" font-size=\"14.00\">samples = 143</text>\n<text text-anchor=\"middle\" x=\"499.5\" y=\"-96.8\" font-family=\"Helvetica,sans-Serif\" font-size=\"14.00\">value = 20.7</text>\n</g>\n<!-- 4&#45;&gt;8 -->\n<g id=\"edge8\" class=\"edge\">\n<title>4&#45;&gt;8</title>\n<path fill=\"none\" stroke=\"black\" d=\"M499.5,-192.88C499.5,-184.78 499.5,-175.98 499.5,-167.47\"/>\n<polygon fill=\"black\" stroke=\"black\" points=\"503,-167.3 499.5,-157.3 496,-167.3 503,-167.3\"/>\n</g>\n<!-- 6 -->\n<g id=\"node7\" class=\"node\">\n<title>6</title>\n<polygon fill=\"#f1bc96\" stroke=\"black\" points=\"153,-53 0,-53 0,0 153,0 153,-53\"/>\n<text text-anchor=\"middle\" x=\"76.5\" y=\"-37.8\" font-family=\"Helvetica,sans-Serif\" font-size=\"14.00\">absolute_error = 1.471</text>\n<text text-anchor=\"middle\" x=\"76.5\" y=\"-22.8\" font-family=\"Helvetica,sans-Serif\" font-size=\"14.00\">samples = 7</text>\n<text text-anchor=\"middle\" x=\"76.5\" y=\"-7.8\" font-family=\"Helvetica,sans-Serif\" font-size=\"14.00\">value = 30.1</text>\n</g>\n<!-- 5&#45;&gt;6 -->\n<g id=\"edge6\" class=\"edge\">\n<title>5&#45;&gt;6</title>\n<path fill=\"none\" stroke=\"black\" d=\"M185.74,-88.95C167.93,-78.93 148.46,-67.98 130.95,-58.13\"/>\n<polygon fill=\"black\" stroke=\"black\" points=\"132.42,-54.94 121.99,-53.09 128.99,-61.04 132.42,-54.94\"/>\n</g>\n<!-- 7 -->\n<g id=\"node8\" class=\"node\">\n<title>7</title>\n<polygon fill=\"#f5ceb2\" stroke=\"black\" points=\"317.5,-53 171.5,-53 171.5,0 317.5,0 317.5,-53\"/>\n<text text-anchor=\"middle\" x=\"244.5\" y=\"-37.8\" font-family=\"Helvetica,sans-Serif\" font-size=\"14.00\">absolute_error = 1.57</text>\n<text text-anchor=\"middle\" x=\"244.5\" y=\"-22.8\" font-family=\"Helvetica,sans-Serif\" font-size=\"14.00\">samples = 47</text>\n<text text-anchor=\"middle\" x=\"244.5\" y=\"-7.8\" font-family=\"Helvetica,sans-Serif\" font-size=\"14.00\">value = 24.1</text>\n</g>\n<!-- 5&#45;&gt;7 -->\n<g id=\"edge7\" class=\"edge\">\n<title>5&#45;&gt;7</title>\n<path fill=\"none\" stroke=\"black\" d=\"M244.5,-88.95C244.5,-80.72 244.5,-71.85 244.5,-63.48\"/>\n<polygon fill=\"black\" stroke=\"black\" points=\"248,-63.24 244.5,-53.24 241,-63.24 248,-63.24\"/>\n</g>\n<!-- 9 -->\n<g id=\"node10\" class=\"node\">\n<title>9</title>\n<polygon fill=\"#f7d9c3\" stroke=\"black\" points=\"489,-53 336,-53 336,0 489,0 489,-53\"/>\n<text text-anchor=\"middle\" x=\"412.5\" y=\"-37.8\" font-family=\"Helvetica,sans-Serif\" font-size=\"14.00\">absolute_error = 1.915</text>\n<text text-anchor=\"middle\" x=\"412.5\" y=\"-22.8\" font-family=\"Helvetica,sans-Serif\" font-size=\"14.00\">samples = 110</text>\n<text text-anchor=\"middle\" x=\"412.5\" y=\"-7.8\" font-family=\"Helvetica,sans-Serif\" font-size=\"14.00\">value = 20.4</text>\n</g>\n<!-- 8&#45;&gt;9 -->\n<g id=\"edge9\" class=\"edge\">\n<title>8&#45;&gt;9</title>\n<path fill=\"none\" stroke=\"black\" d=\"M469.07,-88.95C460.65,-79.8 451.51,-69.87 443.08,-60.71\"/>\n<polygon fill=\"black\" stroke=\"black\" points=\"445.54,-58.22 436.19,-53.24 440.39,-62.96 445.54,-58.22\"/>\n</g>\n<!-- 10 -->\n<g id=\"node11\" class=\"node\">\n<title>10</title>\n<polygon fill=\"#f6d1b7\" stroke=\"black\" points=\"660,-53 507,-53 507,0 660,0 660,-53\"/>\n<text text-anchor=\"middle\" x=\"583.5\" y=\"-37.8\" font-family=\"Helvetica,sans-Serif\" font-size=\"14.00\">absolute_error = 2.509</text>\n<text text-anchor=\"middle\" x=\"583.5\" y=\"-22.8\" font-family=\"Helvetica,sans-Serif\" font-size=\"14.00\">samples = 33</text>\n<text text-anchor=\"middle\" x=\"583.5\" y=\"-7.8\" font-family=\"Helvetica,sans-Serif\" font-size=\"14.00\">value = 23.0</text>\n</g>\n<!-- 8&#45;&gt;10 -->\n<g id=\"edge10\" class=\"edge\">\n<title>8&#45;&gt;10</title>\n<path fill=\"none\" stroke=\"black\" d=\"M528.88,-88.95C537.01,-79.8 545.84,-69.87 553.98,-60.71\"/>\n<polygon fill=\"black\" stroke=\"black\" points=\"556.6,-63.04 560.62,-53.24 551.36,-58.39 556.6,-63.04\"/>\n</g>\n<!-- 12 -->\n<g id=\"node13\" class=\"node\">\n<title>12</title>\n<polygon fill=\"#f8decb\" stroke=\"black\" points=\"1330.5,-261 1192.5,-261 1192.5,-193 1330.5,-193 1330.5,-261\"/>\n<text text-anchor=\"middle\" x=\"1261.5\" y=\"-245.8\" font-family=\"Helvetica,sans-Serif\" font-size=\"14.00\">x[7] &lt;= 1.918</text>\n<text text-anchor=\"middle\" x=\"1261.5\" y=\"-230.8\" font-family=\"Helvetica,sans-Serif\" font-size=\"14.00\">absolute_error = 2.7</text>\n<text text-anchor=\"middle\" x=\"1261.5\" y=\"-215.8\" font-family=\"Helvetica,sans-Serif\" font-size=\"14.00\">samples = 38</text>\n<text text-anchor=\"middle\" x=\"1261.5\" y=\"-200.8\" font-family=\"Helvetica,sans-Serif\" font-size=\"14.00\">value = 18.8</text>\n</g>\n<!-- 11&#45;&gt;12 -->\n<g id=\"edge12\" class=\"edge\">\n<title>11&#45;&gt;12</title>\n<path fill=\"none\" stroke=\"black\" d=\"M1318.9,-296.88C1311.55,-288.07 1303.53,-278.43 1295.86,-269.24\"/>\n<polygon fill=\"black\" stroke=\"black\" points=\"1298.34,-266.74 1289.25,-261.3 1292.96,-271.22 1298.34,-266.74\"/>\n</g>\n<!-- 19 -->\n<g id=\"node20\" class=\"node\">\n<title>19</title>\n<polygon fill=\"#fbeee4\" stroke=\"black\" points=\"1594,-261 1441,-261 1441,-193 1594,-193 1594,-261\"/>\n<text text-anchor=\"middle\" x=\"1517.5\" y=\"-245.8\" font-family=\"Helvetica,sans-Serif\" font-size=\"14.00\">x[0] &lt;= 13.519</text>\n<text text-anchor=\"middle\" x=\"1517.5\" y=\"-230.8\" font-family=\"Helvetica,sans-Serif\" font-size=\"14.00\">absolute_error = 2.668</text>\n<text text-anchor=\"middle\" x=\"1517.5\" y=\"-215.8\" font-family=\"Helvetica,sans-Serif\" font-size=\"14.00\">samples = 87</text>\n<text text-anchor=\"middle\" x=\"1517.5\" y=\"-200.8\" font-family=\"Helvetica,sans-Serif\" font-size=\"14.00\">value = 13.4</text>\n</g>\n<!-- 11&#45;&gt;19 -->\n<g id=\"edge19\" class=\"edge\">\n<title>11&#45;&gt;19</title>\n<path fill=\"none\" stroke=\"black\" d=\"M1402.02,-296.88C1418.38,-287.12 1436.42,-276.37 1453.27,-266.31\"/>\n<polygon fill=\"black\" stroke=\"black\" points=\"1455.17,-269.25 1461.97,-261.12 1451.59,-263.24 1455.17,-269.25\"/>\n</g>\n<!-- 13 -->\n<g id=\"node14\" class=\"node\">\n<title>13</title>\n<polygon fill=\"#fae8db\" stroke=\"black\" points=\"996,-157 843,-157 843,-89 996,-89 996,-157\"/>\n<text text-anchor=\"middle\" x=\"919.5\" y=\"-141.8\" font-family=\"Helvetica,sans-Serif\" font-size=\"14.00\">x[11] &lt;= 351.67</text>\n<text text-anchor=\"middle\" x=\"919.5\" y=\"-126.8\" font-family=\"Helvetica,sans-Serif\" font-size=\"14.00\">absolute_error = 2.778</text>\n<text text-anchor=\"middle\" x=\"919.5\" y=\"-111.8\" font-family=\"Helvetica,sans-Serif\" font-size=\"14.00\">samples = 9</text>\n<text text-anchor=\"middle\" x=\"919.5\" y=\"-96.8\" font-family=\"Helvetica,sans-Serif\" font-size=\"14.00\">value = 15.2</text>\n</g>\n<!-- 12&#45;&gt;13 -->\n<g id=\"edge13\" class=\"edge\">\n<title>12&#45;&gt;13</title>\n<path fill=\"none\" stroke=\"black\" d=\"M1192.29,-205.36C1138.51,-189.32 1063.6,-166.98 1005.89,-149.76\"/>\n<polygon fill=\"black\" stroke=\"black\" points=\"1006.63,-146.33 996.05,-146.83 1004.63,-153.04 1006.63,-146.33\"/>\n</g>\n<!-- 16 -->\n<g id=\"node17\" class=\"node\">\n<title>16</title>\n<polygon fill=\"#f8dcc7\" stroke=\"black\" points=\"1338,-157 1185,-157 1185,-89 1338,-89 1338,-157\"/>\n<text text-anchor=\"middle\" x=\"1261.5\" y=\"-141.8\" font-family=\"Helvetica,sans-Serif\" font-size=\"14.00\">x[6] &lt;= 55.9</text>\n<text text-anchor=\"middle\" x=\"1261.5\" y=\"-126.8\" font-family=\"Helvetica,sans-Serif\" font-size=\"14.00\">absolute_error = 1.893</text>\n<text text-anchor=\"middle\" x=\"1261.5\" y=\"-111.8\" font-family=\"Helvetica,sans-Serif\" font-size=\"14.00\">samples = 29</text>\n<text text-anchor=\"middle\" x=\"1261.5\" y=\"-96.8\" font-family=\"Helvetica,sans-Serif\" font-size=\"14.00\">value = 19.5</text>\n</g>\n<!-- 12&#45;&gt;16 -->\n<g id=\"edge16\" class=\"edge\">\n<title>12&#45;&gt;16</title>\n<path fill=\"none\" stroke=\"black\" d=\"M1261.5,-192.88C1261.5,-184.78 1261.5,-175.98 1261.5,-167.47\"/>\n<polygon fill=\"black\" stroke=\"black\" points=\"1265,-167.3 1261.5,-157.3 1258,-167.3 1265,-167.3\"/>\n</g>\n<!-- 14 -->\n<g id=\"node15\" class=\"node\">\n<title>14</title>\n<polygon fill=\"#ffffff\" stroke=\"black\" points=\"824.5,-53 678.5,-53 678.5,0 824.5,0 824.5,-53\"/>\n<text text-anchor=\"middle\" x=\"751.5\" y=\"-37.8\" font-family=\"Helvetica,sans-Serif\" font-size=\"14.00\">absolute_error = 0.55</text>\n<text text-anchor=\"middle\" x=\"751.5\" y=\"-22.8\" font-family=\"Helvetica,sans-Serif\" font-size=\"14.00\">samples = 2</text>\n<text text-anchor=\"middle\" x=\"751.5\" y=\"-7.8\" font-family=\"Helvetica,sans-Serif\" font-size=\"14.00\">value = 7.55</text>\n</g>\n<!-- 13&#45;&gt;14 -->\n<g id=\"edge14\" class=\"edge\">\n<title>13&#45;&gt;14</title>\n<path fill=\"none\" stroke=\"black\" d=\"M860.74,-88.95C842.93,-78.93 823.46,-67.98 805.95,-58.13\"/>\n<polygon fill=\"black\" stroke=\"black\" points=\"807.42,-54.94 796.99,-53.09 803.99,-61.04 807.42,-54.94\"/>\n</g>\n<!-- 15 -->\n<g id=\"node16\" class=\"node\">\n<title>15</title>\n<polygon fill=\"#fae7d9\" stroke=\"black\" points=\"996,-53 843,-53 843,0 996,0 996,-53\"/>\n<text text-anchor=\"middle\" x=\"919.5\" y=\"-37.8\" font-family=\"Helvetica,sans-Serif\" font-size=\"14.00\">absolute_error = 1.314</text>\n<text text-anchor=\"middle\" x=\"919.5\" y=\"-22.8\" font-family=\"Helvetica,sans-Serif\" font-size=\"14.00\">samples = 7</text>\n<text text-anchor=\"middle\" x=\"919.5\" y=\"-7.8\" font-family=\"Helvetica,sans-Serif\" font-size=\"14.00\">value = 15.7</text>\n</g>\n<!-- 13&#45;&gt;15 -->\n<g id=\"edge15\" class=\"edge\">\n<title>13&#45;&gt;15</title>\n<path fill=\"none\" stroke=\"black\" d=\"M919.5,-88.95C919.5,-80.72 919.5,-71.85 919.5,-63.48\"/>\n<polygon fill=\"black\" stroke=\"black\" points=\"923,-63.24 919.5,-53.24 916,-63.24 923,-63.24\"/>\n</g>\n<!-- 17 -->\n<g id=\"node18\" class=\"node\">\n<title>17</title>\n<polygon fill=\"#f6d2b8\" stroke=\"black\" points=\"1167,-53 1014,-53 1014,0 1167,0 1167,-53\"/>\n<text text-anchor=\"middle\" x=\"1090.5\" y=\"-37.8\" font-family=\"Helvetica,sans-Serif\" font-size=\"14.00\">absolute_error = 0.675</text>\n<text text-anchor=\"middle\" x=\"1090.5\" y=\"-22.8\" font-family=\"Helvetica,sans-Serif\" font-size=\"14.00\">samples = 4</text>\n<text text-anchor=\"middle\" x=\"1090.5\" y=\"-7.8\" font-family=\"Helvetica,sans-Serif\" font-size=\"14.00\">value = 22.75</text>\n</g>\n<!-- 16&#45;&gt;17 -->\n<g id=\"edge17\" class=\"edge\">\n<title>16&#45;&gt;17</title>\n<path fill=\"none\" stroke=\"black\" d=\"M1201.69,-88.95C1183.57,-78.93 1163.74,-67.98 1145.92,-58.13\"/>\n<polygon fill=\"black\" stroke=\"black\" points=\"1147.25,-54.86 1136.8,-53.09 1143.86,-60.99 1147.25,-54.86\"/>\n</g>\n<!-- 18 -->\n<g id=\"node19\" class=\"node\">\n<title>18</title>\n<polygon fill=\"#f8dcc8\" stroke=\"black\" points=\"1338,-53 1185,-53 1185,0 1338,0 1338,-53\"/>\n<text text-anchor=\"middle\" x=\"1261.5\" y=\"-37.8\" font-family=\"Helvetica,sans-Serif\" font-size=\"14.00\">absolute_error = 1.668</text>\n<text text-anchor=\"middle\" x=\"1261.5\" y=\"-22.8\" font-family=\"Helvetica,sans-Serif\" font-size=\"14.00\">samples = 25</text>\n<text text-anchor=\"middle\" x=\"1261.5\" y=\"-7.8\" font-family=\"Helvetica,sans-Serif\" font-size=\"14.00\">value = 19.4</text>\n</g>\n<!-- 16&#45;&gt;18 -->\n<g id=\"edge18\" class=\"edge\">\n<title>16&#45;&gt;18</title>\n<path fill=\"none\" stroke=\"black\" d=\"M1261.5,-88.95C1261.5,-80.72 1261.5,-71.85 1261.5,-63.48\"/>\n<polygon fill=\"black\" stroke=\"black\" points=\"1265,-63.24 1261.5,-53.24 1258,-63.24 1265,-63.24\"/>\n</g>\n<!-- 20 -->\n<g id=\"node21\" class=\"node\">\n<title>20</title>\n<polygon fill=\"#fbebe0\" stroke=\"black\" points=\"1594,-157 1441,-157 1441,-89 1594,-89 1594,-157\"/>\n<text text-anchor=\"middle\" x=\"1517.5\" y=\"-141.8\" font-family=\"Helvetica,sans-Serif\" font-size=\"14.00\">x[12] &lt;= 18.93</text>\n<text text-anchor=\"middle\" x=\"1517.5\" y=\"-126.8\" font-family=\"Helvetica,sans-Serif\" font-size=\"14.00\">absolute_error = 2.016</text>\n<text text-anchor=\"middle\" x=\"1517.5\" y=\"-111.8\" font-family=\"Helvetica,sans-Serif\" font-size=\"14.00\">samples = 64</text>\n<text text-anchor=\"middle\" x=\"1517.5\" y=\"-96.8\" font-family=\"Helvetica,sans-Serif\" font-size=\"14.00\">value = 14.15</text>\n</g>\n<!-- 19&#45;&gt;20 -->\n<g id=\"edge20\" class=\"edge\">\n<title>19&#45;&gt;20</title>\n<path fill=\"none\" stroke=\"black\" d=\"M1517.5,-192.88C1517.5,-184.78 1517.5,-175.98 1517.5,-167.47\"/>\n<polygon fill=\"black\" stroke=\"black\" points=\"1521,-167.3 1517.5,-157.3 1514,-167.3 1521,-167.3\"/>\n</g>\n<!-- 23 -->\n<g id=\"node24\" class=\"node\">\n<title>23</title>\n<polygon fill=\"#fefbf9\" stroke=\"black\" points=\"1851,-157 1698,-157 1698,-89 1851,-89 1851,-157\"/>\n<text text-anchor=\"middle\" x=\"1774.5\" y=\"-141.8\" font-family=\"Helvetica,sans-Serif\" font-size=\"14.00\">x[4] &lt;= 0.606</text>\n<text text-anchor=\"middle\" x=\"1774.5\" y=\"-126.8\" font-family=\"Helvetica,sans-Serif\" font-size=\"14.00\">absolute_error = 2.613</text>\n<text text-anchor=\"middle\" x=\"1774.5\" y=\"-111.8\" font-family=\"Helvetica,sans-Serif\" font-size=\"14.00\">samples = 23</text>\n<text text-anchor=\"middle\" x=\"1774.5\" y=\"-96.8\" font-family=\"Helvetica,sans-Serif\" font-size=\"14.00\">value = 8.8</text>\n</g>\n<!-- 19&#45;&gt;23 -->\n<g id=\"edge23\" class=\"edge\">\n<title>19&#45;&gt;23</title>\n<path fill=\"none\" stroke=\"black\" d=\"M1594.26,-195.53C1623.88,-183.78 1657.91,-170.27 1688.36,-158.19\"/>\n<polygon fill=\"black\" stroke=\"black\" points=\"1689.69,-161.43 1697.69,-154.48 1687.11,-154.92 1689.69,-161.43\"/>\n</g>\n<!-- 21 -->\n<g id=\"node22\" class=\"node\">\n<title>21</title>\n<polygon fill=\"#fae9dc\" stroke=\"black\" points=\"1509,-53 1356,-53 1356,0 1509,0 1509,-53\"/>\n<text text-anchor=\"middle\" x=\"1432.5\" y=\"-37.8\" font-family=\"Helvetica,sans-Serif\" font-size=\"14.00\">absolute_error = 1.475</text>\n<text text-anchor=\"middle\" x=\"1432.5\" y=\"-22.8\" font-family=\"Helvetica,sans-Serif\" font-size=\"14.00\">samples = 36</text>\n<text text-anchor=\"middle\" x=\"1432.5\" y=\"-7.8\" font-family=\"Helvetica,sans-Serif\" font-size=\"14.00\">value = 15.0</text>\n</g>\n<!-- 20&#45;&gt;21 -->\n<g id=\"edge21\" class=\"edge\">\n<title>20&#45;&gt;21</title>\n<path fill=\"none\" stroke=\"black\" d=\"M1487.77,-88.95C1479.54,-79.8 1470.61,-69.87 1462.37,-60.71\"/>\n<polygon fill=\"black\" stroke=\"black\" points=\"1464.94,-58.33 1455.65,-53.24 1459.73,-63.01 1464.94,-58.33\"/>\n</g>\n<!-- 22 -->\n<g id=\"node23\" class=\"node\">\n<title>22</title>\n<polygon fill=\"#fcf0e7\" stroke=\"black\" points=\"1680,-53 1527,-53 1527,0 1680,0 1680,-53\"/>\n<text text-anchor=\"middle\" x=\"1603.5\" y=\"-37.8\" font-family=\"Helvetica,sans-Serif\" font-size=\"14.00\">absolute_error = 2.032</text>\n<text text-anchor=\"middle\" x=\"1603.5\" y=\"-22.8\" font-family=\"Helvetica,sans-Serif\" font-size=\"14.00\">samples = 28</text>\n<text text-anchor=\"middle\" x=\"1603.5\" y=\"-7.8\" font-family=\"Helvetica,sans-Serif\" font-size=\"14.00\">value = 12.75</text>\n</g>\n<!-- 20&#45;&gt;22 -->\n<g id=\"edge22\" class=\"edge\">\n<title>20&#45;&gt;22</title>\n<path fill=\"none\" stroke=\"black\" d=\"M1547.58,-88.95C1555.9,-79.8 1564.94,-69.87 1573.27,-60.71\"/>\n<polygon fill=\"black\" stroke=\"black\" points=\"1575.94,-62.99 1580.08,-53.24 1570.76,-58.28 1575.94,-62.99\"/>\n</g>\n<!-- 24 -->\n<g id=\"node25\" class=\"node\">\n<title>24</title>\n<polygon fill=\"#f9e0cf\" stroke=\"black\" points=\"1851,-53 1698,-53 1698,0 1851,0 1851,-53\"/>\n<text text-anchor=\"middle\" x=\"1774.5\" y=\"-37.8\" font-family=\"Helvetica,sans-Serif\" font-size=\"14.00\">absolute_error = 0.933</text>\n<text text-anchor=\"middle\" x=\"1774.5\" y=\"-22.8\" font-family=\"Helvetica,sans-Serif\" font-size=\"14.00\">samples = 3</text>\n<text text-anchor=\"middle\" x=\"1774.5\" y=\"-7.8\" font-family=\"Helvetica,sans-Serif\" font-size=\"14.00\">value = 17.9</text>\n</g>\n<!-- 23&#45;&gt;24 -->\n<g id=\"edge24\" class=\"edge\">\n<title>23&#45;&gt;24</title>\n<path fill=\"none\" stroke=\"black\" d=\"M1774.5,-88.95C1774.5,-80.72 1774.5,-71.85 1774.5,-63.48\"/>\n<polygon fill=\"black\" stroke=\"black\" points=\"1778,-63.24 1774.5,-53.24 1771,-63.24 1778,-63.24\"/>\n</g>\n<!-- 25 -->\n<g id=\"node26\" class=\"node\">\n<title>25</title>\n<polygon fill=\"#fefbf9\" stroke=\"black\" points=\"2015.5,-53 1869.5,-53 1869.5,0 2015.5,0 2015.5,-53\"/>\n<text text-anchor=\"middle\" x=\"1942.5\" y=\"-37.8\" font-family=\"Helvetica,sans-Serif\" font-size=\"14.00\">absolute_error = 1.66</text>\n<text text-anchor=\"middle\" x=\"1942.5\" y=\"-22.8\" font-family=\"Helvetica,sans-Serif\" font-size=\"14.00\">samples = 20</text>\n<text text-anchor=\"middle\" x=\"1942.5\" y=\"-7.8\" font-family=\"Helvetica,sans-Serif\" font-size=\"14.00\">value = 8.75</text>\n</g>\n<!-- 23&#45;&gt;25 -->\n<g id=\"edge25\" class=\"edge\">\n<title>23&#45;&gt;25</title>\n<path fill=\"none\" stroke=\"black\" d=\"M1833.26,-88.95C1851.07,-78.93 1870.54,-67.98 1888.05,-58.13\"/>\n<polygon fill=\"black\" stroke=\"black\" points=\"1890.01,-61.04 1897.01,-53.09 1886.58,-54.94 1890.01,-61.04\"/>\n</g>\n<!-- 27 -->\n<g id=\"node28\" class=\"node\">\n<title>27</title>\n<polygon fill=\"#f0b88f\" stroke=\"black\" points=\"2764,-365 2611,-365 2611,-297 2764,-297 2764,-365\"/>\n<text text-anchor=\"middle\" x=\"2687.5\" y=\"-349.8\" font-family=\"Helvetica,sans-Serif\" font-size=\"14.00\">x[0] &lt;= 7.393</text>\n<text text-anchor=\"middle\" x=\"2687.5\" y=\"-334.8\" font-family=\"Helvetica,sans-Serif\" font-size=\"14.00\">absolute_error = 4.909</text>\n<text text-anchor=\"middle\" x=\"2687.5\" y=\"-319.8\" font-family=\"Helvetica,sans-Serif\" font-size=\"14.00\">samples = 53</text>\n<text text-anchor=\"middle\" x=\"2687.5\" y=\"-304.8\" font-family=\"Helvetica,sans-Serif\" font-size=\"14.00\">value = 31.6</text>\n</g>\n<!-- 26&#45;&gt;27 -->\n<g id=\"edge27\" class=\"edge\">\n<title>26&#45;&gt;27</title>\n<path fill=\"none\" stroke=\"black\" d=\"M2687.5,-400.88C2687.5,-392.78 2687.5,-383.98 2687.5,-375.47\"/>\n<polygon fill=\"black\" stroke=\"black\" points=\"2691,-375.3 2687.5,-365.3 2684,-375.3 2691,-375.3\"/>\n</g>\n<!-- 40 -->\n<g id=\"node41\" class=\"node\">\n<title>40</title>\n<polygon fill=\"#e78b48\" stroke=\"black\" points=\"3408.5,-365 3262.5,-365 3262.5,-297 3408.5,-297 3408.5,-365\"/>\n<text text-anchor=\"middle\" x=\"3335.5\" y=\"-349.8\" font-family=\"Helvetica,sans-Serif\" font-size=\"14.00\">x[10] &lt;= 17.9</text>\n<text text-anchor=\"middle\" x=\"3335.5\" y=\"-334.8\" font-family=\"Helvetica,sans-Serif\" font-size=\"14.00\">absolute_error = 4.52</text>\n<text text-anchor=\"middle\" x=\"3335.5\" y=\"-319.8\" font-family=\"Helvetica,sans-Serif\" font-size=\"14.00\">samples = 25</text>\n<text text-anchor=\"middle\" x=\"3335.5\" y=\"-304.8\" font-family=\"Helvetica,sans-Serif\" font-size=\"14.00\">value = 46.7</text>\n</g>\n<!-- 26&#45;&gt;40 -->\n<g id=\"edge40\" class=\"edge\">\n<title>26&#45;&gt;40</title>\n<path fill=\"none\" stroke=\"black\" d=\"M2764.06,-421.95C2886.5,-402.68 3125.45,-365.06 3252.09,-345.13\"/>\n<polygon fill=\"black\" stroke=\"black\" points=\"3252.79,-348.56 3262.12,-343.55 3251.7,-341.65 3252.79,-348.56\"/>\n</g>\n<!-- 28 -->\n<g id=\"node29\" class=\"node\">\n<title>28</title>\n<polygon fill=\"#f0b68c\" stroke=\"black\" points=\"2600,-261 2447,-261 2447,-193 2600,-193 2600,-261\"/>\n<text text-anchor=\"middle\" x=\"2523.5\" y=\"-245.8\" font-family=\"Helvetica,sans-Serif\" font-size=\"14.00\">x[5] &lt;= 7.121</text>\n<text text-anchor=\"middle\" x=\"2523.5\" y=\"-230.8\" font-family=\"Helvetica,sans-Serif\" font-size=\"14.00\">absolute_error = 3.451</text>\n<text text-anchor=\"middle\" x=\"2523.5\" y=\"-215.8\" font-family=\"Helvetica,sans-Serif\" font-size=\"14.00\">samples = 47</text>\n<text text-anchor=\"middle\" x=\"2523.5\" y=\"-200.8\" font-family=\"Helvetica,sans-Serif\" font-size=\"14.00\">value = 32.2</text>\n</g>\n<!-- 27&#45;&gt;28 -->\n<g id=\"edge28\" class=\"edge\">\n<title>27&#45;&gt;28</title>\n<path fill=\"none\" stroke=\"black\" d=\"M2634.25,-296.88C2618.71,-287.21 2601.58,-276.56 2585.54,-266.59\"/>\n<polygon fill=\"black\" stroke=\"black\" points=\"2587.1,-263.43 2576.76,-261.12 2583.4,-269.38 2587.1,-263.43\"/>\n</g>\n<!-- 35 -->\n<g id=\"node36\" class=\"node\">\n<title>35</title>\n<polygon fill=\"#fbeade\" stroke=\"black\" points=\"2850,-261 2697,-261 2697,-193 2850,-193 2850,-261\"/>\n<text text-anchor=\"middle\" x=\"2773.5\" y=\"-245.8\" font-family=\"Helvetica,sans-Serif\" font-size=\"14.00\">x[6] &lt;= 99.65</text>\n<text text-anchor=\"middle\" x=\"2773.5\" y=\"-230.8\" font-family=\"Helvetica,sans-Serif\" font-size=\"14.00\">absolute_error = 4.567</text>\n<text text-anchor=\"middle\" x=\"2773.5\" y=\"-215.8\" font-family=\"Helvetica,sans-Serif\" font-size=\"14.00\">samples = 6</text>\n<text text-anchor=\"middle\" x=\"2773.5\" y=\"-200.8\" font-family=\"Helvetica,sans-Serif\" font-size=\"14.00\">value = 14.55</text>\n</g>\n<!-- 27&#45;&gt;35 -->\n<g id=\"edge35\" class=\"edge\">\n<title>27&#45;&gt;35</title>\n<path fill=\"none\" stroke=\"black\" d=\"M2715.42,-296.88C2722.93,-287.98 2731.14,-278.24 2738.97,-268.96\"/>\n<polygon fill=\"black\" stroke=\"black\" points=\"2741.65,-271.2 2745.42,-261.3 2736.3,-266.69 2741.65,-271.2\"/>\n</g>\n<!-- 29 -->\n<g id=\"node30\" class=\"node\">\n<title>29</title>\n<polygon fill=\"#f1bb95\" stroke=\"black\" points=\"2347.5,-157 2201.5,-157 2201.5,-89 2347.5,-89 2347.5,-157\"/>\n<text text-anchor=\"middle\" x=\"2274.5\" y=\"-141.8\" font-family=\"Helvetica,sans-Serif\" font-size=\"14.00\">x[7] &lt;= 2.005</text>\n<text text-anchor=\"middle\" x=\"2274.5\" y=\"-126.8\" font-family=\"Helvetica,sans-Serif\" font-size=\"14.00\">absolute_error = 3.91</text>\n<text text-anchor=\"middle\" x=\"2274.5\" y=\"-111.8\" font-family=\"Helvetica,sans-Serif\" font-size=\"14.00\">samples = 29</text>\n<text text-anchor=\"middle\" x=\"2274.5\" y=\"-96.8\" font-family=\"Helvetica,sans-Serif\" font-size=\"14.00\">value = 30.3</text>\n</g>\n<!-- 28&#45;&gt;29 -->\n<g id=\"edge29\" class=\"edge\">\n<title>28&#45;&gt;29</title>\n<path fill=\"none\" stroke=\"black\" d=\"M2446.76,-194.56C2418.26,-182.89 2385.83,-169.61 2356.86,-157.74\"/>\n<polygon fill=\"black\" stroke=\"black\" points=\"2358.16,-154.49 2347.58,-153.94 2355.51,-160.97 2358.16,-154.49\"/>\n</g>\n<!-- 32 -->\n<g id=\"node33\" class=\"node\">\n<title>32</title>\n<polygon fill=\"#efb285\" stroke=\"black\" points=\"2600,-157 2447,-157 2447,-89 2600,-89 2600,-157\"/>\n<text text-anchor=\"middle\" x=\"2523.5\" y=\"-141.8\" font-family=\"Helvetica,sans-Serif\" font-size=\"14.00\">x[5] &lt;= 7.239</text>\n<text text-anchor=\"middle\" x=\"2523.5\" y=\"-126.8\" font-family=\"Helvetica,sans-Serif\" font-size=\"14.00\">absolute_error = 1.506</text>\n<text text-anchor=\"middle\" x=\"2523.5\" y=\"-111.8\" font-family=\"Helvetica,sans-Serif\" font-size=\"14.00\">samples = 18</text>\n<text text-anchor=\"middle\" x=\"2523.5\" y=\"-96.8\" font-family=\"Helvetica,sans-Serif\" font-size=\"14.00\">value = 33.6</text>\n</g>\n<!-- 28&#45;&gt;32 -->\n<g id=\"edge32\" class=\"edge\">\n<title>28&#45;&gt;32</title>\n<path fill=\"none\" stroke=\"black\" d=\"M2523.5,-192.88C2523.5,-184.78 2523.5,-175.98 2523.5,-167.47\"/>\n<polygon fill=\"black\" stroke=\"black\" points=\"2527,-167.3 2523.5,-157.3 2520,-167.3 2527,-167.3\"/>\n</g>\n<!-- 30 -->\n<g id=\"node31\" class=\"node\">\n<title>30</title>\n<polygon fill=\"#e88e4d\" stroke=\"black\" points=\"2179.5,-53 2033.5,-53 2033.5,0 2179.5,0 2179.5,-53\"/>\n<text text-anchor=\"middle\" x=\"2106.5\" y=\"-37.8\" font-family=\"Helvetica,sans-Serif\" font-size=\"14.00\">absolute_error = 4.35</text>\n<text text-anchor=\"middle\" x=\"2106.5\" y=\"-22.8\" font-family=\"Helvetica,sans-Serif\" font-size=\"14.00\">samples = 2</text>\n<text text-anchor=\"middle\" x=\"2106.5\" y=\"-7.8\" font-family=\"Helvetica,sans-Serif\" font-size=\"14.00\">value = 45.65</text>\n</g>\n<!-- 29&#45;&gt;30 -->\n<g id=\"edge30\" class=\"edge\">\n<title>29&#45;&gt;30</title>\n<path fill=\"none\" stroke=\"black\" d=\"M2215.74,-88.95C2197.93,-78.93 2178.46,-67.98 2160.95,-58.13\"/>\n<polygon fill=\"black\" stroke=\"black\" points=\"2162.42,-54.94 2151.99,-53.09 2158.99,-61.04 2162.42,-54.94\"/>\n</g>\n<!-- 31 -->\n<g id=\"node32\" class=\"node\">\n<title>31</title>\n<polygon fill=\"#f1bd97\" stroke=\"black\" points=\"2351,-53 2198,-53 2198,0 2351,0 2351,-53\"/>\n<text text-anchor=\"middle\" x=\"2274.5\" y=\"-37.8\" font-family=\"Helvetica,sans-Serif\" font-size=\"14.00\">absolute_error = 3.048</text>\n<text text-anchor=\"middle\" x=\"2274.5\" y=\"-22.8\" font-family=\"Helvetica,sans-Serif\" font-size=\"14.00\">samples = 27</text>\n<text text-anchor=\"middle\" x=\"2274.5\" y=\"-7.8\" font-family=\"Helvetica,sans-Serif\" font-size=\"14.00\">value = 29.9</text>\n</g>\n<!-- 29&#45;&gt;31 -->\n<g id=\"edge31\" class=\"edge\">\n<title>29&#45;&gt;31</title>\n<path fill=\"none\" stroke=\"black\" d=\"M2274.5,-88.95C2274.5,-80.72 2274.5,-71.85 2274.5,-63.48\"/>\n<polygon fill=\"black\" stroke=\"black\" points=\"2278,-63.24 2274.5,-53.24 2271,-63.24 2278,-63.24\"/>\n</g>\n<!-- 33 -->\n<g id=\"node34\" class=\"node\">\n<title>33</title>\n<polygon fill=\"#eeac7d\" stroke=\"black\" points=\"2522,-53 2369,-53 2369,0 2522,0 2522,-53\"/>\n<text text-anchor=\"middle\" x=\"2445.5\" y=\"-37.8\" font-family=\"Helvetica,sans-Serif\" font-size=\"14.00\">absolute_error = 1.113</text>\n<text text-anchor=\"middle\" x=\"2445.5\" y=\"-22.8\" font-family=\"Helvetica,sans-Serif\" font-size=\"14.00\">samples = 8</text>\n<text text-anchor=\"middle\" x=\"2445.5\" y=\"-7.8\" font-family=\"Helvetica,sans-Serif\" font-size=\"14.00\">value = 35.5</text>\n</g>\n<!-- 32&#45;&gt;33 -->\n<g id=\"edge33\" class=\"edge\">\n<title>32&#45;&gt;33</title>\n<path fill=\"none\" stroke=\"black\" d=\"M2496.22,-88.95C2488.74,-79.89 2480.64,-70.07 2473.14,-60.99\"/>\n<polygon fill=\"black\" stroke=\"black\" points=\"2475.81,-58.72 2466.74,-53.24 2470.41,-63.18 2475.81,-58.72\"/>\n</g>\n<!-- 34 -->\n<g id=\"node35\" class=\"node\">\n<title>34</title>\n<polygon fill=\"#efb387\" stroke=\"black\" points=\"2686.5,-53 2540.5,-53 2540.5,0 2686.5,0 2686.5,-53\"/>\n<text text-anchor=\"middle\" x=\"2613.5\" y=\"-37.8\" font-family=\"Helvetica,sans-Serif\" font-size=\"14.00\">absolute_error = 1.12</text>\n<text text-anchor=\"middle\" x=\"2613.5\" y=\"-22.8\" font-family=\"Helvetica,sans-Serif\" font-size=\"14.00\">samples = 10</text>\n<text text-anchor=\"middle\" x=\"2613.5\" y=\"-7.8\" font-family=\"Helvetica,sans-Serif\" font-size=\"14.00\">value = 33.2</text>\n</g>\n<!-- 32&#45;&gt;34 -->\n<g id=\"edge34\" class=\"edge\">\n<title>32&#45;&gt;34</title>\n<path fill=\"none\" stroke=\"black\" d=\"M2554.98,-88.95C2563.69,-79.8 2573.15,-69.87 2581.87,-60.71\"/>\n<polygon fill=\"black\" stroke=\"black\" points=\"2584.63,-62.89 2588.99,-53.24 2579.56,-58.06 2584.63,-62.89\"/>\n</g>\n<!-- 36 -->\n<g id=\"node37\" class=\"node\">\n<title>36</title>\n<polygon fill=\"#fbece0\" stroke=\"black\" points=\"2842.5,-157 2704.5,-157 2704.5,-89 2842.5,-89 2842.5,-157\"/>\n<text text-anchor=\"middle\" x=\"2773.5\" y=\"-141.8\" font-family=\"Helvetica,sans-Serif\" font-size=\"14.00\">x[6] &lt;= 93.1</text>\n<text text-anchor=\"middle\" x=\"2773.5\" y=\"-126.8\" font-family=\"Helvetica,sans-Serif\" font-size=\"14.00\">absolute_error = 2.8</text>\n<text text-anchor=\"middle\" x=\"2773.5\" y=\"-111.8\" font-family=\"Helvetica,sans-Serif\" font-size=\"14.00\">samples = 5</text>\n<text text-anchor=\"middle\" x=\"2773.5\" y=\"-96.8\" font-family=\"Helvetica,sans-Serif\" font-size=\"14.00\">value = 14.1</text>\n</g>\n<!-- 35&#45;&gt;36 -->\n<g id=\"edge36\" class=\"edge\">\n<title>35&#45;&gt;36</title>\n<path fill=\"none\" stroke=\"black\" d=\"M2773.5,-192.88C2773.5,-184.78 2773.5,-175.98 2773.5,-167.47\"/>\n<polygon fill=\"black\" stroke=\"black\" points=\"2777,-167.3 2773.5,-157.3 2770,-167.3 2777,-167.3\"/>\n</g>\n<!-- 39 -->\n<g id=\"node40\" class=\"node\">\n<title>39</title>\n<polygon fill=\"#f3c4a2\" stroke=\"black\" points=\"2998.5,-149.5 2860.5,-149.5 2860.5,-96.5 2998.5,-96.5 2998.5,-149.5\"/>\n<text text-anchor=\"middle\" x=\"2929.5\" y=\"-134.3\" font-family=\"Helvetica,sans-Serif\" font-size=\"14.00\">absolute_error = 0.0</text>\n<text text-anchor=\"middle\" x=\"2929.5\" y=\"-119.3\" font-family=\"Helvetica,sans-Serif\" font-size=\"14.00\">samples = 1</text>\n<text text-anchor=\"middle\" x=\"2929.5\" y=\"-104.3\" font-family=\"Helvetica,sans-Serif\" font-size=\"14.00\">value = 27.5</text>\n</g>\n<!-- 35&#45;&gt;39 -->\n<g id=\"edge39\" class=\"edge\">\n<title>35&#45;&gt;39</title>\n<path fill=\"none\" stroke=\"black\" d=\"M2824.15,-192.88C2842.65,-180.79 2863.5,-167.15 2881.75,-155.22\"/>\n<polygon fill=\"black\" stroke=\"black\" points=\"2884.02,-157.92 2890.47,-149.52 2880.18,-152.06 2884.02,-157.92\"/>\n</g>\n<!-- 37 -->\n<g id=\"node38\" class=\"node\">\n<title>37</title>\n<polygon fill=\"#fefaf6\" stroke=\"black\" points=\"2842.5,-53 2704.5,-53 2704.5,0 2842.5,0 2842.5,-53\"/>\n<text text-anchor=\"middle\" x=\"2773.5\" y=\"-37.8\" font-family=\"Helvetica,sans-Serif\" font-size=\"14.00\">absolute_error = 1.0</text>\n<text text-anchor=\"middle\" x=\"2773.5\" y=\"-22.8\" font-family=\"Helvetica,sans-Serif\" font-size=\"14.00\">samples = 2</text>\n<text text-anchor=\"middle\" x=\"2773.5\" y=\"-7.8\" font-family=\"Helvetica,sans-Serif\" font-size=\"14.00\">value = 9.4</text>\n</g>\n<!-- 36&#45;&gt;37 -->\n<g id=\"edge37\" class=\"edge\">\n<title>36&#45;&gt;37</title>\n<path fill=\"none\" stroke=\"black\" d=\"M2773.5,-88.95C2773.5,-80.72 2773.5,-71.85 2773.5,-63.48\"/>\n<polygon fill=\"black\" stroke=\"black\" points=\"2777,-63.24 2773.5,-53.24 2770,-63.24 2777,-63.24\"/>\n</g>\n<!-- 38 -->\n<g id=\"node39\" class=\"node\">\n<title>38</title>\n<polygon fill=\"#fae9dc\" stroke=\"black\" points=\"3014,-53 2861,-53 2861,0 3014,0 3014,-53\"/>\n<text text-anchor=\"middle\" x=\"2937.5\" y=\"-37.8\" font-family=\"Helvetica,sans-Serif\" font-size=\"14.00\">absolute_error = 1.233</text>\n<text text-anchor=\"middle\" x=\"2937.5\" y=\"-22.8\" font-family=\"Helvetica,sans-Serif\" font-size=\"14.00\">samples = 3</text>\n<text text-anchor=\"middle\" x=\"2937.5\" y=\"-7.8\" font-family=\"Helvetica,sans-Serif\" font-size=\"14.00\">value = 15.0</text>\n</g>\n<!-- 36&#45;&gt;38 -->\n<g id=\"edge38\" class=\"edge\">\n<title>36&#45;&gt;38</title>\n<path fill=\"none\" stroke=\"black\" d=\"M2830.86,-88.95C2848.24,-78.93 2867.25,-67.98 2884.35,-58.13\"/>\n<polygon fill=\"black\" stroke=\"black\" points=\"2886.18,-61.11 2893.1,-53.09 2882.68,-55.05 2886.18,-61.11\"/>\n</g>\n<!-- 41 -->\n<g id=\"node42\" class=\"node\">\n<title>41</title>\n<polygon fill=\"#e68540\" stroke=\"black\" points=\"3412,-261 3259,-261 3259,-193 3412,-193 3412,-261\"/>\n<text text-anchor=\"middle\" x=\"3335.5\" y=\"-245.8\" font-family=\"Helvetica,sans-Serif\" font-size=\"14.00\">x[0] &lt;= 0.451</text>\n<text text-anchor=\"middle\" x=\"3335.5\" y=\"-230.8\" font-family=\"Helvetica,sans-Serif\" font-size=\"14.00\">absolute_error = 2.895</text>\n<text text-anchor=\"middle\" x=\"3335.5\" y=\"-215.8\" font-family=\"Helvetica,sans-Serif\" font-size=\"14.00\">samples = 21</text>\n<text text-anchor=\"middle\" x=\"3335.5\" y=\"-200.8\" font-family=\"Helvetica,sans-Serif\" font-size=\"14.00\">value = 48.5</text>\n</g>\n<!-- 40&#45;&gt;41 -->\n<g id=\"edge41\" class=\"edge\">\n<title>40&#45;&gt;41</title>\n<path fill=\"none\" stroke=\"black\" d=\"M3335.5,-296.88C3335.5,-288.78 3335.5,-279.98 3335.5,-271.47\"/>\n<polygon fill=\"black\" stroke=\"black\" points=\"3339,-271.3 3335.5,-261.3 3332,-271.3 3339,-271.3\"/>\n</g>\n<!-- 48 -->\n<g id=\"node49\" class=\"node\">\n<title>48</title>\n<polygon fill=\"#eda876\" stroke=\"black\" points=\"3798.5,-261 3652.5,-261 3652.5,-193 3798.5,-193 3798.5,-261\"/>\n<text text-anchor=\"middle\" x=\"3725.5\" y=\"-245.8\" font-family=\"Helvetica,sans-Serif\" font-size=\"14.00\">x[0] &lt;= 1.848</text>\n<text text-anchor=\"middle\" x=\"3725.5\" y=\"-230.8\" font-family=\"Helvetica,sans-Serif\" font-size=\"14.00\">absolute_error = 6.35</text>\n<text text-anchor=\"middle\" x=\"3725.5\" y=\"-215.8\" font-family=\"Helvetica,sans-Serif\" font-size=\"14.00\">samples = 4</text>\n<text text-anchor=\"middle\" x=\"3725.5\" y=\"-200.8\" font-family=\"Helvetica,sans-Serif\" font-size=\"14.00\">value = 36.95</text>\n</g>\n<!-- 40&#45;&gt;48 -->\n<g id=\"edge48\" class=\"edge\">\n<title>40&#45;&gt;48</title>\n<path fill=\"none\" stroke=\"black\" d=\"M3408.86,-310.81C3475.31,-293.43 3573.16,-267.84 3642.46,-249.72\"/>\n<polygon fill=\"black\" stroke=\"black\" points=\"3643.68,-253.02 3652.47,-247.1 3641.91,-246.24 3643.68,-253.02\"/>\n</g>\n<!-- 42 -->\n<g id=\"node43\" class=\"node\">\n<title>42</title>\n<polygon fill=\"#e88e4d\" stroke=\"black\" points=\"3330,-157 3177,-157 3177,-89 3330,-89 3330,-157\"/>\n<text text-anchor=\"middle\" x=\"3253.5\" y=\"-141.8\" font-family=\"Helvetica,sans-Serif\" font-size=\"14.00\">x[6] &lt;= 80.8</text>\n<text text-anchor=\"middle\" x=\"3253.5\" y=\"-126.8\" font-family=\"Helvetica,sans-Serif\" font-size=\"14.00\">absolute_error = 2.967</text>\n<text text-anchor=\"middle\" x=\"3253.5\" y=\"-111.8\" font-family=\"Helvetica,sans-Serif\" font-size=\"14.00\">samples = 12</text>\n<text text-anchor=\"middle\" x=\"3253.5\" y=\"-96.8\" font-family=\"Helvetica,sans-Serif\" font-size=\"14.00\">value = 45.7</text>\n</g>\n<!-- 41&#45;&gt;42 -->\n<g id=\"edge42\" class=\"edge\">\n<title>41&#45;&gt;42</title>\n<path fill=\"none\" stroke=\"black\" d=\"M3308.88,-192.88C3301.79,-184.07 3294.04,-174.43 3286.65,-165.24\"/>\n<polygon fill=\"black\" stroke=\"black\" points=\"3289.26,-162.9 3280.27,-157.3 3283.81,-167.29 3289.26,-162.9\"/>\n</g>\n<!-- 45 -->\n<g id=\"node46\" class=\"node\">\n<title>45</title>\n<polygon fill=\"#e58139\" stroke=\"black\" points=\"3486.5,-157 3348.5,-157 3348.5,-89 3486.5,-89 3486.5,-157\"/>\n<text text-anchor=\"middle\" x=\"3417.5\" y=\"-141.8\" font-family=\"Helvetica,sans-Serif\" font-size=\"14.00\">x[12] &lt;= 5.515</text>\n<text text-anchor=\"middle\" x=\"3417.5\" y=\"-126.8\" font-family=\"Helvetica,sans-Serif\" font-size=\"14.00\">absolute_error = 0.9</text>\n<text text-anchor=\"middle\" x=\"3417.5\" y=\"-111.8\" font-family=\"Helvetica,sans-Serif\" font-size=\"14.00\">samples = 9</text>\n<text text-anchor=\"middle\" x=\"3417.5\" y=\"-96.8\" font-family=\"Helvetica,sans-Serif\" font-size=\"14.00\">value = 50.0</text>\n</g>\n<!-- 41&#45;&gt;45 -->\n<g id=\"edge45\" class=\"edge\">\n<title>41&#45;&gt;45</title>\n<path fill=\"none\" stroke=\"black\" d=\"M3362.12,-192.88C3369.21,-184.07 3376.96,-174.43 3384.35,-165.24\"/>\n<polygon fill=\"black\" stroke=\"black\" points=\"3387.19,-167.29 3390.73,-157.3 3381.74,-162.9 3387.19,-167.29\"/>\n</g>\n<!-- 43 -->\n<g id=\"node44\" class=\"node\">\n<title>43</title>\n<polygon fill=\"#e78c4a\" stroke=\"black\" points=\"3170.5,-53 3032.5,-53 3032.5,0 3170.5,0 3170.5,-53\"/>\n<text text-anchor=\"middle\" x=\"3101.5\" y=\"-37.8\" font-family=\"Helvetica,sans-Serif\" font-size=\"14.00\">absolute_error = 2.1</text>\n<text text-anchor=\"middle\" x=\"3101.5\" y=\"-22.8\" font-family=\"Helvetica,sans-Serif\" font-size=\"14.00\">samples = 10</text>\n<text text-anchor=\"middle\" x=\"3101.5\" y=\"-7.8\" font-family=\"Helvetica,sans-Serif\" font-size=\"14.00\">value = 46.35</text>\n</g>\n<!-- 42&#45;&gt;43 -->\n<g id=\"edge43\" class=\"edge\">\n<title>42&#45;&gt;43</title>\n<path fill=\"none\" stroke=\"black\" d=\"M3200.34,-88.95C3184.45,-79.07 3167.09,-68.28 3151.41,-58.53\"/>\n<polygon fill=\"black\" stroke=\"black\" points=\"3153.24,-55.54 3142.9,-53.24 3149.54,-61.49 3153.24,-55.54\"/>\n</g>\n<!-- 44 -->\n<g id=\"node45\" class=\"node\">\n<title>44</title>\n<polygon fill=\"#eca36e\" stroke=\"black\" points=\"3326.5,-53 3188.5,-53 3188.5,0 3326.5,0 3326.5,-53\"/>\n<text text-anchor=\"middle\" x=\"3257.5\" y=\"-37.8\" font-family=\"Helvetica,sans-Serif\" font-size=\"14.00\">absolute_error = 1.1</text>\n<text text-anchor=\"middle\" x=\"3257.5\" y=\"-22.8\" font-family=\"Helvetica,sans-Serif\" font-size=\"14.00\">samples = 2</text>\n<text text-anchor=\"middle\" x=\"3257.5\" y=\"-7.8\" font-family=\"Helvetica,sans-Serif\" font-size=\"14.00\">value = 38.7</text>\n</g>\n<!-- 42&#45;&gt;44 -->\n<g id=\"edge44\" class=\"edge\">\n<title>42&#45;&gt;44</title>\n<path fill=\"none\" stroke=\"black\" d=\"M3254.9,-88.95C3255.25,-80.72 3255.62,-71.85 3255.98,-63.48\"/>\n<polygon fill=\"black\" stroke=\"black\" points=\"3259.48,-63.38 3256.41,-53.24 3252.49,-63.08 3259.48,-63.38\"/>\n</g>\n<!-- 46 -->\n<g id=\"node47\" class=\"node\">\n<title>46</title>\n<polygon fill=\"#e58139\" stroke=\"black\" points=\"3482.5,-53 3344.5,-53 3344.5,0 3482.5,0 3482.5,-53\"/>\n<text text-anchor=\"middle\" x=\"3413.5\" y=\"-37.8\" font-family=\"Helvetica,sans-Serif\" font-size=\"14.00\">absolute_error = 0.0</text>\n<text text-anchor=\"middle\" x=\"3413.5\" y=\"-22.8\" font-family=\"Helvetica,sans-Serif\" font-size=\"14.00\">samples = 6</text>\n<text text-anchor=\"middle\" x=\"3413.5\" y=\"-7.8\" font-family=\"Helvetica,sans-Serif\" font-size=\"14.00\">value = 50.0</text>\n</g>\n<!-- 45&#45;&gt;46 -->\n<g id=\"edge46\" class=\"edge\">\n<title>45&#45;&gt;46</title>\n<path fill=\"none\" stroke=\"black\" d=\"M3416.1,-88.95C3415.75,-80.72 3415.38,-71.85 3415.02,-63.48\"/>\n<polygon fill=\"black\" stroke=\"black\" points=\"3418.51,-63.08 3414.59,-53.24 3411.52,-63.38 3418.51,-63.08\"/>\n</g>\n<!-- 47 -->\n<g id=\"node48\" class=\"node\">\n<title>47</title>\n<polygon fill=\"#e6853f\" stroke=\"black\" points=\"3638.5,-53 3500.5,-53 3500.5,0 3638.5,0 3638.5,-53\"/>\n<text text-anchor=\"middle\" x=\"3569.5\" y=\"-37.8\" font-family=\"Helvetica,sans-Serif\" font-size=\"14.00\">absolute_error = 2.3</text>\n<text text-anchor=\"middle\" x=\"3569.5\" y=\"-22.8\" font-family=\"Helvetica,sans-Serif\" font-size=\"14.00\">samples = 3</text>\n<text text-anchor=\"middle\" x=\"3569.5\" y=\"-7.8\" font-family=\"Helvetica,sans-Serif\" font-size=\"14.00\">value = 48.8</text>\n</g>\n<!-- 45&#45;&gt;47 -->\n<g id=\"edge47\" class=\"edge\">\n<title>45&#45;&gt;47</title>\n<path fill=\"none\" stroke=\"black\" d=\"M3470.66,-88.95C3486.55,-79.07 3503.91,-68.28 3519.59,-58.53\"/>\n<polygon fill=\"black\" stroke=\"black\" points=\"3521.46,-61.49 3528.1,-53.24 3517.76,-55.54 3521.46,-61.49\"/>\n</g>\n<!-- 49 -->\n<g id=\"node50\" class=\"node\">\n<title>49</title>\n<polygon fill=\"#eca36e\" stroke=\"black\" points=\"3802,-157 3649,-157 3649,-89 3802,-89 3802,-157\"/>\n<text text-anchor=\"middle\" x=\"3725.5\" y=\"-141.8\" font-family=\"Helvetica,sans-Serif\" font-size=\"14.00\">x[0] &lt;= 0.101</text>\n<text text-anchor=\"middle\" x=\"3725.5\" y=\"-126.8\" font-family=\"Helvetica,sans-Serif\" font-size=\"14.00\">absolute_error = 2.867</text>\n<text text-anchor=\"middle\" x=\"3725.5\" y=\"-111.8\" font-family=\"Helvetica,sans-Serif\" font-size=\"14.00\">samples = 3</text>\n<text text-anchor=\"middle\" x=\"3725.5\" y=\"-96.8\" font-family=\"Helvetica,sans-Serif\" font-size=\"14.00\">value = 38.7</text>\n</g>\n<!-- 48&#45;&gt;49 -->\n<g id=\"edge49\" class=\"edge\">\n<title>48&#45;&gt;49</title>\n<path fill=\"none\" stroke=\"black\" d=\"M3725.5,-192.88C3725.5,-184.78 3725.5,-175.98 3725.5,-167.47\"/>\n<polygon fill=\"black\" stroke=\"black\" points=\"3729,-167.3 3725.5,-157.3 3722,-167.3 3729,-167.3\"/>\n</g>\n<!-- 52 -->\n<g id=\"node53\" class=\"node\">\n<title>52</title>\n<polygon fill=\"#f6d4bc\" stroke=\"black\" points=\"3958.5,-149.5 3820.5,-149.5 3820.5,-96.5 3958.5,-96.5 3958.5,-149.5\"/>\n<text text-anchor=\"middle\" x=\"3889.5\" y=\"-134.3\" font-family=\"Helvetica,sans-Serif\" font-size=\"14.00\">absolute_error = 0.0</text>\n<text text-anchor=\"middle\" x=\"3889.5\" y=\"-119.3\" font-family=\"Helvetica,sans-Serif\" font-size=\"14.00\">samples = 1</text>\n<text text-anchor=\"middle\" x=\"3889.5\" y=\"-104.3\" font-family=\"Helvetica,sans-Serif\" font-size=\"14.00\">value = 21.9</text>\n</g>\n<!-- 48&#45;&gt;52 -->\n<g id=\"edge52\" class=\"edge\">\n<title>48&#45;&gt;52</title>\n<path fill=\"none\" stroke=\"black\" d=\"M3778.75,-192.88C3798.37,-180.68 3820.52,-166.9 3839.82,-154.9\"/>\n<polygon fill=\"black\" stroke=\"black\" points=\"3841.82,-157.77 3848.47,-149.52 3838.13,-151.83 3841.82,-157.77\"/>\n</g>\n<!-- 50 -->\n<g id=\"node51\" class=\"node\">\n<title>50</title>\n<polygon fill=\"#e99356\" stroke=\"black\" points=\"3794.5,-53 3656.5,-53 3656.5,0 3794.5,0 3794.5,-53\"/>\n<text text-anchor=\"middle\" x=\"3725.5\" y=\"-37.8\" font-family=\"Helvetica,sans-Serif\" font-size=\"14.00\">absolute_error = 0.0</text>\n<text text-anchor=\"middle\" x=\"3725.5\" y=\"-22.8\" font-family=\"Helvetica,sans-Serif\" font-size=\"14.00\">samples = 1</text>\n<text text-anchor=\"middle\" x=\"3725.5\" y=\"-7.8\" font-family=\"Helvetica,sans-Serif\" font-size=\"14.00\">value = 43.8</text>\n</g>\n<!-- 49&#45;&gt;50 -->\n<g id=\"edge50\" class=\"edge\">\n<title>49&#45;&gt;50</title>\n<path fill=\"none\" stroke=\"black\" d=\"M3725.5,-88.95C3725.5,-80.72 3725.5,-71.85 3725.5,-63.48\"/>\n<polygon fill=\"black\" stroke=\"black\" points=\"3729,-63.24 3725.5,-53.24 3722,-63.24 3729,-63.24\"/>\n</g>\n<!-- 51 -->\n<g id=\"node52\" class=\"node\">\n<title>51</title>\n<polygon fill=\"#eda876\" stroke=\"black\" points=\"3958.5,-53 3812.5,-53 3812.5,0 3958.5,0 3958.5,-53\"/>\n<text text-anchor=\"middle\" x=\"3885.5\" y=\"-37.8\" font-family=\"Helvetica,sans-Serif\" font-size=\"14.00\">absolute_error = 1.75</text>\n<text text-anchor=\"middle\" x=\"3885.5\" y=\"-22.8\" font-family=\"Helvetica,sans-Serif\" font-size=\"14.00\">samples = 2</text>\n<text text-anchor=\"middle\" x=\"3885.5\" y=\"-7.8\" font-family=\"Helvetica,sans-Serif\" font-size=\"14.00\">value = 36.95</text>\n</g>\n<!-- 49&#45;&gt;51 -->\n<g id=\"edge51\" class=\"edge\">\n<title>49&#45;&gt;51</title>\n<path fill=\"none\" stroke=\"black\" d=\"M3781.46,-88.95C3798.26,-79.02 3816.63,-68.18 3833.19,-58.4\"/>\n<polygon fill=\"black\" stroke=\"black\" points=\"3835.35,-61.19 3842.18,-53.09 3831.79,-55.16 3835.35,-61.19\"/>\n</g>\n</g>\n</svg>\n",
            "text/plain": [
              "<graphviz.sources.Source at 0x799be53d8910>"
            ]
          },
          "metadata": {}
        }
      ]
    },
    {
      "cell_type": "code",
      "source": [
        "print(\"train score : {:.3f}\".format(tree_reg.score(X_train, y_train)))\n",
        "print(\"test score : {:.3f}\".format(tree_reg.score(X_test, y_test)))"
      ],
      "metadata": {
        "colab": {
          "base_uri": "https://localhost:8080/"
        },
        "id": "qtjrGxujr-oz",
        "outputId": "ff716c2c-db71-4048-f86d-1f8a7361285a"
      },
      "execution_count": 48,
      "outputs": [
        {
          "output_type": "stream",
          "name": "stdout",
          "text": [
            "train score : 0.926\n",
            "test score : 0.620\n"
          ]
        }
      ]
    },
    {
      "cell_type": "code",
      "source": [],
      "metadata": {
        "id": "biAzhq6usB6i"
      },
      "execution_count": null,
      "outputs": []
    }
  ],
  "metadata": {
    "colab": {
      "provenance": [],
      "include_colab_link": true
    },
    "kernelspec": {
      "display_name": "Python 3",
      "language": "python",
      "name": "python3"
    },
    "language_info": {
      "codemirror_mode": {
        "name": "ipython",
        "version": 3
      },
      "file_extension": ".py",
      "mimetype": "text/x-python",
      "name": "python",
      "nbconvert_exporter": "python",
      "pygments_lexer": "ipython3",
      "version": "3.7.4"
    }
  },
  "nbformat": 4,
  "nbformat_minor": 0
}