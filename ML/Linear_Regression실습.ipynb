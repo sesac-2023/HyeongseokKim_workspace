{
  "cells": [
    {
      "cell_type": "markdown",
      "metadata": {
        "id": "view-in-github",
        "colab_type": "text"
      },
      "source": [
        "<a href=\"https://colab.research.google.com/github/HyeongseokKim/My_codes/blob/main/Linear_Regression%EC%8B%A4%EC%8A%B5.ipynb\" target=\"_parent\"><img src=\"https://colab.research.google.com/assets/colab-badge.svg\" alt=\"Open In Colab\"/></a>"
      ]
    },
    {
      "cell_type": "markdown",
      "metadata": {
        "id": "JPdPyjLuY0ev"
      },
      "source": [
        "# 1. Linear Regression"
      ]
    },
    {
      "cell_type": "markdown",
      "metadata": {
        "id": "BMEMDE-bL7fe"
      },
      "source": [
        "### 가상의 데이터로 예측하기"
      ]
    },
    {
      "cell_type": "code",
      "execution_count": 1,
      "metadata": {
        "id": "urnyUV0WY0e0"
      },
      "outputs": [],
      "source": [
        "from sklearn.datasets import make_regression"
      ]
    },
    {
      "cell_type": "markdown",
      "metadata": {
        "id": "mJoJL8aYY0e8"
      },
      "source": [
        "-  Scikit-Learn의 datasets 서브패키지는 회귀분석용 가상 데이터를 생성하는 명령어인 make_regression()을 제공한다. make_regression()으로 만들어진 데이터는 종속 변수 y의 값이 독립변수 x 벡터의 선형 조합인 선형관계를 가진다."
      ]
    },
    {
      "cell_type": "code",
      "execution_count": 58,
      "metadata": {
        "id": "1yEpBrFkY0e9"
      },
      "outputs": [],
      "source": [
        "# 가상의 데이터 생성\n",
        "data = make_regression(n_samples = 1000, n_features = 1, bias = 1000, noise = 10)\n",
        "# 1000개의 데이터, 1개의 특성 가진 데이터 셋을 생성합니다.\n",
        "\n",
        "#X_1 -> data[0] / y_1 -> data[1]"
      ]
    },
    {
      "cell_type": "code",
      "execution_count": 3,
      "metadata": {
        "colab": {
          "base_uri": "https://localhost:8080/"
        },
        "id": "fn2uoYwjiW_D",
        "outputId": "66a68ea7-6ba7-4706-c837-bd79be25b44f"
      },
      "outputs": [
        {
          "output_type": "stream",
          "name": "stdout",
          "text": [
            "input data :\n",
            "[[-0.25323167]\n",
            " [ 1.15587281]\n",
            " [ 1.47492592]\n",
            " [ 0.28234065]\n",
            " [ 0.04364515]\n",
            " [ 0.13644717]\n",
            " [ 0.27060878]\n",
            " [ 1.14263601]\n",
            " [ 0.44046383]\n",
            " [-1.86942687]], \n",
            "\n",
            " output data :\n",
            "[ 936.14253323 1105.50970784 1224.06049914 1011.32740355 1031.39327301\n",
            "  940.01798899  999.75801937 1042.65993258 1056.55301266  732.54228126]\n"
          ]
        }
      ],
      "source": [
        "print('input data :\\n{}, \\n\\n output data :\\n{}'.format(data[0][-10:], data[1][-10:]))"
      ]
    },
    {
      "cell_type": "markdown",
      "metadata": {
        "id": "bVZmSzSNY0fA"
      },
      "source": [
        "- n_samples : 기본값은 100, 표본 데이터의 갯수, 정수\n",
        "- n_features : 기본값은 100, 독립변수의 수(차원), 정수\n",
        "- n_target : 기본값은 1, 종속변수의 수, 정수\n",
        "- bias = 기본값은 0.0, y절편, 실수\n",
        "- nosie = 기본값은 0.0, 분포"
      ]
    },
    {
      "cell_type": "code",
      "execution_count": 59,
      "metadata": {
        "colab": {
          "base_uri": "https://localhost:8080/",
          "height": 430
        },
        "id": "0MuDcNGrY0fB",
        "outputId": "ea66412a-7a26-49f6-bead-e2e57bb7e54c",
        "scrolled": true
      },
      "outputs": [
        {
          "output_type": "display_data",
          "data": {
            "text/plain": [
              "<Figure size 640x480 with 1 Axes>"
            ],
            "image/png": "[encoded data removed]"
          },
          "metadata": {}
        }
      ],
      "source": [
        "# 위에서 생성한 가상 데이터 셋을 그래프위에 그려 보았습니다.\n",
        "from matplotlib import pyplot as plt\n",
        "%matplotlib inline\n",
        "plt.scatter(data[0], data[1])\n",
        "plt.show()"
      ]
    },
    {
      "cell_type": "markdown",
      "metadata": {
        "id": "0nSwUoadY0fD"
      },
      "source": [
        "#### 선형 모델을 만들어 보자."
      ]
    },
    {
      "cell_type": "code",
      "execution_count": 60,
      "metadata": {
        "id": "D2wn21HVY0fD"
      },
      "outputs": [],
      "source": [
        "from sklearn.model_selection import train_test_split\n",
        "# train_test_split은 데이터를 학습용 데이터와 검증용 데이터로 분리시켜줍니다.\n",
        "\n",
        "X_train, X_test, y_train, y_test = train_test_split(data[0], data[1], test_size = 0.2, shuffle = True)\n",
        "\n",
        "# 생성한 가상의 데이터를 훈련용 데이터와 검증 데이터로 나눠주는 과정입니다."
      ]
    },
    {
      "cell_type": "markdown",
      "metadata": {
        "id": "3VGi8Zq1Y0fF"
      },
      "source": [
        "- train_test_split(data, data2, test_size, train_size, shuffle, random_state)  \n",
        "  data: 독립변수 데이터  \n",
        "  data2: 종속변수 데이터 (data 인수에 종속변수가 포함되어 있다면 생략해도 된다.)  \n",
        "  test_size: 검증용 데이터의 개수. 1이하의 실수로 표현하면 비율을 나타낸다. (기본값은 0.25)  \n",
        "  train_size : 학습용 데이터의 개수. 1이하의 실수로 표현하면 비율을 나타낸다.(test_size와 train_size 중 하나만 사용해도 된다.)  \n",
        "  shuffle: 데이터를 섞어준다. (기본값은 True)  \n",
        "  random_state: 난수를 생성해준다."
      ]
    },
    {
      "cell_type": "code",
      "execution_count": 61,
      "metadata": {
        "id": "fr8N2T4ZY0fG"
      },
      "outputs": [],
      "source": [
        "# 선형회귀(Linear Regression)\n",
        "\n",
        "from sklearn.linear_model import LinearRegression\n",
        "# LinearRegression을 import 합니다.\n",
        "\n",
        "hypothesis = LinearRegression()\n",
        "# import한 LinearRegression을 model이라는 변수에 대입한다.\n",
        "# 굳이 별도의 변수에 넣어주지 않고 LinearRegression() 으로 사용해도 무방합니다. 여기서는 설명을 위해 변수에 대입하였습니다.\n",
        "\n",
        "# 단일피쳐 선형회귀 모델의 가설함수는?\n"
      ]
    },
    {
      "cell_type": "markdown",
      "metadata": {
        "id": "USZgb7TSY0fI"
      },
      "source": [
        "#### 생성한 모델을 학습시켜보자."
      ]
    },
    {
      "cell_type": "code",
      "execution_count": 62,
      "metadata": {
        "id": "w1u6npHHY0fJ"
      },
      "outputs": [],
      "source": [
        "model_linear = hypothesis.fit(X_train, y_train)\n",
        "# fit()은 모델을 학습시키는 명령입니다.\n",
        "\n",
        "# fit 에서 일어나는 일에는 어떤 것들이 있을까?"
      ]
    },
    {
      "cell_type": "markdown",
      "source": [
        "모델이 학습할 때 일어나는 일들\n",
        "1. 코스트 계산  \n",
        "cost=sum((y_pred - y_real) ** 2)->SSE  \n",
        "cost=sum((y_pred - y_real) ** 2)/N->MSE  \n",
        "2. 가중치를 업데이트 해준다.(10000)  \n",
        "for i in range(10000):  \n",
        "&nbsp; &nbsp;  gradientDecsect(cost) -> 구한 코스트를 통해 기울기를 계산하고, weight를 기울기 반대방향으로 업데이트"
      ],
      "metadata": {
        "id": "2k4ER6gi1o7_"
      }
    },
    {
      "cell_type": "markdown",
      "metadata": {
        "id": "PfE0J_XrY0fL"
      },
      "source": [
        "#### 생성한 모델의 weight(가중치, 계수)와 bias를 출력해보자."
      ]
    },
    {
      "cell_type": "code",
      "execution_count": 63,
      "metadata": {
        "colab": {
          "base_uri": "https://localhost:8080/"
        },
        "id": "ZNbAGNoAY0fM",
        "outputId": "906044cb-88c2-4a0d-e5c9-e6b863e4b388"
      },
      "outputs": [
        {
          "output_type": "execute_result",
          "data": {
            "text/plain": [
              "array([46.83825207])"
            ]
          },
          "metadata": {},
          "execution_count": 63
        }
      ],
      "source": [
        "model_linear.coef_\n",
        "# coef_ 속성은 각 입력 특성에 하나씩 대응되는 Numpy 배열입니다.\n",
        "# 우리가 생성한 데이터에는 입력 특성이 하나이므로 하나만 출력됩니다.\n",
        "# coef_ 는 weight값을 보여줍니다."
      ]
    },
    {
      "cell_type": "code",
      "execution_count": 64,
      "metadata": {
        "colab": {
          "base_uri": "https://localhost:8080/"
        },
        "id": "Qr7V-GwtY0fO",
        "outputId": "3b6bacac-c8a0-4b51-9f33-d8e99b8c3220"
      },
      "outputs": [
        {
          "output_type": "execute_result",
          "data": {
            "text/plain": [
              "999.316475506433"
            ]
          },
          "metadata": {},
          "execution_count": 64
        }
      ],
      "source": [
        "model_linear.intercept_\n",
        "# intercept_ 속성은 항상 실수 값 하나입니다.\n",
        "# intercept_ 는 bias(y 절편)값을 보여줍니다."
      ]
    },
    {
      "cell_type": "markdown",
      "metadata": {
        "id": "Uoiuwap-Y0fQ"
      },
      "source": [
        "#### 우리가 생성한 모델을 검증 해보자."
      ]
    },
    {
      "cell_type": "markdown",
      "metadata": {
        "id": "Qj-q1LttY0fR"
      },
      "source": [
        "- score()로 모델을 검증할 수 있다."
      ]
    },
    {
      "cell_type": "code",
      "execution_count": 65,
      "metadata": {
        "colab": {
          "base_uri": "https://localhost:8080/"
        },
        "id": "P-6rYKx8Y0fR",
        "outputId": "d7228b09-e07b-495c-8313-60121246d14a"
      },
      "outputs": [
        {
          "output_type": "stream",
          "name": "stdout",
          "text": [
            "train data score : 0.96\n",
            "test data score : 0.9598\n"
          ]
        }
      ],
      "source": [
        "print(\"train data score : {:.2f}\".format(model_linear.score(X_train, y_train)))\n",
        "print(\"test data score : {:.4f}\".format(model_linear.score(X_test, y_test)))"
      ]
    },
    {
      "cell_type": "code",
      "execution_count": null,
      "metadata": {
        "id": "f51mnFAWqnSq"
      },
      "outputs": [],
      "source": [
        "# Trainset data 와 함께, Hypothesis (직선) 시각화해보기\n",
        "# Testset data 와 함께, Hypothesis (직선) 시각화해보기"
      ]
    },
    {
      "cell_type": "code",
      "execution_count": 66,
      "metadata": {
        "id": "3GtppRvCY0fU"
      },
      "outputs": [],
      "source": [
        "from sklearn.metrics import mean_squared_error, r2_score\n",
        "# 회귀 평가 지표인 mean squared error, R2 score를 불러옵니다.\n",
        "\n",
        "y_predict = model_linear.predict(X_test)\n",
        "# predcit() 명령어를 사용하여 y값을 예측합니다."
      ]
    },
    {
      "cell_type": "code",
      "execution_count": 67,
      "metadata": {
        "id": "rynH2-RmY0fW"
      },
      "outputs": [],
      "source": [
        "mse = mean_squared_error(y_test, y_predict)\n",
        "# 실제 값과 예측값을 이용하여 mean squared error를 측정합니다."
      ]
    },
    {
      "cell_type": "code",
      "execution_count": 68,
      "metadata": {
        "id": "QubvGM12Y0fY"
      },
      "outputs": [],
      "source": [
        "import numpy as np\n",
        "rmse = np.sqrt(mse)\n",
        "# root mean squared error를 측정할 수 있습니다.\n",
        "# sqrt는 루트를 씌워주는 명령어입니다."
      ]
    },
    {
      "cell_type": "code",
      "execution_count": 69,
      "metadata": {
        "colab": {
          "base_uri": "https://localhost:8080/"
        },
        "id": "A_0cHZ3fY0fa",
        "outputId": "06cd4f46-844e-4943-8356-7af9f4766605"
      },
      "outputs": [
        {
          "output_type": "stream",
          "name": "stdout",
          "text": [
            "MSE : 95.822, RMSE : 9.789\n"
          ]
        }
      ],
      "source": [
        "print('MSE : {:.3f}, RMSE : {:.3f}'.format(mse, rmse))"
      ]
    },
    {
      "cell_type": "code",
      "execution_count": 70,
      "metadata": {
        "colab": {
          "base_uri": "https://localhost:8080/"
        },
        "id": "zx8skmxvY0fd",
        "outputId": "410ec6f1-0a1b-460f-98a5-c907c120de81"
      },
      "outputs": [
        {
          "output_type": "stream",
          "name": "stdout",
          "text": [
            "test data score : 0.96\n"
          ]
        }
      ],
      "source": [
        "print('test data score : {:.2f}'.format(r2_score(y_test, y_predict)))\n",
        "# 실제값과 직접 만들어본 예측값을 이용하여 모델의 성능을 측정할 수 있습니다."
      ]
    },
    {
      "cell_type": "markdown",
      "metadata": {
        "id": "gkKWtTkxcniq"
      },
      "source": [
        "Quiz.\n",
        "1. 회귀에서 r2 score를 사용하는 이유는 무엇일까?\n",
        "2. r2_score는 계산하는 식이 어떻게 될까?"
      ]
    },
    {
      "cell_type": "markdown",
      "source": [
        "1. 내가 사용하는 데이터의 오차를 분산된 정도로 나눠줌으로써 어느 정도 일관된 성능평가 지표로 사용가능\n",
        "2. 1-(오차/분산) =>1-MSE/Var(y) =>  \n",
        "1-np.mean((y_predict-y_test)**2)/np.var(y_test)"
      ],
      "metadata": {
        "id": "uHrhf6oBMPvN"
      }
    },
    {
      "cell_type": "code",
      "execution_count": 72,
      "metadata": {
        "id": "9CtAze8TcsSC",
        "colab": {
          "base_uri": "https://localhost:8080/"
        },
        "outputId": "0976aa3f-6678-4f1f-cdeb-7cb2294233a6"
      },
      "outputs": [
        {
          "output_type": "execute_result",
          "data": {
            "text/plain": [
              "0.9598471758617411"
            ]
          },
          "metadata": {},
          "execution_count": 72
        }
      ],
      "source": [
        "1-np.mean((y_predict-y_test)**2)/np.var(y_test)"
      ]
    },
    {
      "cell_type": "markdown",
      "metadata": {
        "id": "8ayU4y0gY0fg"
      },
      "source": [
        "- score(X_test, y_test)를 실행하게 되면 내부함수에서 X_test를 이용하여 예측값을 생성합니다. 그 후 생성된 예측값과 y_test(실제값)을 이용하여 성능을 검증해줍니다.\n",
        "- 모델의 성능만을 측정할때는 위의 번거로운 과정없이 score함수만을 활용하면 됩니다."
      ]
    },
    {
      "cell_type": "markdown",
      "metadata": {
        "id": "h7db6M2wY0fg"
      },
      "source": [
        "#### Linear Regression with Multi-Variable"
      ]
    },
    {
      "cell_type": "markdown",
      "metadata": {
        "id": "xt4lm1VkY0fh"
      },
      "source": [
        "앞에서는 1개의 특성(feature)을 가진 데이터 셋으로 선형회귀를 해보았다. 지금부터는 여러개의 특성을 가진 데이터 셋으로 션형회귀를 해보자."
      ]
    },
    {
      "cell_type": "code",
      "execution_count": 96,
      "metadata": {
        "colab": {
          "base_uri": "https://localhost:8080/"
        },
        "id": "-iYnh6KwY0fi",
        "outputId": "e8a52b32-24b9-488d-8885-72234df293ca"
      },
      "outputs": [
        {
          "output_type": "stream",
          "name": "stdout",
          "text": [
            "input data : \n",
            "[[ 1.13866951  0.96123195  1.53736502 -0.78489391 -0.01966132 -0.24319591\n",
            "   0.25924322  1.07106274  2.32225079 -0.38833776  0.61984996  0.95061449\n",
            "  -0.7007824  -0.90093194  1.05932777 -0.14939179 -0.04752794 -0.67927948\n",
            "   1.51489759  1.35309136  0.33498833 -0.20149652  0.48491666 -0.26830688\n",
            "  -1.36563477 -0.79037841 -1.34305675 -0.52405562  2.14391957 -0.31228749\n",
            "  -0.33329482  1.10644553  1.52846125 -1.27809851  0.03407334 -0.8125935\n",
            "  -1.20929314 -0.23474508  0.01035401  0.40684647 -0.05450409 -0.73223194\n",
            "   1.0693876   0.16671471  0.463458    0.94335659 -0.04481303  0.19833738\n",
            "  -1.60942023  0.32234632  0.13666105 -0.5530082  -1.76288042  0.20412125\n",
            "  -0.62812614 -0.33001425  0.43471528 -0.22365924  0.51431604 -1.16044246\n",
            "   0.3518025  -1.23933778  0.0229355  -0.35691992  0.46199425  1.33115589\n",
            "  -2.39640603 -0.40823965  0.10622224 -1.82286938 -2.89318559 -0.68181255\n",
            "  -0.72291065 -0.10499492 -2.50448609  0.15901228  0.71141436 -0.76197984\n",
            "  -0.9986112   1.86933725  0.83569396 -0.47554391  1.22657609  0.97376005\n",
            "   0.17913011  1.54808847 -0.3675142  -0.92536486 -1.28812213 -2.15800123\n",
            "   1.38702148 -0.90827944 -0.4061391   0.77951808 -0.35783449 -0.13636584\n",
            "  -0.89236129 -0.12210239  0.52430458 -0.93131841]], \n",
            "\n",
            " output data : \n",
            "[72.35762766]\n"
          ]
        }
      ],
      "source": [
        "X_multi, y_multi = make_regression(n_samples = 1000, n_features = 100, bias = 10, noise = 10)\n",
        "\n",
        "print('input data : \\n{}, \\n\\n output data : \\n{}'.format(X_multi[:1], y_multi[:1]))"
      ]
    },
    {
      "cell_type": "markdown",
      "metadata": {
        "id": "Z6XgjQgJY0fk"
      },
      "source": [
        "여기서는 input data를 살펴보도록 하자.\n",
        "1개의 input data에 100개의 각각 다른 값들이 들어있다. 그 이유는 n_features = 100, 즉 100개의 특성을 가지고 있는 데이터이다."
      ]
    },
    {
      "cell_type": "code",
      "execution_count": 97,
      "metadata": {
        "id": "E7EIk2LbY0fk"
      },
      "outputs": [],
      "source": [
        "X_train, X_test, y_train, y_test = train_test_split(X_multi, y_multi, test_size = 0.3, shuffle = True)\n",
        "# 생성한 가상의 데이터를 학습용과 검증용으로 나눠줍니다."
      ]
    },
    {
      "cell_type": "code",
      "execution_count": 98,
      "metadata": {
        "id": "XYvsV_P1Y0fm"
      },
      "outputs": [],
      "source": [
        "hypothesis_multi = LinearRegression()\n",
        "\n",
        "# 가설함수는 어떻게 될까?\n"
      ]
    },
    {
      "cell_type": "code",
      "execution_count": 99,
      "metadata": {
        "id": "1_tL7HXMY0fr"
      },
      "outputs": [],
      "source": [
        "model_linear_multi = hypothesis_multi.fit(X_train, y_train)\n",
        "# 모델을 학습시킵니다."
      ]
    },
    {
      "cell_type": "code",
      "execution_count": 100,
      "metadata": {
        "colab": {
          "base_uri": "https://localhost:8080/"
        },
        "id": "mTZ00aHOY0ft",
        "outputId": "2845aa6d-4e25-4221-ad4c-f1da62fc022b"
      },
      "outputs": [
        {
          "output_type": "stream",
          "name": "stdout",
          "text": [
            "weight : \n",
            "[-7.76294461e-02 -3.25605426e-01 -1.23918782e+00  3.69378595e-01\n",
            " -8.23179492e-01 -3.98233878e-01  1.45457185e+01 -2.84502392e-01\n",
            " -4.29112602e-01 -6.28256315e-01  3.58444291e+01 -1.18557947e-02\n",
            " -1.61115510e-01  1.55558887e-02 -2.62324976e-01  3.41066169e+01\n",
            "  5.44878587e-01  2.31743688e-01  2.51014221e-01  4.76427725e-01\n",
            " -3.81600463e-01  2.18603665e-01 -5.05831037e-01  3.24635073e-01\n",
            " -3.48912129e-02  1.94158907e-01  2.34164342e-01 -4.85632380e-01\n",
            " -2.70340974e-01  2.45533169e-01 -9.42009015e-02  9.00546733e+00\n",
            "  4.21489076e-01 -1.75597682e-01  6.20098557e-01 -1.25796858e-01\n",
            " -2.80015425e-01  7.51260541e-01 -4.16125767e-01 -1.57837417e-01\n",
            "  2.20093479e-01 -5.19868500e-01  5.19422193e-01  5.59645820e+00\n",
            " -4.75220782e-01 -3.54474590e-01  6.68498930e+01  2.31567780e-01\n",
            "  1.25476245e-01  2.56965364e-01  3.45294536e-01  5.80359187e-01\n",
            " -4.83721256e-01 -7.68270236e-01  4.54971308e-02  1.55020849e-01\n",
            " -3.60219170e-02  5.24555491e-02  7.32001568e+01  1.27718680e-01\n",
            " -2.06397407e-01 -1.20775590e-01  3.26339030e-01  7.24885145e-01\n",
            " -2.37283795e-01 -1.37105407e-01 -3.52008322e-01  4.62573157e-01\n",
            "  3.60521630e+01 -4.74300739e-01  1.01273194e+00  1.83210798e-01\n",
            " -9.07538779e-01  9.37582062e+01 -1.04601813e-01  2.04869829e-01\n",
            "  7.10831411e-01  4.13603942e-01  7.07861244e-02  2.19012663e-01\n",
            "  3.41732431e-02  1.09764294e+00 -3.67743352e-01 -3.24964337e-01\n",
            "  1.84402277e+01  6.62196498e-01  3.12735879e-01 -1.17175491e-01\n",
            "  1.34112033e-01 -5.86560689e-02 -8.12111103e-02 -6.40871329e-01\n",
            "  6.01364013e-01  7.19856373e-01  9.06970264e-01  2.95160945e-01\n",
            " -1.64392381e-01 -2.34748264e-01  7.21068387e-01 -2.04203787e-01]\n",
            "\n",
            "\n",
            "bias : \n",
            "10.289810835429337\n"
          ]
        }
      ],
      "source": [
        "print('weight : \\n{}\\n\\n'.format(model_linear_multi.coef_))\n",
        "print('bias : \\n{}'.format(model_linear_multi.intercept_))"
      ]
    },
    {
      "cell_type": "code",
      "execution_count": 101,
      "metadata": {
        "colab": {
          "base_uri": "https://localhost:8080/"
        },
        "id": "cSXTPok_Y0fv",
        "outputId": "aa49ba78-4051-453a-fd4b-2e33efebbed3",
        "scrolled": true
      },
      "outputs": [
        {
          "output_type": "stream",
          "name": "stdout",
          "text": [
            "학습 데이터 점수 : 1.00\n",
            "검증 데이터 점수 : 0.9940\n"
          ]
        }
      ],
      "source": [
        "print('학습 데이터 점수 : {:.2f}'.format(model_linear_multi.score(X_train, y_train)))\n",
        "print('검증 데이터 점수 : {:.4f}'.format(model_linear_multi.score(X_test, y_test)))"
      ]
    },
    {
      "cell_type": "markdown",
      "metadata": {
        "id": "J4DWnbWCY0fw"
      },
      "source": [
        "noise = 100"
      ]
    },
    {
      "cell_type": "code",
      "execution_count": 111,
      "metadata": {
        "id": "YJUmb3k3Y0fy"
      },
      "outputs": [],
      "source": [
        "from sklearn.model_selection import train_test_split\n",
        "from sklearn.linear_model import LinearRegression\n",
        "X_2,y_2 = make_regression(n_samples = 1000, n_features = 1, bias = 10, noise = 100)"
      ]
    },
    {
      "cell_type": "code",
      "execution_count": 112,
      "metadata": {
        "colab": {
          "base_uri": "https://localhost:8080/",
          "height": 430
        },
        "id": "vF8DdSlVY0f1",
        "outputId": "7d19eecc-af0e-4fb5-97ac-e4c67af2aa20",
        "scrolled": true
      },
      "outputs": [
        {
          "output_type": "display_data",
          "data": {
            "text/plain": [
              "<Figure size 640x480 with 1 Axes>"
            ],
            "image/png": "[encoded data removed]"
          },
          "metadata": {}
        }
      ],
      "source": [
        "from matplotlib import pyplot as plt\n",
        "plt.scatter(X_2, y_2)\n",
        "plt.show()"
      ]
    },
    {
      "cell_type": "code",
      "execution_count": 113,
      "metadata": {
        "id": "1ksYu2_SY0f3"
      },
      "outputs": [],
      "source": [
        "X_train, X_test, y_train, y_test = train_test_split(X_2, y_2, test_size = 0.2,\n",
        "                                                    shuffle = True)\n",
        "hypothesis_noise100 = LinearRegression()\n",
        "model_linear_noise100 = hypothesis_noise100.fit(X_train, y_train)"
      ]
    },
    {
      "cell_type": "code",
      "execution_count": 114,
      "metadata": {
        "colab": {
          "base_uri": "https://localhost:8080/"
        },
        "id": "5Z2ce5weY0f6",
        "outputId": "e6794479-29ef-4335-eccb-eb0510a46e72"
      },
      "outputs": [
        {
          "output_type": "stream",
          "name": "stdout",
          "text": [
            "weight : \n",
            "[83.93659089]\n",
            "\n",
            "\n",
            "bias : \n",
            "7.7357283099564755\n"
          ]
        }
      ],
      "source": [
        "print('weight : \\n{}\\n\\n'.format(model_linear_noise100.coef_))\n",
        "print('bias : \\n{}'.format(model_linear_noise100.intercept_))"
      ]
    },
    {
      "cell_type": "code",
      "execution_count": 115,
      "metadata": {
        "colab": {
          "base_uri": "https://localhost:8080/"
        },
        "id": "c0fy-z6SY0f8",
        "outputId": "a6b6141f-dedb-42fc-b4af-6214d5d422f7"
      },
      "outputs": [
        {
          "output_type": "stream",
          "name": "stdout",
          "text": [
            "학습 데이터 점수 : 0.41\n",
            "검증 데이터 점수 : 0.29\n"
          ]
        }
      ],
      "source": [
        "print('학습 데이터 점수 : {:.2f}'.format(model_linear_noise100.score(X_train, y_train)))\n",
        "print('검증 데이터 점수 : {:.2f}'.format(model_linear_noise100.score(X_test, y_test)))"
      ]
    },
    {
      "cell_type": "markdown",
      "metadata": {
        "id": "LGE0qOzvY0f-"
      },
      "source": [
        "make_regression을 이용해 가상 데이터를 생성할 때 noise의 값에 따른 결과를 보여주고 있다."
      ]
    },
    {
      "cell_type": "markdown",
      "metadata": {
        "id": "Dpgr-H3kLtLT"
      },
      "source": [
        "### 보스턴 주택데이터 예측하기"
      ]
    },
    {
      "cell_type": "code",
      "execution_count": 116,
      "metadata": {
        "colab": {
          "base_uri": "https://localhost:8080/",
          "height": 1000
        },
        "id": "-bVrdg9Lxnpp",
        "outputId": "44fc3c10-85bd-4e06-8b5c-39c323960537"
      },
      "outputs": [
        {
          "output_type": "error",
          "ename": "ImportError",
          "evalue": "ignored",
          "traceback": [
            "\u001b[0;31m---------------------------------------------------------------------------\u001b[0m",
            "\u001b[0;31mImportError\u001b[0m                               Traceback (most recent call last)",
            "\u001b[0;32m<ipython-input-116-1ed36436ffa3>\u001b[0m in \u001b[0;36m<cell line: 1>\u001b[0;34m()\u001b[0m\n\u001b[0;32m----> 1\u001b[0;31m \u001b[0;32mfrom\u001b[0m \u001b[0msklearn\u001b[0m\u001b[0;34m.\u001b[0m\u001b[0mdatasets\u001b[0m \u001b[0;32mimport\u001b[0m \u001b[0mload_boston\u001b[0m\u001b[0;34m\u001b[0m\u001b[0;34m\u001b[0m\u001b[0m\n\u001b[0m",
            "\u001b[0;32m/usr/local/lib/python3.10/dist-packages/sklearn/datasets/__init__.py\u001b[0m in \u001b[0;36m__getattr__\u001b[0;34m(name)\u001b[0m\n\u001b[1;32m    154\u001b[0m             \"\"\"\n\u001b[1;32m    155\u001b[0m         )\n\u001b[0;32m--> 156\u001b[0;31m         \u001b[0;32mraise\u001b[0m \u001b[0mImportError\u001b[0m\u001b[0;34m(\u001b[0m\u001b[0mmsg\u001b[0m\u001b[0;34m)\u001b[0m\u001b[0;34m\u001b[0m\u001b[0;34m\u001b[0m\u001b[0m\n\u001b[0m\u001b[1;32m    157\u001b[0m     \u001b[0;32mtry\u001b[0m\u001b[0;34m:\u001b[0m\u001b[0;34m\u001b[0m\u001b[0;34m\u001b[0m\u001b[0m\n\u001b[1;32m    158\u001b[0m         \u001b[0;32mreturn\u001b[0m \u001b[0mglobals\u001b[0m\u001b[0;34m(\u001b[0m\u001b[0;34m)\u001b[0m\u001b[0;34m[\u001b[0m\u001b[0mname\u001b[0m\u001b[0;34m]\u001b[0m\u001b[0;34m\u001b[0m\u001b[0;34m\u001b[0m\u001b[0m\n",
            "\u001b[0;31mImportError\u001b[0m: \n`load_boston` has been removed from scikit-learn since version 1.2.\n\nThe Boston housing prices dataset has an ethical problem: as\ninvestigated in [1], the authors of this dataset engineered a\nnon-invertible variable \"B\" assuming that racial self-segregation had a\npositive impact on house prices [2]. Furthermore the goal of the\nresearch that led to the creation of this dataset was to study the\nimpact of air quality but it did not give adequate demonstration of the\nvalidity of this assumption.\n\nThe scikit-learn maintainers therefore strongly discourage the use of\nthis dataset unless the purpose of the code is to study and educate\nabout ethical issues in data science and machine learning.\n\nIn this special case, you can fetch the dataset from the original\nsource::\n\n    import pandas as pd\n    import numpy as np\n\n    data_url = \"http://lib.stat.cmu.edu/datasets/boston\"\n    raw_df = pd.read_csv(data_url, sep=\"\\s+\", skiprows=22, header=None)\n    data = np.hstack([raw_df.values[::2, :], raw_df.values[1::2, :2]])\n    target = raw_df.values[1::2, 2]\n\nAlternative datasets include the California housing dataset and the\nAmes housing dataset. You can load the datasets as follows::\n\n    from sklearn.datasets import fetch_california_housing\n    housing = fetch_california_housing()\n\nfor the California housing dataset and::\n\n    from sklearn.datasets import fetch_openml\n    housing = fetch_openml(name=\"house_prices\", as_frame=True)\n\nfor the Ames housing dataset.\n\n[1] M Carlisle.\n\"Racist data destruction?\"\n<https://medium.com/@docintangible/racist-data-destruction-113e3eff54a8>\n\n[2] Harrison Jr, David, and Daniel L. Rubinfeld.\n\"Hedonic housing prices and the demand for clean air.\"\nJournal of environmental economics and management 5.1 (1978): 81-102.\n<https://www.researchgate.net/publication/4974606_Hedonic_housing_prices_and_the_demand_for_clean_air>\n",
            "",
            "\u001b[0;31m---------------------------------------------------------------------------\u001b[0;32m\nNOTE: If your import is failing due to a missing package, you can\nmanually install dependencies using either !pip or !apt.\n\nTo view examples of installing some common dependencies, click the\n\"Open Examples\" button below.\n\u001b[0;31m---------------------------------------------------------------------------\u001b[0m\n"
          ],
          "errorDetails": {
            "actions": [
              {
                "action": "open_url",
                "actionText": "Open Examples",
                "url": "/notebooks/snippets/importing_libraries.ipynb"
              }
            ]
          }
        }
      ],
      "source": [
        "from sklearn.datasets import load_boston"
      ]
    },
    {
      "cell_type": "code",
      "source": [
        "import pandas as pd\n",
        "import numpy as np\n",
        "\n",
        "data_url = \"http://lib.stat.cmu.edu/datasets/boston\"\n",
        "raw_df = pd.read_csv(data_url, sep=\"\\s+\", skiprows=22, header=None)\n",
        "data = np.hstack([raw_df.values[::2, :], raw_df.values[1::2, :2]])\n",
        "target = raw_df.values[1::2, 2]"
      ],
      "metadata": {
        "id": "aqQDfaKaQ1kH"
      },
      "execution_count": 117,
      "outputs": []
    },
    {
      "cell_type": "code",
      "source": [
        "raw_df"
      ],
      "metadata": {
        "colab": {
          "base_uri": "https://localhost:8080/",
          "height": 424
        },
        "id": "mcS-WjZARWoi",
        "outputId": "9aa45be0-6e0b-4aa6-a528-3c37c8a9b0d4"
      },
      "execution_count": 118,
      "outputs": [
        {
          "output_type": "execute_result",
          "data": {
            "text/plain": [
              "             0      1      2    3      4      5     6       7    8      9   \\\n",
              "0       0.00632  18.00   2.31  0.0  0.538  6.575  65.2  4.0900  1.0  296.0   \n",
              "1     396.90000   4.98  24.00  NaN    NaN    NaN   NaN     NaN  NaN    NaN   \n",
              "2       0.02731   0.00   7.07  0.0  0.469  6.421  78.9  4.9671  2.0  242.0   \n",
              "3     396.90000   9.14  21.60  NaN    NaN    NaN   NaN     NaN  NaN    NaN   \n",
              "4       0.02729   0.00   7.07  0.0  0.469  7.185  61.1  4.9671  2.0  242.0   \n",
              "...         ...    ...    ...  ...    ...    ...   ...     ...  ...    ...   \n",
              "1007  396.90000   5.64  23.90  NaN    NaN    NaN   NaN     NaN  NaN    NaN   \n",
              "1008    0.10959   0.00  11.93  0.0  0.573  6.794  89.3  2.3889  1.0  273.0   \n",
              "1009  393.45000   6.48  22.00  NaN    NaN    NaN   NaN     NaN  NaN    NaN   \n",
              "1010    0.04741   0.00  11.93  0.0  0.573  6.030  80.8  2.5050  1.0  273.0   \n",
              "1011  396.90000   7.88  11.90  NaN    NaN    NaN   NaN     NaN  NaN    NaN   \n",
              "\n",
              "        10  \n",
              "0     15.3  \n",
              "1      NaN  \n",
              "2     17.8  \n",
              "3      NaN  \n",
              "4     17.8  \n",
              "...    ...  \n",
              "1007   NaN  \n",
              "1008  21.0  \n",
              "1009   NaN  \n",
              "1010  21.0  \n",
              "1011   NaN  \n",
              "\n",
              "[1012 rows x 11 columns]"
            ],
            "text/html": [
              "\n",
              "\n",
              "  <div id=\"df-1d73069a-fb91-4a39-bbf9-0ee8432ee8e1\">\n",
              "    <div class=\"colab-df-container\">\n",
              "      <div>\n",
              "<style scoped>\n",
              "    .dataframe tbody tr th:only-of-type {\n",
              "        vertical-align: middle;\n",
              "    }\n",
              "\n",
              "    .dataframe tbody tr th {\n",
              "        vertical-align: top;\n",
              "    }\n",
              "\n",
              "    .dataframe thead th {\n",
              "        text-align: right;\n",
              "    }\n",
              "</style>\n",
              "<table border=\"1\" class=\"dataframe\">\n",
              "  <thead>\n",
              "    <tr style=\"text-align: right;\">\n",
              "      <th></th>\n",
              "      <th>0</th>\n",
              "      <th>1</th>\n",
              "      <th>2</th>\n",
              "      <th>3</th>\n",
              "      <th>4</th>\n",
              "      <th>5</th>\n",
              "      <th>6</th>\n",
              "      <th>7</th>\n",
              "      <th>8</th>\n",
              "      <th>9</th>\n",
              "      <th>10</th>\n",
              "    </tr>\n",
              "  </thead>\n",
              "  <tbody>\n",
              "    <tr>\n",
              "      <th>0</th>\n",
              "      <td>0.00632</td>\n",
              "      <td>18.00</td>\n",
              "      <td>2.31</td>\n",
              "      <td>0.0</td>\n",
              "      <td>0.538</td>\n",
              "      <td>6.575</td>\n",
              "      <td>65.2</td>\n",
              "      <td>4.0900</td>\n",
              "      <td>1.0</td>\n",
              "      <td>296.0</td>\n",
              "      <td>15.3</td>\n",
              "    </tr>\n",
              "    <tr>\n",
              "      <th>1</th>\n",
              "      <td>396.90000</td>\n",
              "      <td>4.98</td>\n",
              "      <td>24.00</td>\n",
              "      <td>NaN</td>\n",
              "      <td>NaN</td>\n",
              "      <td>NaN</td>\n",
              "      <td>NaN</td>\n",
              "      <td>NaN</td>\n",
              "      <td>NaN</td>\n",
              "      <td>NaN</td>\n",
              "      <td>NaN</td>\n",
              "    </tr>\n",
              "    <tr>\n",
              "      <th>2</th>\n",
              "      <td>0.02731</td>\n",
              "      <td>0.00</td>\n",
              "      <td>7.07</td>\n",
              "      <td>0.0</td>\n",
              "      <td>0.469</td>\n",
              "      <td>6.421</td>\n",
              "      <td>78.9</td>\n",
              "      <td>4.9671</td>\n",
              "      <td>2.0</td>\n",
              "      <td>242.0</td>\n",
              "      <td>17.8</td>\n",
              "    </tr>\n",
              "    <tr>\n",
              "      <th>3</th>\n",
              "      <td>396.90000</td>\n",
              "      <td>9.14</td>\n",
              "      <td>21.60</td>\n",
              "      <td>NaN</td>\n",
              "      <td>NaN</td>\n",
              "      <td>NaN</td>\n",
              "      <td>NaN</td>\n",
              "      <td>NaN</td>\n",
              "      <td>NaN</td>\n",
              "      <td>NaN</td>\n",
              "      <td>NaN</td>\n",
              "    </tr>\n",
              "    <tr>\n",
              "      <th>4</th>\n",
              "      <td>0.02729</td>\n",
              "      <td>0.00</td>\n",
              "      <td>7.07</td>\n",
              "      <td>0.0</td>\n",
              "      <td>0.469</td>\n",
              "      <td>7.185</td>\n",
              "      <td>61.1</td>\n",
              "      <td>4.9671</td>\n",
              "      <td>2.0</td>\n",
              "      <td>242.0</td>\n",
              "      <td>17.8</td>\n",
              "    </tr>\n",
              "    <tr>\n",
              "      <th>...</th>\n",
              "      <td>...</td>\n",
              "      <td>...</td>\n",
              "      <td>...</td>\n",
              "      <td>...</td>\n",
              "      <td>...</td>\n",
              "      <td>...</td>\n",
              "      <td>...</td>\n",
              "      <td>...</td>\n",
              "      <td>...</td>\n",
              "      <td>...</td>\n",
              "      <td>...</td>\n",
              "    </tr>\n",
              "    <tr>\n",
              "      <th>1007</th>\n",
              "      <td>396.90000</td>\n",
              "      <td>5.64</td>\n",
              "      <td>23.90</td>\n",
              "      <td>NaN</td>\n",
              "      <td>NaN</td>\n",
              "      <td>NaN</td>\n",
              "      <td>NaN</td>\n",
              "      <td>NaN</td>\n",
              "      <td>NaN</td>\n",
              "      <td>NaN</td>\n",
              "      <td>NaN</td>\n",
              "    </tr>\n",
              "    <tr>\n",
              "      <th>1008</th>\n",
              "      <td>0.10959</td>\n",
              "      <td>0.00</td>\n",
              "      <td>11.93</td>\n",
              "      <td>0.0</td>\n",
              "      <td>0.573</td>\n",
              "      <td>6.794</td>\n",
              "      <td>89.3</td>\n",
              "      <td>2.3889</td>\n",
              "      <td>1.0</td>\n",
              "      <td>273.0</td>\n",
              "      <td>21.0</td>\n",
              "    </tr>\n",
              "    <tr>\n",
              "      <th>1009</th>\n",
              "      <td>393.45000</td>\n",
              "      <td>6.48</td>\n",
              "      <td>22.00</td>\n",
              "      <td>NaN</td>\n",
              "      <td>NaN</td>\n",
              "      <td>NaN</td>\n",
              "      <td>NaN</td>\n",
              "      <td>NaN</td>\n",
              "      <td>NaN</td>\n",
              "      <td>NaN</td>\n",
              "      <td>NaN</td>\n",
              "    </tr>\n",
              "    <tr>\n",
              "      <th>1010</th>\n",
              "      <td>0.04741</td>\n",
              "      <td>0.00</td>\n",
              "      <td>11.93</td>\n",
              "      <td>0.0</td>\n",
              "      <td>0.573</td>\n",
              "      <td>6.030</td>\n",
              "      <td>80.8</td>\n",
              "      <td>2.5050</td>\n",
              "      <td>1.0</td>\n",
              "      <td>273.0</td>\n",
              "      <td>21.0</td>\n",
              "    </tr>\n",
              "    <tr>\n",
              "      <th>1011</th>\n",
              "      <td>396.90000</td>\n",
              "      <td>7.88</td>\n",
              "      <td>11.90</td>\n",
              "      <td>NaN</td>\n",
              "      <td>NaN</td>\n",
              "      <td>NaN</td>\n",
              "      <td>NaN</td>\n",
              "      <td>NaN</td>\n",
              "      <td>NaN</td>\n",
              "      <td>NaN</td>\n",
              "      <td>NaN</td>\n",
              "    </tr>\n",
              "  </tbody>\n",
              "</table>\n",
              "<p>1012 rows × 11 columns</p>\n",
              "</div>\n",
              "      <button class=\"colab-df-convert\" onclick=\"convertToInteractive('df-1d73069a-fb91-4a39-bbf9-0ee8432ee8e1')\"\n",
              "              title=\"Convert this dataframe to an interactive table.\"\n",
              "              style=\"display:none;\">\n",
              "\n",
              "  <svg xmlns=\"http://www.w3.org/2000/svg\" height=\"24px\"viewBox=\"0 0 24 24\"\n",
              "       width=\"24px\">\n",
              "    <path d=\"M0 0h24v24H0V0z\" fill=\"none\"/>\n",
              "    <path d=\"M18.56 5.44l.94 2.06.94-2.06 2.06-.94-2.06-.94-.94-2.06-.94 2.06-2.06.94zm-11 1L8.5 8.5l.94-2.06 2.06-.94-2.06-.94L8.5 2.5l-.94 2.06-2.06.94zm10 10l.94 2.06.94-2.06 2.06-.94-2.06-.94-.94-2.06-.94 2.06-2.06.94z\"/><path d=\"M17.41 7.96l-1.37-1.37c-.4-.4-.92-.59-1.43-.59-.52 0-1.04.2-1.43.59L10.3 9.45l-7.72 7.72c-.78.78-.78 2.05 0 2.83L4 21.41c.39.39.9.59 1.41.59.51 0 1.02-.2 1.41-.59l7.78-7.78 2.81-2.81c.8-.78.8-2.07 0-2.86zM5.41 20L4 18.59l7.72-7.72 1.47 1.35L5.41 20z\"/>\n",
              "  </svg>\n",
              "      </button>\n",
              "\n",
              "\n",
              "\n",
              "    <div id=\"df-38e63cf9-b893-44a0-afd5-0b7110026fd7\">\n",
              "      <button class=\"colab-df-quickchart\" onclick=\"quickchart('df-38e63cf9-b893-44a0-afd5-0b7110026fd7')\"\n",
              "              title=\"Suggest charts.\"\n",
              "              style=\"display:none;\">\n",
              "\n",
              "<svg xmlns=\"http://www.w3.org/2000/svg\" height=\"24px\"viewBox=\"0 0 24 24\"\n",
              "     width=\"24px\">\n",
              "    <g>\n",
              "        <path d=\"M19 3H5c-1.1 0-2 .9-2 2v14c0 1.1.9 2 2 2h14c1.1 0 2-.9 2-2V5c0-1.1-.9-2-2-2zM9 17H7v-7h2v7zm4 0h-2V7h2v10zm4 0h-2v-4h2v4z\"/>\n",
              "    </g>\n",
              "</svg>\n",
              "      </button>\n",
              "    </div>\n",
              "\n",
              "<style>\n",
              "  .colab-df-quickchart {\n",
              "    background-color: #E8F0FE;\n",
              "    border: none;\n",
              "    border-radius: 50%;\n",
              "    cursor: pointer;\n",
              "    display: none;\n",
              "    fill: #1967D2;\n",
              "    height: 32px;\n",
              "    padding: 0 0 0 0;\n",
              "    width: 32px;\n",
              "  }\n",
              "\n",
              "  .colab-df-quickchart:hover {\n",
              "    background-color: #E2EBFA;\n",
              "    box-shadow: 0px 1px 2px rgba(60, 64, 67, 0.3), 0px 1px 3px 1px rgba(60, 64, 67, 0.15);\n",
              "    fill: #174EA6;\n",
              "  }\n",
              "\n",
              "  [theme=dark] .colab-df-quickchart {\n",
              "    background-color: #3B4455;\n",
              "    fill: #D2E3FC;\n",
              "  }\n",
              "\n",
              "  [theme=dark] .colab-df-quickchart:hover {\n",
              "    background-color: #434B5C;\n",
              "    box-shadow: 0px 1px 3px 1px rgba(0, 0, 0, 0.15);\n",
              "    filter: drop-shadow(0px 1px 2px rgba(0, 0, 0, 0.3));\n",
              "    fill: #FFFFFF;\n",
              "  }\n",
              "</style>\n",
              "\n",
              "    <script>\n",
              "      async function quickchart(key) {\n",
              "        const containerElement = document.querySelector('#' + key);\n",
              "        const charts = await google.colab.kernel.invokeFunction(\n",
              "            'suggestCharts', [key], {});\n",
              "      }\n",
              "    </script>\n",
              "\n",
              "      <script>\n",
              "\n",
              "function displayQuickchartButton(domScope) {\n",
              "  let quickchartButtonEl =\n",
              "    domScope.querySelector('#df-38e63cf9-b893-44a0-afd5-0b7110026fd7 button.colab-df-quickchart');\n",
              "  quickchartButtonEl.style.display =\n",
              "    google.colab.kernel.accessAllowed ? 'block' : 'none';\n",
              "}\n",
              "\n",
              "        displayQuickchartButton(document);\n",
              "      </script>\n",
              "      <style>\n",
              "    .colab-df-container {\n",
              "      display:flex;\n",
              "      flex-wrap:wrap;\n",
              "      gap: 12px;\n",
              "    }\n",
              "\n",
              "    .colab-df-convert {\n",
              "      background-color: #E8F0FE;\n",
              "      border: none;\n",
              "      border-radius: 50%;\n",
              "      cursor: pointer;\n",
              "      display: none;\n",
              "      fill: #1967D2;\n",
              "      height: 32px;\n",
              "      padding: 0 0 0 0;\n",
              "      width: 32px;\n",
              "    }\n",
              "\n",
              "    .colab-df-convert:hover {\n",
              "      background-color: #E2EBFA;\n",
              "      box-shadow: 0px 1px 2px rgba(60, 64, 67, 0.3), 0px 1px 3px 1px rgba(60, 64, 67, 0.15);\n",
              "      fill: #174EA6;\n",
              "    }\n",
              "\n",
              "    [theme=dark] .colab-df-convert {\n",
              "      background-color: #3B4455;\n",
              "      fill: #D2E3FC;\n",
              "    }\n",
              "\n",
              "    [theme=dark] .colab-df-convert:hover {\n",
              "      background-color: #434B5C;\n",
              "      box-shadow: 0px 1px 3px 1px rgba(0, 0, 0, 0.15);\n",
              "      filter: drop-shadow(0px 1px 2px rgba(0, 0, 0, 0.3));\n",
              "      fill: #FFFFFF;\n",
              "    }\n",
              "  </style>\n",
              "\n",
              "      <script>\n",
              "        const buttonEl =\n",
              "          document.querySelector('#df-1d73069a-fb91-4a39-bbf9-0ee8432ee8e1 button.colab-df-convert');\n",
              "        buttonEl.style.display =\n",
              "          google.colab.kernel.accessAllowed ? 'block' : 'none';\n",
              "\n",
              "        async function convertToInteractive(key) {\n",
              "          const element = document.querySelector('#df-1d73069a-fb91-4a39-bbf9-0ee8432ee8e1');\n",
              "          const dataTable =\n",
              "            await google.colab.kernel.invokeFunction('convertToInteractive',\n",
              "                                                     [key], {});\n",
              "          if (!dataTable) return;\n",
              "\n",
              "          const docLinkHtml = 'Like what you see? Visit the ' +\n",
              "            '<a target=\"_blank\" href=https://colab.research.google.com/notebooks/data_table.ipynb>data table notebook</a>'\n",
              "            + ' to learn more about interactive tables.';\n",
              "          element.innerHTML = '';\n",
              "          dataTable['output_type'] = 'display_data';\n",
              "          await google.colab.output.renderOutput(dataTable, element);\n",
              "          const docLink = document.createElement('div');\n",
              "          docLink.innerHTML = docLinkHtml;\n",
              "          element.appendChild(docLink);\n",
              "        }\n",
              "      </script>\n",
              "    </div>\n",
              "  </div>\n"
            ]
          },
          "metadata": {},
          "execution_count": 118
        }
      ]
    },
    {
      "cell_type": "code",
      "execution_count": null,
      "metadata": {
        "id": "ZpZwcyfiHNER"
      },
      "outputs": [],
      "source": [
        "boston = load_boston()\n",
        "boston"
      ]
    },
    {
      "cell_type": "code",
      "execution_count": null,
      "metadata": {
        "id": "_6g6FAriyCqA"
      },
      "outputs": [],
      "source": [
        "boston['data']"
      ]
    },
    {
      "cell_type": "code",
      "execution_count": null,
      "metadata": {
        "id": "UVolSnJ2ySsb"
      },
      "outputs": [],
      "source": [
        "boston['target']"
      ]
    },
    {
      "cell_type": "code",
      "execution_count": null,
      "metadata": {
        "id": "d5G17SvnynLU"
      },
      "outputs": [],
      "source": [
        "boston['feature_names']"
      ]
    },
    {
      "cell_type": "code",
      "execution_count": null,
      "metadata": {
        "id": "7L_jQuls1BMJ"
      },
      "outputs": [],
      "source": [
        "boston['data'].shape, boston['target'].shape"
      ]
    },
    {
      "cell_type": "code",
      "source": [
        "data.shape, target.shape"
      ],
      "metadata": {
        "colab": {
          "base_uri": "https://localhost:8080/"
        },
        "id": "70k5TFZKR7Mc",
        "outputId": "749ce113-a109-4825-a4f7-85a102a1b510"
      },
      "execution_count": 119,
      "outputs": [
        {
          "output_type": "execute_result",
          "data": {
            "text/plain": [
              "((506, 13), (506,))"
            ]
          },
          "metadata": {},
          "execution_count": 119
        }
      ]
    },
    {
      "cell_type": "code",
      "execution_count": null,
      "metadata": {
        "id": "oqbYWlwfSM3i"
      },
      "outputs": [],
      "source": [
        "train_test_split?"
      ]
    },
    {
      "cell_type": "code",
      "execution_count": 120,
      "metadata": {
        "id": "coJxJNEa1Q3q"
      },
      "outputs": [],
      "source": [
        "from sklearn.model_selection import train_test_split\n",
        "\n",
        "X_train, X_test, y_train, y_test = train_test_split(data, target,\n",
        "                                                    test_size=0.2,\n",
        "                                                    shuffle=True)"
      ]
    },
    {
      "cell_type": "code",
      "execution_count": null,
      "metadata": {
        "id": "SvaIJxdaMKN9"
      },
      "outputs": [],
      "source": [
        "LinearRegression?"
      ]
    },
    {
      "cell_type": "code",
      "execution_count": 121,
      "metadata": {
        "colab": {
          "base_uri": "https://localhost:8080/"
        },
        "id": "Nye0BPzd3num",
        "outputId": "b06ad004-65a1-4cdc-85f0-028daf261bb6"
      },
      "outputs": [
        {
          "output_type": "stream",
          "name": "stdout",
          "text": [
            "learning finished..\n",
            "coef_: [-1.04345338e-01  4.94057214e-02  4.89599706e-02  3.53735217e+00\n",
            " -1.73464472e+01  3.93978339e+00 -7.88517347e-03 -1.40514603e+00\n",
            "  2.85580472e-01 -1.18254742e-02 -9.18403516e-01  8.35958615e-03\n",
            " -4.87882219e-01]\n",
            "\n",
            "bias: 34.370932733430266\n"
          ]
        }
      ],
      "source": [
        "from sklearn.linear_model import LinearRegression\n",
        "\n",
        "hypothesis = LinearRegression()\n",
        "\n",
        "model_boston = hypothesis.fit(X_train, y_train)\n",
        "\n",
        "print('learning finished..')\n",
        "print('coef_: {}'.format(model_boston.coef_))\n",
        "print()\n",
        "print('bias: {}'.format(model_boston.intercept_))"
      ]
    },
    {
      "cell_type": "code",
      "execution_count": 122,
      "metadata": {
        "colab": {
          "base_uri": "https://localhost:8080/"
        },
        "id": "qtNKjlAW56Gf",
        "outputId": "85d12fc9-fab5-4461-f29f-b9c58f7bbfab"
      },
      "outputs": [
        {
          "output_type": "execute_result",
          "data": {
            "text/plain": [
              "(0.7479961272919806, 0.7032393113894881)"
            ]
          },
          "metadata": {},
          "execution_count": 122
        }
      ],
      "source": [
        "model_boston.score(X_train, y_train), model_boston.score(X_test, y_test)"
      ]
    },
    {
      "cell_type": "code",
      "execution_count": 123,
      "metadata": {
        "colab": {
          "base_uri": "https://localhost:8080/"
        },
        "id": "-RfIidFw6G1A",
        "outputId": "d24a77bd-0df8-49cf-f637-2d4bb2a6310a"
      },
      "outputs": [
        {
          "output_type": "execute_result",
          "data": {
            "text/plain": [
              "array([17.08849919, 16.49459637, 22.72530761, 32.15263675, 22.73952122,\n",
              "       25.84550495,  0.87558217,  7.65719384, 20.95710565, 18.81946976,\n",
              "       32.61576264, 22.08846157, 23.60367007, 30.32269692, 17.56537986,\n",
              "       22.14774309, 23.22274258, 20.05396752, 34.1632782 , 22.69110114,\n",
              "       28.03877393, 18.03567498, 26.26992887, 12.11348211, 20.71659731,\n",
              "       32.33626646, 17.55671765, 13.58314561, 16.06826926, 15.12845622,\n",
              "       20.5255742 , 24.21800277, 24.7218032 , 22.57603278, 29.08947915,\n",
              "       21.25431252, 12.300404  , 14.98850134, 16.54530214, 21.87016192,\n",
              "       24.9232016 , 35.51471724, 21.8645078 , 36.56480551, 19.36415389,\n",
              "       30.71427025, 20.30633648, 23.5061087 , 13.0725402 , 31.97129   ,\n",
              "       22.69535283, 25.88749641, 31.4888108 , 34.71566729, 13.8707338 ,\n",
              "       22.35520741, 28.43717815, 17.77532934, 27.01853829, 27.06856423,\n",
              "       11.87277352, 17.73623763, 18.88030703, 14.08090848,  5.99396563,\n",
              "       17.55211552, 30.57942152, 12.6022926 , 18.15316309, 25.16925641,\n",
              "       32.69371822, 20.47709838, 17.11775548, 34.88607989, 15.71952432,\n",
              "       14.49135233, 20.36095622, 22.2316221 , 19.58088578, 22.69552995,\n",
              "       18.98989168, 20.05072799, 29.89198125, 11.55341048, 35.2929086 ,\n",
              "       17.81598987, 19.55099409, 24.93292481, 11.34724954, 26.69069829,\n",
              "       21.25344932, 13.38134272, 21.85460498, 23.47506373, 24.60733913,\n",
              "       28.53282728, 23.09643247, 21.86312872, 15.70297588, 30.19297808,\n",
              "       40.22772157, 39.13844774])"
            ]
          },
          "metadata": {},
          "execution_count": 123
        }
      ],
      "source": [
        "model_boston.predict(X_test)"
      ]
    },
    {
      "cell_type": "code",
      "execution_count": null,
      "metadata": {
        "id": "IkqUSbqQSsJj"
      },
      "outputs": [],
      "source": []
    }
  ],
  "metadata": {
    "colab": {
      "provenance": [],
      "include_colab_link": true
    },
    "kernelspec": {
      "display_name": "Python 3",
      "language": "python",
      "name": "python3"
    },
    "language_info": {
      "codemirror_mode": {
        "name": "ipython",
        "version": 3
      },
      "file_extension": ".py",
      "mimetype": "text/x-python",
      "name": "python",
      "nbconvert_exporter": "python",
      "pygments_lexer": "ipython3",
      "version": "3.7.4"
    }
  },
  "nbformat": 4,
  "nbformat_minor": 0
}